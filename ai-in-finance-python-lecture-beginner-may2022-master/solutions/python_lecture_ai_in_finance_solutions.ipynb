{
  "cells": [
    {
      "cell_type": "markdown",
      "metadata": {
        "id": "MfCDJSuybsp7"
      },
      "source": [
        "# Python: AI in Finance\n",
        "**Instructor:** Akrom Nasirov\n",
        "\n",
        "In this lecture you will explore how AI can be used in Finance, how to make a simple AI model in Python, what are the consequences of using this model in real life.\n",
        "\n",
        "\n",
        "---\n",
        "\n",
        "\n",
        "***Learning objectives***\n",
        "\n",
        "After completing this lecture, you will be able to:\n",
        "\n",
        "* explain how AI can be used in Finance\n",
        "* build, train and evaluate a simple AI model in Python\n",
        "* understand and combat consequences of using this AI model in real life\n",
        "\n",
        "\n",
        "---\n",
        "\n",
        "\n",
        "Prerequisites: \n",
        "* Laptop\n",
        "* Access to the internet\n",
        "* Basic Python knowledge\n"
      ]
    },
    {
      "cell_type": "markdown",
      "metadata": {
        "id": "phD4L3TPao-R"
      },
      "source": [
        "# AI in Finance: Theory (20 min)"
      ]
    },
    {
      "cell_type": "markdown",
      "metadata": {
        "id": "4lJCqUkCcFs5"
      },
      "source": [
        "## What differentiates financial sector in using AI\n",
        "\n",
        "The challenges provided by an increasing adoption of AI are not exclusive to the financial sector. Still, from an AI-perspective finance differs from other industries in a number of important ways that warrant an adequate regulatory and supervisory response.\n",
        "\n",
        "One such difference is that ***the financial sector is commonly held to a higher societal standard*** than many other industries, as trust in financial\n",
        "institutions is considered essential for an effective financial system. Furthermore, many consumers regard financial institutions like banks, insurance\n",
        "companies, and pension funds ***to be providers of a utility function***. The data that these companies extract from their customers are therefore regarded as a by-product of this function, instead of a commercial asset for the financial sector to monetise. Even data usage that is acceptable from a strictly legalistic perspective can result in material reputational damage if it does not correspond to the expectations of society at large.\n",
        "\n",
        "Another aspect that makes finance special is ***the potential impact of AI on financial stability***. The financial system is not impervious to shocks. As\n",
        "experienced in the global financial crisis, problems can propagate through the system rapidly. When AI increasingly manages financial transactions, relatively small incidents could have major consequences. Given the increasing importance\n",
        "of tech giants in providing AI-related services and infrastructure, the concept of systemic importance may also need to be extended to include these companies at some point.\n",
        "\n",
        "Given the inherent interconnectivity of the financial system, ***the rise of AI has a strong international dimension***. An adequate policy response will require close international cooperation and clear minimum standards and guidelines for the sector to adhere to. Regulatory arbitrage in the area of AI could have dangerous consequences and should be prevented where possible.\n",
        "\n",
        "Finance can also be different from other industries as many financial services have ***a very specific data environment***. Because\n",
        "of cultural and legal differences data are, in many cases, only representative for domestic markets. Good examples of this are data pertaining to credit, pensions and mortgages. This may provide a challenge for the development of data-hungry AI systems, especially for relatively small markets as that of the Netherlands. Furthermore, because of ***continuous changes to the financial regulatory framework***, historic data quickly becomes less representative and unusable for training AI-enabled systems.\n",
        "\n",
        "The progress of AI in beating humans in increasingly difficult games should also give us pause. In its design, the stock market is set up as a perfect\n",
        "information game, in which all participants have access to the same information.Banking and insurance can arguably be regarded as imperfect information games: customers have information regarding their financial position and risk profile\n",
        "that is unavailable to banks and insurance companies. AIs like AlphaGo and Liberatus are making huge strides in ***beating humans in both perfect and\n",
        "imperfect information games***. Now that computer performance is progressing to the point where it equals the raw performance capabilities of the human brain, we should consider the possibility that at some point – perhaps sooner than we think – AIs could surpass human agents in trading, banking and insurance as well.\n",
        "\n",
        "Finally, the increasing importance of AI for the financial sector also invites us ***to rethink our traditional supervisory paradigms***. When it comes to AI, strong operational controls could be more important than capital and liquidity buffers. We will increasingly come across business models that are driven primarily by the monetization of data, rather than by product fees and interest margins."
      ]
    },
    {
      "cell_type": "markdown",
      "metadata": {
        "id": "TBwjvmVQQL65"
      },
      "source": [
        "## Current adoption of AI in Finance\n",
        "\n",
        "AI adoption in the financial sector already is quite widespread, even though we might not always be aware of its presence. \n",
        "\n",
        "**Customer interaction**\n",
        "\n",
        "AI-enabled chatbots that use natural language processing techniques to provide a\n",
        "24/7 first line of customer interaction. Intelligent chatbots can save costs dramatically as they reduce the need for customer service call centres. The Dutch insurance company ***ASR***’s chatbot-based website is a typical example of such an intelligent chatbot. Increasingly, companies opt to integrate\n",
        "their chatbots into existing platforms such as Facebook Messenger or WhatsApp, as well as speech-enabled platforms such as Google Assistant, Apple Siri and Amazon Alexa.\n",
        "\n",
        "**Client oboarding**\n",
        "\n",
        "Nowadays, when we want to open a new bank account, we are likely to encounter AI during the onboarding process. ***Rabobank***, for instance, uses UK-based iProov’s deep-learning driven ‘Face Verifier’ to match a selfie with the face image from the customer’s identity document, including liveness check. Rabobank uses this service in conjunction with ‘ReadID’ to verify the ID document’s authenticity, which also uses AI techniques such as optical character recognition.\n",
        "\n",
        "**Account information services**\n",
        "\n",
        "AI is also commonly used in account information services, such as ***ABN AMRO***’s ‘Grip’ app. Grip uses machine learning to automatically classify incoming and outgoing transactions and assigns them to categories that are relevant to the app’s user. The app also provides insight into possible saving\n",
        "opportunities as well as more general budgeting services. With the recent implementation of PSD2 more such apps by third-party service providers are\n",
        "expected to be introduced. \n",
        "\n",
        "**Fraud detection**\n",
        "\n",
        "Dutch fintech company ***FRISS*** is an AI-enabled service provider that is used by various Dutch insurance companies for fraud detection in claims\n",
        "management. Their system uses expert knowledge, proprietary data, and external data sources to provide real time risk scores. FRISS also offers AI-driven risk assessment at underwriting and CDD solutions for onboarding new clients.\n",
        "\n",
        "**Investor services**\n",
        "\n",
        "***ING***’s ‘Katana’ tool helps bond traders with their pricing decisions. Katana employs predictive analytics, based on historic and real-time data,\n",
        "to help traders decide what price to quote when buying and selling bonds for their clients. This tool is a typical example of how AI can be used for\n",
        "augmentation (rather than for automation) as it analyses and visualises relevant information for the user to decide on.\n",
        "\n",
        "**Transaction monitoring**\n",
        "\n",
        "***BusinessForensics***’ HQ Craft is an example of an AI-driven solution for real-time AML transaction monitoring. This big data processing platform uses\n",
        "data analysis of network transactions, forensic analysis, fraud management and machine learning. This Netherlands-based company provides its services to various Dutch banks and insurance companies.\n",
        "\n",
        "**Car insurance**\n",
        "\n",
        "***Fairzekering*** is a Dutch AI-enabled car insurance product. The insurance company analyses their customers’ driving behaviour based on the data collected by a smart module ‘Chipin’ that is installed in their customers’ cars. Depending on your risk score, you get a 0-35% discount on your monthly rate. Customers also have access to a dashboard that provides them with additional insights in their driving behaviour.\n",
        "\n",
        "**Document analysis**\n",
        "\n",
        "***JPMorgan Chase*** developed an AI-driven Contract Intelligence platform called ‘COiN’ to analyse legal documents and extract important data points and\n",
        "clauses. According to JPMorgan, the system was used to review 12,000 annual commercial credit agreements, which would normally take 360,000 hours to review manually. A number of Dutch banks and insurance companies have indicated that\n",
        "they are also implementing automated solutions to analyse documents.\n",
        "\n",
        "**Customer relationship management**\n",
        "\n",
        "***Salesforce*** is an AI-enabled CRM platform that offers companies a wide variety of tools to support their client interaction. One of their products, ‘Einstein’, that now is a part of Tableau CRM, uses AI to provide lead scoring, activity capture, opportunity insights, and account insights services. Various Dutch financial firms are among Salesforce’s customers.\n",
        "\n",
        "**Portfolio management and risk analytics**\n",
        "\n",
        "***BlackRock***’s ‘Aladdin’ is an example of a financial platform that increasingly applies AI. Aladdin is a widely used operating system that combines AI with sophisticated risk analytics, comprehensive portfolio\n",
        "management, trading execution and investment operations tools on a single platform. Today, Aladdin is used to manage an estimated 18 trillion US dollars\n",
        "in assets globally. BlackRock’s platform is used by numerous Dutch financial institutions, including major banks and pension funds.\n"
      ]
    },
    {
      "cell_type": "markdown",
      "metadata": {
        "id": "FDHhFfXsRmVt"
      },
      "source": [
        "## What's next for AI in Finance\n",
        "\n",
        "The latest report of the World Economic Forum (WEF) titled “The Future of AI and Automation in Financial Services” provides an insightful forward-looking perspective. Although it is hard to predict how AI will exactly shape the\n",
        "financial sector landscape in years to come, the examples provided by the WEF report illustrate the wide variety of potential innovations nicely. \n",
        "\n",
        "**Deposits and lending**\n",
        "\n",
        "The following use cases aim to solve the core customer need of frictionless access to funding and secure movement of data, while also creating a compelling business case for banks of the future:\n",
        "\n",
        "* ***Just-in-time lending***: Tailored small to mid-sized business lending products and advice provided just when the customer's funding needs arise; offered by institutions that factor multiple data sources into a continuous risk analysis and pricing engine.\n",
        "\n",
        "* ***Trusted data steward***: A financial institution (or syndicate of institutions) serves as a central consent management platform that links sources of customer identity attributes (i.e. data) to users of that data (e.g. service providers) and uses Al to scan and \"police\" the third parties misusing client data.\n",
        "\n",
        "**Investment management**\n",
        "\n",
        "The following use cases will help investment managers provide more tailored financial planning and outcomes to customers (both consumers and businesses), while also generating new sources of alpha:\n",
        "\n",
        "* ***Outcomes-based investment products***: Customers are offered the opportunity to purchase investment products that guarantee specific life experiences or outcomes; these products are structured as tokenized contracts that could subsequently be traded on a secondary market.\n",
        "\n",
        "* ***Verifiable impact investing***: A service that provides SMEs the ability to issue investment tokens, directly linked to verified financial and operational data, in order to establish credibility and raise funding from investors who gain access to new and trusted sources of alpha.\n",
        "\n",
        "**Payments**\n",
        "\n",
        "As payments globally move to more real-time, frictionless rails, the next evolution of payments will see increased automation (which benefits the institutions involved) and an enhanced, data-rich purchasing experience (desired by customers)\n",
        "\n",
        "* ***Machine-to-machine (M2M) payment protocol***: A payment network, or consortium of payment networks, banks, wallet providers and other financial institutions, develops a protocol through which asynchronous M2M payments are decisioned, authenticated and transmitted/received on behalf of consumers.\n",
        "\n",
        "* ***Augmented purchases***: A frictionless shopping experience (delivered through AR) providing contextual access to product data and seamless transaction execution, whether the customer is browsing the product virtually or physically\n",
        "\n",
        "**Insurance**\n",
        "\n",
        "Customers are demanding more transparent, digital, and personalized insurance experiences; the following two use cases address these customer needs and are feasible given technology development\n",
        "\n",
        "* ***Dynamic life + health insurance***: An integrated life and health product that proactively serves the customer by collecting real-time data as they engage in everyday activities; this improves the insurance company's risk analysis, allowing for dynamically priced products and personalized customer rewards.\n",
        "\n",
        "* ***Connected post-claims experience***: A post-claims experience created through a connected ecosystem of product/service providers that creates a differentiated claim-handling process to drive customer loyalty and increase back-office efficiency.\n",
        "\n",
        "**Capital markets**\n",
        "\n",
        "The following use cases support capital markets players in their efforts to adopt more data-driven approaches to investing and client service, as well as to improve optimization across different fundamental calculations:\n",
        "\n",
        "* ***Cross bank collateral optimization***: The ability to rapidly allocate collateral in the most efficient way across the entire institution to minimize cost of delivery and transformation costs, using quantum computing and Al.\n",
        "\n",
        "* ***Quantum trade optimization***: Applying quantum computing to supercharge the optimization of trading strategies and asset allocation, minimizing the cost and market impact of trading.\n",
        "\n",
        "* ***Data-linked green bonds***: Green bonus that fund sustainable projects linked to trusted sources of data that help monitor sustainability outcomes and can trigger covenant events.\n",
        "\n",
        "**Market infrastructure**\n",
        "\n",
        "The following use cases were prioritized as significant infrastructural changes expected over the next decade, the use cases would help solve common points of inefficiency for a large number of industry participants:\n",
        "\n",
        "* ***Global fund transfer network***: A DLT fund transfer network that optimizes and improves the speed and transparency of the flow of high-value fund transfers across jurisdictions.\n",
        "\n",
        "* ***Global corporate actions ledger***: A single, permissioned ledger where data on mandatory and voluntary corporate actions are published in machine-readable formats to drive consistency and reduce intermediation.\n",
        "\n",
        "* ***Distributed KYC/AML utility***: A platform that simplifies customer onboarding and continuously monitors transactions, using the combined data and analytical capabilities of all institutions to reduce duplication of effort\n",
        "\n",
        "It is hard to predict whether and how these global trends described by the WEF and other reports will materialise in Europe and in the Netherlands. To a large extent, this will also depend on future regulatory responses. \n",
        "\n",
        "The Payment Service Directive (PSD2), for instance, is expected to enable a number of AI-driven innovations, most notably in deposits, lending and payments. \n",
        "\n",
        "The General Data Protection Regulation (GDPR), on the other hand, sets explicit\n",
        "and implicit constraints on potential innovations by regulating the manner in which companies may use personal data in their product and service offerings. \n",
        "\n",
        "Within Europe, the Dutch financial market seems to be well-suited to become a front-runner in the adoption of AI. Amsterdam and Eindhoven are positioning themselves as upcoming AI hubs and ING has launched a new AI Fintech Lab in\n",
        "collaboration with Delft University of Technology."
      ]
    },
    {
      "cell_type": "markdown",
      "metadata": {
        "id": "HD1T7aFGapTG"
      },
      "source": [
        "# AI in Finance: Use Case (50 min)\n",
        "\n",
        "**Credit Card Application Validation**\n",
        "\n",
        "Your collegues are responsible for the the credit card application validations. Last months the amount of credit card applications grew significantly, so they are not capable of handling all credit card requests anymore. \n",
        "\n",
        "You are tasked to find a solution using an AI model, that should predict the status of a credit card application decision based on available historical data.   \n",
        "\n",
        "To do this you will retrieve data, prepare data for the modelling, train the AI model, and evaluate it. "
      ]
    },
    {
      "cell_type": "markdown",
      "metadata": {
        "id": "R674N2hsqCZX"
      },
      "source": [
        "## Historical data\n",
        "\n",
        "From another department you have received a dataset, which consists of observations covering the demographic data and credit history of applicants.\n",
        "\n",
        "> This dataset is taken from the book \"Econometric Analysis\" by William H. Greene."
      ]
    },
    {
      "cell_type": "markdown",
      "metadata": {
        "id": "FCopzp2S0rZS"
      },
      "source": [
        "Let's start with the import of Python libraries."
      ]
    },
    {
      "cell_type": "code",
      "execution_count": 1,
      "metadata": {
        "id": "v5-DEPiUsl68"
      },
      "outputs": [],
      "source": [
        "# Python libraries for data transformations\n",
        "import pandas as pd\n",
        "\n",
        "# Python library for serializing (in your case used to save models)\n",
        "import joblib\n",
        "\n",
        "# Python library for data preprocessing, modelling, evaluations\n",
        "from sklearn.model_selection import train_test_split \n",
        "from sklearn.ensemble import RandomForestClassifier \n",
        "from sklearn.metrics import confusion_matrix, classification_report, ConfusionMatrixDisplay"
      ]
    },
    {
      "cell_type": "markdown",
      "metadata": {
        "id": "UAR3LtpW1XUJ"
      },
      "source": [
        "Shap library does not included in our environment, that's why we need to install it manually via pip."
      ]
    },
    {
      "cell_type": "code",
      "execution_count": 46,
      "metadata": {
        "colab": {
          "base_uri": "https://localhost:8080/"
        },
        "id": "ETE6-vH8HXKp",
        "outputId": "39fa50cb-45fe-4308-faac-a7006113d106"
      },
      "outputs": [
        {
          "name": "stdout",
          "output_type": "stream",
          "text": [
            "Requirement already satisfied: shap in /usr/local/lib/python3.7/dist-packages (0.40.0)\n",
            "Requirement already satisfied: packaging>20.9 in /usr/local/lib/python3.7/dist-packages (from shap) (21.3)\n",
            "Requirement already satisfied: scipy in /usr/local/lib/python3.7/dist-packages (from shap) (1.4.1)\n",
            "Requirement already satisfied: slicer==0.0.7 in /usr/local/lib/python3.7/dist-packages (from shap) (0.0.7)\n",
            "Requirement already satisfied: pandas in /usr/local/lib/python3.7/dist-packages (from shap) (1.3.5)\n",
            "Requirement already satisfied: numpy in /usr/local/lib/python3.7/dist-packages (from shap) (1.21.6)\n",
            "Requirement already satisfied: scikit-learn in /usr/local/lib/python3.7/dist-packages (from shap) (1.0.2)\n",
            "Requirement already satisfied: numba in /usr/local/lib/python3.7/dist-packages (from shap) (0.51.2)\n",
            "Requirement already satisfied: tqdm>4.25.0 in /usr/local/lib/python3.7/dist-packages (from shap) (4.64.0)\n",
            "Requirement already satisfied: cloudpickle in /usr/local/lib/python3.7/dist-packages (from shap) (1.3.0)\n",
            "Requirement already satisfied: pyparsing!=3.0.5,>=2.0.2 in /usr/local/lib/python3.7/dist-packages (from packaging>20.9->shap) (3.0.9)\n",
            "Requirement already satisfied: llvmlite<0.35,>=0.34.0.dev0 in /usr/local/lib/python3.7/dist-packages (from numba->shap) (0.34.0)\n",
            "Requirement already satisfied: setuptools in /usr/local/lib/python3.7/dist-packages (from numba->shap) (57.4.0)\n",
            "Requirement already satisfied: python-dateutil>=2.7.3 in /usr/local/lib/python3.7/dist-packages (from pandas->shap) (2.8.2)\n",
            "Requirement already satisfied: pytz>=2017.3 in /usr/local/lib/python3.7/dist-packages (from pandas->shap) (2022.1)\n",
            "Requirement already satisfied: six>=1.5 in /usr/local/lib/python3.7/dist-packages (from python-dateutil>=2.7.3->pandas->shap) (1.15.0)\n",
            "Requirement already satisfied: threadpoolctl>=2.0.0 in /usr/local/lib/python3.7/dist-packages (from scikit-learn->shap) (3.1.0)\n",
            "Requirement already satisfied: joblib>=0.11 in /usr/local/lib/python3.7/dist-packages (from scikit-learn->shap) (1.1.0)\n"
          ]
        }
      ],
      "source": [
        "!pip install shap"
      ]
    },
    {
      "cell_type": "code",
      "execution_count": 47,
      "metadata": {
        "id": "wJDHm45K5koQ"
      },
      "outputs": [],
      "source": [
        "# Python library for models interpretability\n",
        "import shap"
      ]
    },
    {
      "cell_type": "markdown",
      "metadata": {
        "id": "wuGRF308tS4U"
      },
      "source": [
        "As all necessary libraries are installed, let's move to the next step: loading of the dataset with Pandas library. Our dataset is represented by a CSV file. Pandas library helps us to read the CSV file, to replace all \"yes\" values with Boolean True and all \"no\" values with Boolean False."
      ]
    },
    {
      "cell_type": "code",
      "execution_count": 48,
      "metadata": {
        "id": "R1V38wV6cvuo"
      },
      "outputs": [],
      "source": [
        "# read csv file using Pandas, replace all \"yes\" values with Boolean True, all \"no\" values with Boolean False\n",
        "credit_card = pd.read_csv(\"https://raw.githubusercontent.com/pyladiesams/ai-in-finance-python-lecture-beginner-may2022/master/dataset/credit_card_data.csv\", true_values=[\"yes\"], false_values=[\"no\"])"
      ]
    },
    {
      "cell_type": "code",
      "execution_count": 49,
      "metadata": {
        "colab": {
          "base_uri": "https://localhost:8080/"
        },
        "id": "nOET2x0gcxGz",
        "outputId": "7b29dfac-e380-4e51-f47e-4d73b2d02c5b"
      },
      "outputs": [
        {
          "data": {
            "text/plain": [
              "(1319, 12)"
            ]
          },
          "execution_count": 49,
          "metadata": {},
          "output_type": "execute_result"
        }
      ],
      "source": [
        "# show the shape of the underlying dataframe\n",
        "credit_card.shape"
      ]
    },
    {
      "cell_type": "code",
      "execution_count": 50,
      "metadata": {
        "colab": {
          "base_uri": "https://localhost:8080/",
          "height": 206
        },
        "id": "IqBuk1_ccw3S",
        "outputId": "2bd28ca0-b5c1-4199-bf54-da02efb66671"
      },
      "outputs": [
        {
          "data": {
            "text/html": [
              "\n",
              "  <div id=\"df-bc65f965-0479-45bd-9e47-818f58a5c1bd\">\n",
              "    <div class=\"colab-df-container\">\n",
              "      <div>\n",
              "<style scoped>\n",
              "    .dataframe tbody tr th:only-of-type {\n",
              "        vertical-align: middle;\n",
              "    }\n",
              "\n",
              "    .dataframe tbody tr th {\n",
              "        vertical-align: top;\n",
              "    }\n",
              "\n",
              "    .dataframe thead th {\n",
              "        text-align: right;\n",
              "    }\n",
              "</style>\n",
              "<table border=\"1\" class=\"dataframe\">\n",
              "  <thead>\n",
              "    <tr style=\"text-align: right;\">\n",
              "      <th></th>\n",
              "      <th>card</th>\n",
              "      <th>reports</th>\n",
              "      <th>age</th>\n",
              "      <th>income</th>\n",
              "      <th>share</th>\n",
              "      <th>expenditure</th>\n",
              "      <th>owner</th>\n",
              "      <th>selfemp</th>\n",
              "      <th>dependents</th>\n",
              "      <th>months</th>\n",
              "      <th>majorcards</th>\n",
              "      <th>active</th>\n",
              "    </tr>\n",
              "  </thead>\n",
              "  <tbody>\n",
              "    <tr>\n",
              "      <th>0</th>\n",
              "      <td>True</td>\n",
              "      <td>0</td>\n",
              "      <td>37.66667</td>\n",
              "      <td>4.5200</td>\n",
              "      <td>0.033270</td>\n",
              "      <td>124.983300</td>\n",
              "      <td>True</td>\n",
              "      <td>False</td>\n",
              "      <td>3</td>\n",
              "      <td>54</td>\n",
              "      <td>1</td>\n",
              "      <td>12</td>\n",
              "    </tr>\n",
              "    <tr>\n",
              "      <th>1</th>\n",
              "      <td>True</td>\n",
              "      <td>0</td>\n",
              "      <td>33.25000</td>\n",
              "      <td>2.4200</td>\n",
              "      <td>0.005217</td>\n",
              "      <td>9.854167</td>\n",
              "      <td>False</td>\n",
              "      <td>False</td>\n",
              "      <td>3</td>\n",
              "      <td>34</td>\n",
              "      <td>1</td>\n",
              "      <td>13</td>\n",
              "    </tr>\n",
              "    <tr>\n",
              "      <th>2</th>\n",
              "      <td>True</td>\n",
              "      <td>0</td>\n",
              "      <td>33.66667</td>\n",
              "      <td>4.5000</td>\n",
              "      <td>0.004156</td>\n",
              "      <td>15.000000</td>\n",
              "      <td>True</td>\n",
              "      <td>False</td>\n",
              "      <td>4</td>\n",
              "      <td>58</td>\n",
              "      <td>1</td>\n",
              "      <td>5</td>\n",
              "    </tr>\n",
              "    <tr>\n",
              "      <th>3</th>\n",
              "      <td>True</td>\n",
              "      <td>0</td>\n",
              "      <td>30.50000</td>\n",
              "      <td>2.5400</td>\n",
              "      <td>0.065214</td>\n",
              "      <td>137.869200</td>\n",
              "      <td>False</td>\n",
              "      <td>False</td>\n",
              "      <td>0</td>\n",
              "      <td>25</td>\n",
              "      <td>1</td>\n",
              "      <td>7</td>\n",
              "    </tr>\n",
              "    <tr>\n",
              "      <th>4</th>\n",
              "      <td>True</td>\n",
              "      <td>0</td>\n",
              "      <td>32.16667</td>\n",
              "      <td>9.7867</td>\n",
              "      <td>0.067051</td>\n",
              "      <td>546.503300</td>\n",
              "      <td>True</td>\n",
              "      <td>False</td>\n",
              "      <td>2</td>\n",
              "      <td>64</td>\n",
              "      <td>1</td>\n",
              "      <td>5</td>\n",
              "    </tr>\n",
              "  </tbody>\n",
              "</table>\n",
              "</div>\n",
              "      <button class=\"colab-df-convert\" onclick=\"convertToInteractive('df-bc65f965-0479-45bd-9e47-818f58a5c1bd')\"\n",
              "              title=\"Convert this dataframe to an interactive table.\"\n",
              "              style=\"display:none;\">\n",
              "        \n",
              "  <svg xmlns=\"http://www.w3.org/2000/svg\" height=\"24px\"viewBox=\"0 0 24 24\"\n",
              "       width=\"24px\">\n",
              "    <path d=\"M0 0h24v24H0V0z\" fill=\"none\"/>\n",
              "    <path d=\"M18.56 5.44l.94 2.06.94-2.06 2.06-.94-2.06-.94-.94-2.06-.94 2.06-2.06.94zm-11 1L8.5 8.5l.94-2.06 2.06-.94-2.06-.94L8.5 2.5l-.94 2.06-2.06.94zm10 10l.94 2.06.94-2.06 2.06-.94-2.06-.94-.94-2.06-.94 2.06-2.06.94z\"/><path d=\"M17.41 7.96l-1.37-1.37c-.4-.4-.92-.59-1.43-.59-.52 0-1.04.2-1.43.59L10.3 9.45l-7.72 7.72c-.78.78-.78 2.05 0 2.83L4 21.41c.39.39.9.59 1.41.59.51 0 1.02-.2 1.41-.59l7.78-7.78 2.81-2.81c.8-.78.8-2.07 0-2.86zM5.41 20L4 18.59l7.72-7.72 1.47 1.35L5.41 20z\"/>\n",
              "  </svg>\n",
              "      </button>\n",
              "      \n",
              "  <style>\n",
              "    .colab-df-container {\n",
              "      display:flex;\n",
              "      flex-wrap:wrap;\n",
              "      gap: 12px;\n",
              "    }\n",
              "\n",
              "    .colab-df-convert {\n",
              "      background-color: #E8F0FE;\n",
              "      border: none;\n",
              "      border-radius: 50%;\n",
              "      cursor: pointer;\n",
              "      display: none;\n",
              "      fill: #1967D2;\n",
              "      height: 32px;\n",
              "      padding: 0 0 0 0;\n",
              "      width: 32px;\n",
              "    }\n",
              "\n",
              "    .colab-df-convert:hover {\n",
              "      background-color: #E2EBFA;\n",
              "      box-shadow: 0px 1px 2px rgba(60, 64, 67, 0.3), 0px 1px 3px 1px rgba(60, 64, 67, 0.15);\n",
              "      fill: #174EA6;\n",
              "    }\n",
              "\n",
              "    [theme=dark] .colab-df-convert {\n",
              "      background-color: #3B4455;\n",
              "      fill: #D2E3FC;\n",
              "    }\n",
              "\n",
              "    [theme=dark] .colab-df-convert:hover {\n",
              "      background-color: #434B5C;\n",
              "      box-shadow: 0px 1px 3px 1px rgba(0, 0, 0, 0.15);\n",
              "      filter: drop-shadow(0px 1px 2px rgba(0, 0, 0, 0.3));\n",
              "      fill: #FFFFFF;\n",
              "    }\n",
              "  </style>\n",
              "\n",
              "      <script>\n",
              "        const buttonEl =\n",
              "          document.querySelector('#df-bc65f965-0479-45bd-9e47-818f58a5c1bd button.colab-df-convert');\n",
              "        buttonEl.style.display =\n",
              "          google.colab.kernel.accessAllowed ? 'block' : 'none';\n",
              "\n",
              "        async function convertToInteractive(key) {\n",
              "          const element = document.querySelector('#df-bc65f965-0479-45bd-9e47-818f58a5c1bd');\n",
              "          const dataTable =\n",
              "            await google.colab.kernel.invokeFunction('convertToInteractive',\n",
              "                                                     [key], {});\n",
              "          if (!dataTable) return;\n",
              "\n",
              "          const docLinkHtml = 'Like what you see? Visit the ' +\n",
              "            '<a target=\"_blank\" href=https://colab.research.google.com/notebooks/data_table.ipynb>data table notebook</a>'\n",
              "            + ' to learn more about interactive tables.';\n",
              "          element.innerHTML = '';\n",
              "          dataTable['output_type'] = 'display_data';\n",
              "          await google.colab.output.renderOutput(dataTable, element);\n",
              "          const docLink = document.createElement('div');\n",
              "          docLink.innerHTML = docLinkHtml;\n",
              "          element.appendChild(docLink);\n",
              "        }\n",
              "      </script>\n",
              "    </div>\n",
              "  </div>\n",
              "  "
            ],
            "text/plain": [
              "   card  reports       age  income     share  expenditure  owner  selfemp  \\\n",
              "0  True        0  37.66667  4.5200  0.033270   124.983300   True    False   \n",
              "1  True        0  33.25000  2.4200  0.005217     9.854167  False    False   \n",
              "2  True        0  33.66667  4.5000  0.004156    15.000000   True    False   \n",
              "3  True        0  30.50000  2.5400  0.065214   137.869200  False    False   \n",
              "4  True        0  32.16667  9.7867  0.067051   546.503300   True    False   \n",
              "\n",
              "   dependents  months  majorcards  active  \n",
              "0           3      54           1      12  \n",
              "1           3      34           1      13  \n",
              "2           4      58           1       5  \n",
              "3           0      25           1       7  \n",
              "4           2      64           1       5  "
            ]
          },
          "execution_count": 50,
          "metadata": {},
          "output_type": "execute_result"
        }
      ],
      "source": [
        "# show a couple of first rows of the dataframe with column names\n",
        "credit_card.head()"
      ]
    },
    {
      "cell_type": "markdown",
      "metadata": {
        "id": "0WIDprdK2Yfc"
      },
      "source": [
        "Now we see that our dataset has 1319 records (rows) and 12 columns."
      ]
    },
    {
      "cell_type": "markdown",
      "metadata": {
        "id": "lbPIZjKRHe1J"
      },
      "source": [
        "Variables Description\n",
        "\n",
        "* **card**: Dummy variable, 1 if application for credit card accepted, 0 if not\n",
        "* **reports**: Number of major derogatory reports\n",
        "* **age**: Age n years plus twelfths of a year\n",
        "* **income**: Yearly income (divided by 10,000)\n",
        "* **share**: Ratio of monthly credit card expenditure to yearly income\n",
        "* **expenditure**: Average monthly credit card expenditure\n",
        "* **owner**: 1 if owns their home, 0 if rents\n",
        "* **selfempl**: 1 if self employed, 0 if not.\n",
        "* **dependents**: 1 + number of dependents\n",
        "* **months**: Months living at current address\n",
        "* **majorcards**: Number of major credit cards held\n",
        "* **active**: Number of active credit accounts"
      ]
    },
    {
      "cell_type": "markdown",
      "metadata": {
        "id": "kqZ_oLvW2lLO"
      },
      "source": [
        "The next logical step should be **EDA** (exploratory data analysis), it is needed to: \n",
        "\n",
        "* validate assumptions whether the dataset is giving answer to your business problem\n",
        "* find which variables require more attention\n",
        "* understant outliers better\n",
        "\n",
        "It's a tremendous chunk of work usually performed by data scientists and/or data analysts.\n",
        "\n",
        "In your case, we assume that the department, that shared data with you, have already performed EDA and sent only important data."
      ]
    },
    {
      "cell_type": "markdown",
      "metadata": {
        "id": "GIDlzTS5OEFv"
      },
      "source": [
        "## Dataset cleaning\n",
        "\n",
        "Our model is not capable to take data as it is. Before showing any data to any model we need to \"clean\" the dataset. \n",
        "In the majority of the cases data cleaning consists of the next steps:\n",
        "* type casting\n",
        "* working with missing values\n",
        "* working with outliers."
      ]
    },
    {
      "cell_type": "markdown",
      "metadata": {
        "id": "j0fFXM51V51E"
      },
      "source": [
        "### Type casting\n",
        "\n",
        "It is the method to convert the variable data type into a certain data type. \n",
        "\n",
        "In your case look for categorical values, which you can't use directly in your model. In case of Pandas DataFrame look for \"object\" type variables."
      ]
    },
    {
      "cell_type": "code",
      "execution_count": 51,
      "metadata": {
        "colab": {
          "base_uri": "https://localhost:8080/"
        },
        "id": "1eRp1iHhc2yc",
        "outputId": "9a68b591-2b6a-483d-9144-c5b380b22bdc"
      },
      "outputs": [
        {
          "name": "stdout",
          "output_type": "stream",
          "text": [
            "<class 'pandas.core.frame.DataFrame'>\n",
            "RangeIndex: 1319 entries, 0 to 1318\n",
            "Data columns (total 12 columns):\n",
            " #   Column       Non-Null Count  Dtype  \n",
            "---  ------       --------------  -----  \n",
            " 0   card         1319 non-null   bool   \n",
            " 1   reports      1319 non-null   int64  \n",
            " 2   age          1319 non-null   float64\n",
            " 3   income       1319 non-null   float64\n",
            " 4   share        1319 non-null   float64\n",
            " 5   expenditure  1319 non-null   float64\n",
            " 6   owner        1319 non-null   bool   \n",
            " 7   selfemp      1319 non-null   bool   \n",
            " 8   dependents   1319 non-null   int64  \n",
            " 9   months       1319 non-null   int64  \n",
            " 10  majorcards   1319 non-null   int64  \n",
            " 11  active       1319 non-null   int64  \n",
            "dtypes: bool(3), float64(4), int64(5)\n",
            "memory usage: 96.7 KB\n"
          ]
        }
      ],
      "source": [
        "# show the dataframe general info\n",
        "credit_card.info()"
      ]
    },
    {
      "cell_type": "markdown",
      "metadata": {
        "id": "zPAM0Qhl6MX4"
      },
      "source": [
        "As you see you do not have any \"object\" types in a dataset as you have already did type casting, while reading CSV file and loading it in a Pandas data frame."
      ]
    },
    {
      "cell_type": "markdown",
      "metadata": {
        "id": "7RdPEqR6V7bD"
      },
      "source": [
        "### Missing values\n",
        "\n",
        "\n",
        "Missing values are often common in datasets. \n",
        "\n",
        "In case of missing values you can:\n",
        "* drop columns/rows with missing values\n",
        "* impute: fill missing values with some number. eg: mean, mode etc.\n",
        "* extend imputation: imputate, in addition with a new column showing location of imputed values."
      ]
    },
    {
      "cell_type": "code",
      "execution_count": 52,
      "metadata": {
        "colab": {
          "base_uri": "https://localhost:8080/"
        },
        "id": "D9U7z8Pnc5lL",
        "outputId": "a0ac5681-793b-4a0b-e117-ea9cfaaf2a9f"
      },
      "outputs": [
        {
          "data": {
            "text/plain": [
              "card           0\n",
              "reports        0\n",
              "age            0\n",
              "income         0\n",
              "share          0\n",
              "expenditure    0\n",
              "owner          0\n",
              "selfemp        0\n",
              "dependents     0\n",
              "months         0\n",
              "majorcards     0\n",
              "active         0\n",
              "dtype: int64"
            ]
          },
          "execution_count": 52,
          "metadata": {},
          "output_type": "execute_result"
        }
      ],
      "source": [
        "# show calculated missing values per variable\n",
        "credit_card.isna().sum(axis=0)"
      ]
    },
    {
      "cell_type": "markdown",
      "metadata": {
        "id": "1xJimRYgiixe"
      },
      "source": [
        "In your case you are lucky, as there are no missing values in this dataset."
      ]
    },
    {
      "cell_type": "markdown",
      "metadata": {
        "id": "eX-Fm-tfV89o"
      },
      "source": [
        "### Outliers\n",
        "\n",
        "They are values that are significantly distant from most observations. There are different methods of handling them, however, this is outside of scope of this lecture."
      ]
    },
    {
      "cell_type": "markdown",
      "metadata": {
        "id": "6GLWfdb3UaW9"
      },
      "source": [
        "## Dataset preprocessing\n",
        "\n",
        "Now you have the data that could be further transformed to be used by your AI model. How the data further will be processed heavily depends on the model type.\n",
        "\n",
        "In your case you need to perform the following steps:\n",
        "\n",
        "* Features and Target split \n",
        "* Train Test Split"
      ]
    },
    {
      "cell_type": "markdown",
      "metadata": {
        "id": "0EZDpm4T6WdB"
      },
      "source": [
        "### Features and Target split\n",
        "\n",
        "Remember, you was tasked to find a solution, that should predict the status of a credit card application decision based on available historical data. It means that you have a binary classification task. "
      ]
    },
    {
      "cell_type": "code",
      "execution_count": 53,
      "metadata": {
        "colab": {
          "base_uri": "https://localhost:8080/",
          "height": 206
        },
        "id": "eeHB2H1yc8Jd",
        "outputId": "cd9d1beb-1c8d-4430-c87d-3d019ff88d3c"
      },
      "outputs": [
        {
          "data": {
            "text/html": [
              "\n",
              "  <div id=\"df-4bfea164-6e28-40de-924a-ee53fd6af74a\">\n",
              "    <div class=\"colab-df-container\">\n",
              "      <div>\n",
              "<style scoped>\n",
              "    .dataframe tbody tr th:only-of-type {\n",
              "        vertical-align: middle;\n",
              "    }\n",
              "\n",
              "    .dataframe tbody tr th {\n",
              "        vertical-align: top;\n",
              "    }\n",
              "\n",
              "    .dataframe thead th {\n",
              "        text-align: right;\n",
              "    }\n",
              "</style>\n",
              "<table border=\"1\" class=\"dataframe\">\n",
              "  <thead>\n",
              "    <tr style=\"text-align: right;\">\n",
              "      <th></th>\n",
              "      <th>card</th>\n",
              "      <th>reports</th>\n",
              "      <th>age</th>\n",
              "      <th>income</th>\n",
              "      <th>share</th>\n",
              "      <th>expenditure</th>\n",
              "      <th>owner</th>\n",
              "      <th>selfemp</th>\n",
              "      <th>dependents</th>\n",
              "      <th>months</th>\n",
              "      <th>majorcards</th>\n",
              "      <th>active</th>\n",
              "    </tr>\n",
              "  </thead>\n",
              "  <tbody>\n",
              "    <tr>\n",
              "      <th>0</th>\n",
              "      <td>True</td>\n",
              "      <td>0</td>\n",
              "      <td>37.66667</td>\n",
              "      <td>4.5200</td>\n",
              "      <td>0.033270</td>\n",
              "      <td>124.983300</td>\n",
              "      <td>True</td>\n",
              "      <td>False</td>\n",
              "      <td>3</td>\n",
              "      <td>54</td>\n",
              "      <td>1</td>\n",
              "      <td>12</td>\n",
              "    </tr>\n",
              "    <tr>\n",
              "      <th>1</th>\n",
              "      <td>True</td>\n",
              "      <td>0</td>\n",
              "      <td>33.25000</td>\n",
              "      <td>2.4200</td>\n",
              "      <td>0.005217</td>\n",
              "      <td>9.854167</td>\n",
              "      <td>False</td>\n",
              "      <td>False</td>\n",
              "      <td>3</td>\n",
              "      <td>34</td>\n",
              "      <td>1</td>\n",
              "      <td>13</td>\n",
              "    </tr>\n",
              "    <tr>\n",
              "      <th>2</th>\n",
              "      <td>True</td>\n",
              "      <td>0</td>\n",
              "      <td>33.66667</td>\n",
              "      <td>4.5000</td>\n",
              "      <td>0.004156</td>\n",
              "      <td>15.000000</td>\n",
              "      <td>True</td>\n",
              "      <td>False</td>\n",
              "      <td>4</td>\n",
              "      <td>58</td>\n",
              "      <td>1</td>\n",
              "      <td>5</td>\n",
              "    </tr>\n",
              "    <tr>\n",
              "      <th>3</th>\n",
              "      <td>True</td>\n",
              "      <td>0</td>\n",
              "      <td>30.50000</td>\n",
              "      <td>2.5400</td>\n",
              "      <td>0.065214</td>\n",
              "      <td>137.869200</td>\n",
              "      <td>False</td>\n",
              "      <td>False</td>\n",
              "      <td>0</td>\n",
              "      <td>25</td>\n",
              "      <td>1</td>\n",
              "      <td>7</td>\n",
              "    </tr>\n",
              "    <tr>\n",
              "      <th>4</th>\n",
              "      <td>True</td>\n",
              "      <td>0</td>\n",
              "      <td>32.16667</td>\n",
              "      <td>9.7867</td>\n",
              "      <td>0.067051</td>\n",
              "      <td>546.503300</td>\n",
              "      <td>True</td>\n",
              "      <td>False</td>\n",
              "      <td>2</td>\n",
              "      <td>64</td>\n",
              "      <td>1</td>\n",
              "      <td>5</td>\n",
              "    </tr>\n",
              "  </tbody>\n",
              "</table>\n",
              "</div>\n",
              "      <button class=\"colab-df-convert\" onclick=\"convertToInteractive('df-4bfea164-6e28-40de-924a-ee53fd6af74a')\"\n",
              "              title=\"Convert this dataframe to an interactive table.\"\n",
              "              style=\"display:none;\">\n",
              "        \n",
              "  <svg xmlns=\"http://www.w3.org/2000/svg\" height=\"24px\"viewBox=\"0 0 24 24\"\n",
              "       width=\"24px\">\n",
              "    <path d=\"M0 0h24v24H0V0z\" fill=\"none\"/>\n",
              "    <path d=\"M18.56 5.44l.94 2.06.94-2.06 2.06-.94-2.06-.94-.94-2.06-.94 2.06-2.06.94zm-11 1L8.5 8.5l.94-2.06 2.06-.94-2.06-.94L8.5 2.5l-.94 2.06-2.06.94zm10 10l.94 2.06.94-2.06 2.06-.94-2.06-.94-.94-2.06-.94 2.06-2.06.94z\"/><path d=\"M17.41 7.96l-1.37-1.37c-.4-.4-.92-.59-1.43-.59-.52 0-1.04.2-1.43.59L10.3 9.45l-7.72 7.72c-.78.78-.78 2.05 0 2.83L4 21.41c.39.39.9.59 1.41.59.51 0 1.02-.2 1.41-.59l7.78-7.78 2.81-2.81c.8-.78.8-2.07 0-2.86zM5.41 20L4 18.59l7.72-7.72 1.47 1.35L5.41 20z\"/>\n",
              "  </svg>\n",
              "      </button>\n",
              "      \n",
              "  <style>\n",
              "    .colab-df-container {\n",
              "      display:flex;\n",
              "      flex-wrap:wrap;\n",
              "      gap: 12px;\n",
              "    }\n",
              "\n",
              "    .colab-df-convert {\n",
              "      background-color: #E8F0FE;\n",
              "      border: none;\n",
              "      border-radius: 50%;\n",
              "      cursor: pointer;\n",
              "      display: none;\n",
              "      fill: #1967D2;\n",
              "      height: 32px;\n",
              "      padding: 0 0 0 0;\n",
              "      width: 32px;\n",
              "    }\n",
              "\n",
              "    .colab-df-convert:hover {\n",
              "      background-color: #E2EBFA;\n",
              "      box-shadow: 0px 1px 2px rgba(60, 64, 67, 0.3), 0px 1px 3px 1px rgba(60, 64, 67, 0.15);\n",
              "      fill: #174EA6;\n",
              "    }\n",
              "\n",
              "    [theme=dark] .colab-df-convert {\n",
              "      background-color: #3B4455;\n",
              "      fill: #D2E3FC;\n",
              "    }\n",
              "\n",
              "    [theme=dark] .colab-df-convert:hover {\n",
              "      background-color: #434B5C;\n",
              "      box-shadow: 0px 1px 3px 1px rgba(0, 0, 0, 0.15);\n",
              "      filter: drop-shadow(0px 1px 2px rgba(0, 0, 0, 0.3));\n",
              "      fill: #FFFFFF;\n",
              "    }\n",
              "  </style>\n",
              "\n",
              "      <script>\n",
              "        const buttonEl =\n",
              "          document.querySelector('#df-4bfea164-6e28-40de-924a-ee53fd6af74a button.colab-df-convert');\n",
              "        buttonEl.style.display =\n",
              "          google.colab.kernel.accessAllowed ? 'block' : 'none';\n",
              "\n",
              "        async function convertToInteractive(key) {\n",
              "          const element = document.querySelector('#df-4bfea164-6e28-40de-924a-ee53fd6af74a');\n",
              "          const dataTable =\n",
              "            await google.colab.kernel.invokeFunction('convertToInteractive',\n",
              "                                                     [key], {});\n",
              "          if (!dataTable) return;\n",
              "\n",
              "          const docLinkHtml = 'Like what you see? Visit the ' +\n",
              "            '<a target=\"_blank\" href=https://colab.research.google.com/notebooks/data_table.ipynb>data table notebook</a>'\n",
              "            + ' to learn more about interactive tables.';\n",
              "          element.innerHTML = '';\n",
              "          dataTable['output_type'] = 'display_data';\n",
              "          await google.colab.output.renderOutput(dataTable, element);\n",
              "          const docLink = document.createElement('div');\n",
              "          docLink.innerHTML = docLinkHtml;\n",
              "          element.appendChild(docLink);\n",
              "        }\n",
              "      </script>\n",
              "    </div>\n",
              "  </div>\n",
              "  "
            ],
            "text/plain": [
              "   card  reports       age  income     share  expenditure  owner  selfemp  \\\n",
              "0  True        0  37.66667  4.5200  0.033270   124.983300   True    False   \n",
              "1  True        0  33.25000  2.4200  0.005217     9.854167  False    False   \n",
              "2  True        0  33.66667  4.5000  0.004156    15.000000   True    False   \n",
              "3  True        0  30.50000  2.5400  0.065214   137.869200  False    False   \n",
              "4  True        0  32.16667  9.7867  0.067051   546.503300   True    False   \n",
              "\n",
              "   dependents  months  majorcards  active  \n",
              "0           3      54           1      12  \n",
              "1           3      34           1      13  \n",
              "2           4      58           1       5  \n",
              "3           0      25           1       7  \n",
              "4           2      64           1       5  "
            ]
          },
          "execution_count": 53,
          "metadata": {},
          "output_type": "execute_result"
        }
      ],
      "source": [
        "# show a couple of first rows of the dataframe with column names\n",
        "credit_card.head()"
      ]
    },
    {
      "cell_type": "markdown",
      "metadata": {
        "id": "yjaDKzN0qG6-"
      },
      "source": [
        "Prediction target (usually referred as \"y\").\n",
        "\n",
        "In your case, True if credit card application is granted and False if not."
      ]
    },
    {
      "cell_type": "code",
      "execution_count": 55,
      "metadata": {
        "colab": {
          "base_uri": "https://localhost:8080/"
        },
        "id": "PqHtTRxvc97k",
        "outputId": "b3a67106-bef4-46a2-8139-a5849895cb3b"
      },
      "outputs": [
        {
          "data": {
            "text/plain": [
              "0        True\n",
              "1        True\n",
              "2        True\n",
              "3        True\n",
              "4        True\n",
              "        ...  \n",
              "1314     True\n",
              "1315    False\n",
              "1316     True\n",
              "1317     True\n",
              "1318     True\n",
              "Name: card, Length: 1319, dtype: bool"
            ]
          },
          "execution_count": 55,
          "metadata": {},
          "output_type": "execute_result"
        }
      ],
      "source": [
        "# store prediction target in y variable\n",
        "y=credit_card.card\n",
        "\n",
        "# show y\n",
        "y"
      ]
    },
    {
      "cell_type": "markdown",
      "metadata": {
        "id": "nVPn6xUkqmN1"
      },
      "source": [
        "Features (usually referred as \"X\")\n",
        "\n",
        "In your case, all variables used to make predictions except the target."
      ]
    },
    {
      "cell_type": "code",
      "execution_count": 56,
      "metadata": {
        "colab": {
          "base_uri": "https://localhost:8080/",
          "height": 424
        },
        "id": "D2CuyiRfc_d8",
        "outputId": "24b9be5d-d618-4669-ae4c-67b7e1946b64"
      },
      "outputs": [
        {
          "data": {
            "text/html": [
              "\n",
              "  <div id=\"df-6c4dc478-ea1b-48bf-b20b-d395fa0bcad5\">\n",
              "    <div class=\"colab-df-container\">\n",
              "      <div>\n",
              "<style scoped>\n",
              "    .dataframe tbody tr th:only-of-type {\n",
              "        vertical-align: middle;\n",
              "    }\n",
              "\n",
              "    .dataframe tbody tr th {\n",
              "        vertical-align: top;\n",
              "    }\n",
              "\n",
              "    .dataframe thead th {\n",
              "        text-align: right;\n",
              "    }\n",
              "</style>\n",
              "<table border=\"1\" class=\"dataframe\">\n",
              "  <thead>\n",
              "    <tr style=\"text-align: right;\">\n",
              "      <th></th>\n",
              "      <th>reports</th>\n",
              "      <th>age</th>\n",
              "      <th>income</th>\n",
              "      <th>share</th>\n",
              "      <th>expenditure</th>\n",
              "      <th>owner</th>\n",
              "      <th>selfemp</th>\n",
              "      <th>dependents</th>\n",
              "      <th>months</th>\n",
              "      <th>majorcards</th>\n",
              "      <th>active</th>\n",
              "    </tr>\n",
              "  </thead>\n",
              "  <tbody>\n",
              "    <tr>\n",
              "      <th>0</th>\n",
              "      <td>0</td>\n",
              "      <td>37.66667</td>\n",
              "      <td>4.5200</td>\n",
              "      <td>0.033270</td>\n",
              "      <td>124.983300</td>\n",
              "      <td>True</td>\n",
              "      <td>False</td>\n",
              "      <td>3</td>\n",
              "      <td>54</td>\n",
              "      <td>1</td>\n",
              "      <td>12</td>\n",
              "    </tr>\n",
              "    <tr>\n",
              "      <th>1</th>\n",
              "      <td>0</td>\n",
              "      <td>33.25000</td>\n",
              "      <td>2.4200</td>\n",
              "      <td>0.005217</td>\n",
              "      <td>9.854167</td>\n",
              "      <td>False</td>\n",
              "      <td>False</td>\n",
              "      <td>3</td>\n",
              "      <td>34</td>\n",
              "      <td>1</td>\n",
              "      <td>13</td>\n",
              "    </tr>\n",
              "    <tr>\n",
              "      <th>2</th>\n",
              "      <td>0</td>\n",
              "      <td>33.66667</td>\n",
              "      <td>4.5000</td>\n",
              "      <td>0.004156</td>\n",
              "      <td>15.000000</td>\n",
              "      <td>True</td>\n",
              "      <td>False</td>\n",
              "      <td>4</td>\n",
              "      <td>58</td>\n",
              "      <td>1</td>\n",
              "      <td>5</td>\n",
              "    </tr>\n",
              "    <tr>\n",
              "      <th>3</th>\n",
              "      <td>0</td>\n",
              "      <td>30.50000</td>\n",
              "      <td>2.5400</td>\n",
              "      <td>0.065214</td>\n",
              "      <td>137.869200</td>\n",
              "      <td>False</td>\n",
              "      <td>False</td>\n",
              "      <td>0</td>\n",
              "      <td>25</td>\n",
              "      <td>1</td>\n",
              "      <td>7</td>\n",
              "    </tr>\n",
              "    <tr>\n",
              "      <th>4</th>\n",
              "      <td>0</td>\n",
              "      <td>32.16667</td>\n",
              "      <td>9.7867</td>\n",
              "      <td>0.067051</td>\n",
              "      <td>546.503300</td>\n",
              "      <td>True</td>\n",
              "      <td>False</td>\n",
              "      <td>2</td>\n",
              "      <td>64</td>\n",
              "      <td>1</td>\n",
              "      <td>5</td>\n",
              "    </tr>\n",
              "    <tr>\n",
              "      <th>...</th>\n",
              "      <td>...</td>\n",
              "      <td>...</td>\n",
              "      <td>...</td>\n",
              "      <td>...</td>\n",
              "      <td>...</td>\n",
              "      <td>...</td>\n",
              "      <td>...</td>\n",
              "      <td>...</td>\n",
              "      <td>...</td>\n",
              "      <td>...</td>\n",
              "      <td>...</td>\n",
              "    </tr>\n",
              "    <tr>\n",
              "      <th>1314</th>\n",
              "      <td>0</td>\n",
              "      <td>33.58333</td>\n",
              "      <td>4.5660</td>\n",
              "      <td>0.002146</td>\n",
              "      <td>7.333333</td>\n",
              "      <td>True</td>\n",
              "      <td>False</td>\n",
              "      <td>0</td>\n",
              "      <td>94</td>\n",
              "      <td>1</td>\n",
              "      <td>19</td>\n",
              "    </tr>\n",
              "    <tr>\n",
              "      <th>1315</th>\n",
              "      <td>5</td>\n",
              "      <td>23.91667</td>\n",
              "      <td>3.1920</td>\n",
              "      <td>0.000376</td>\n",
              "      <td>0.000000</td>\n",
              "      <td>False</td>\n",
              "      <td>False</td>\n",
              "      <td>3</td>\n",
              "      <td>12</td>\n",
              "      <td>1</td>\n",
              "      <td>5</td>\n",
              "    </tr>\n",
              "    <tr>\n",
              "      <th>1316</th>\n",
              "      <td>0</td>\n",
              "      <td>40.58333</td>\n",
              "      <td>4.6000</td>\n",
              "      <td>0.026513</td>\n",
              "      <td>101.298300</td>\n",
              "      <td>True</td>\n",
              "      <td>False</td>\n",
              "      <td>2</td>\n",
              "      <td>1</td>\n",
              "      <td>1</td>\n",
              "      <td>2</td>\n",
              "    </tr>\n",
              "    <tr>\n",
              "      <th>1317</th>\n",
              "      <td>0</td>\n",
              "      <td>32.83333</td>\n",
              "      <td>3.7000</td>\n",
              "      <td>0.008999</td>\n",
              "      <td>26.996670</td>\n",
              "      <td>False</td>\n",
              "      <td>True</td>\n",
              "      <td>0</td>\n",
              "      <td>60</td>\n",
              "      <td>1</td>\n",
              "      <td>7</td>\n",
              "    </tr>\n",
              "    <tr>\n",
              "      <th>1318</th>\n",
              "      <td>0</td>\n",
              "      <td>48.25000</td>\n",
              "      <td>3.7000</td>\n",
              "      <td>0.111619</td>\n",
              "      <td>344.157500</td>\n",
              "      <td>True</td>\n",
              "      <td>False</td>\n",
              "      <td>2</td>\n",
              "      <td>2</td>\n",
              "      <td>1</td>\n",
              "      <td>0</td>\n",
              "    </tr>\n",
              "  </tbody>\n",
              "</table>\n",
              "<p>1319 rows × 11 columns</p>\n",
              "</div>\n",
              "      <button class=\"colab-df-convert\" onclick=\"convertToInteractive('df-6c4dc478-ea1b-48bf-b20b-d395fa0bcad5')\"\n",
              "              title=\"Convert this dataframe to an interactive table.\"\n",
              "              style=\"display:none;\">\n",
              "        \n",
              "  <svg xmlns=\"http://www.w3.org/2000/svg\" height=\"24px\"viewBox=\"0 0 24 24\"\n",
              "       width=\"24px\">\n",
              "    <path d=\"M0 0h24v24H0V0z\" fill=\"none\"/>\n",
              "    <path d=\"M18.56 5.44l.94 2.06.94-2.06 2.06-.94-2.06-.94-.94-2.06-.94 2.06-2.06.94zm-11 1L8.5 8.5l.94-2.06 2.06-.94-2.06-.94L8.5 2.5l-.94 2.06-2.06.94zm10 10l.94 2.06.94-2.06 2.06-.94-2.06-.94-.94-2.06-.94 2.06-2.06.94z\"/><path d=\"M17.41 7.96l-1.37-1.37c-.4-.4-.92-.59-1.43-.59-.52 0-1.04.2-1.43.59L10.3 9.45l-7.72 7.72c-.78.78-.78 2.05 0 2.83L4 21.41c.39.39.9.59 1.41.59.51 0 1.02-.2 1.41-.59l7.78-7.78 2.81-2.81c.8-.78.8-2.07 0-2.86zM5.41 20L4 18.59l7.72-7.72 1.47 1.35L5.41 20z\"/>\n",
              "  </svg>\n",
              "      </button>\n",
              "      \n",
              "  <style>\n",
              "    .colab-df-container {\n",
              "      display:flex;\n",
              "      flex-wrap:wrap;\n",
              "      gap: 12px;\n",
              "    }\n",
              "\n",
              "    .colab-df-convert {\n",
              "      background-color: #E8F0FE;\n",
              "      border: none;\n",
              "      border-radius: 50%;\n",
              "      cursor: pointer;\n",
              "      display: none;\n",
              "      fill: #1967D2;\n",
              "      height: 32px;\n",
              "      padding: 0 0 0 0;\n",
              "      width: 32px;\n",
              "    }\n",
              "\n",
              "    .colab-df-convert:hover {\n",
              "      background-color: #E2EBFA;\n",
              "      box-shadow: 0px 1px 2px rgba(60, 64, 67, 0.3), 0px 1px 3px 1px rgba(60, 64, 67, 0.15);\n",
              "      fill: #174EA6;\n",
              "    }\n",
              "\n",
              "    [theme=dark] .colab-df-convert {\n",
              "      background-color: #3B4455;\n",
              "      fill: #D2E3FC;\n",
              "    }\n",
              "\n",
              "    [theme=dark] .colab-df-convert:hover {\n",
              "      background-color: #434B5C;\n",
              "      box-shadow: 0px 1px 3px 1px rgba(0, 0, 0, 0.15);\n",
              "      filter: drop-shadow(0px 1px 2px rgba(0, 0, 0, 0.3));\n",
              "      fill: #FFFFFF;\n",
              "    }\n",
              "  </style>\n",
              "\n",
              "      <script>\n",
              "        const buttonEl =\n",
              "          document.querySelector('#df-6c4dc478-ea1b-48bf-b20b-d395fa0bcad5 button.colab-df-convert');\n",
              "        buttonEl.style.display =\n",
              "          google.colab.kernel.accessAllowed ? 'block' : 'none';\n",
              "\n",
              "        async function convertToInteractive(key) {\n",
              "          const element = document.querySelector('#df-6c4dc478-ea1b-48bf-b20b-d395fa0bcad5');\n",
              "          const dataTable =\n",
              "            await google.colab.kernel.invokeFunction('convertToInteractive',\n",
              "                                                     [key], {});\n",
              "          if (!dataTable) return;\n",
              "\n",
              "          const docLinkHtml = 'Like what you see? Visit the ' +\n",
              "            '<a target=\"_blank\" href=https://colab.research.google.com/notebooks/data_table.ipynb>data table notebook</a>'\n",
              "            + ' to learn more about interactive tables.';\n",
              "          element.innerHTML = '';\n",
              "          dataTable['output_type'] = 'display_data';\n",
              "          await google.colab.output.renderOutput(dataTable, element);\n",
              "          const docLink = document.createElement('div');\n",
              "          docLink.innerHTML = docLinkHtml;\n",
              "          element.appendChild(docLink);\n",
              "        }\n",
              "      </script>\n",
              "    </div>\n",
              "  </div>\n",
              "  "
            ],
            "text/plain": [
              "      reports       age  income     share  expenditure  owner  selfemp  \\\n",
              "0           0  37.66667  4.5200  0.033270   124.983300   True    False   \n",
              "1           0  33.25000  2.4200  0.005217     9.854167  False    False   \n",
              "2           0  33.66667  4.5000  0.004156    15.000000   True    False   \n",
              "3           0  30.50000  2.5400  0.065214   137.869200  False    False   \n",
              "4           0  32.16667  9.7867  0.067051   546.503300   True    False   \n",
              "...       ...       ...     ...       ...          ...    ...      ...   \n",
              "1314        0  33.58333  4.5660  0.002146     7.333333   True    False   \n",
              "1315        5  23.91667  3.1920  0.000376     0.000000  False    False   \n",
              "1316        0  40.58333  4.6000  0.026513   101.298300   True    False   \n",
              "1317        0  32.83333  3.7000  0.008999    26.996670  False     True   \n",
              "1318        0  48.25000  3.7000  0.111619   344.157500   True    False   \n",
              "\n",
              "      dependents  months  majorcards  active  \n",
              "0              3      54           1      12  \n",
              "1              3      34           1      13  \n",
              "2              4      58           1       5  \n",
              "3              0      25           1       7  \n",
              "4              2      64           1       5  \n",
              "...          ...     ...         ...     ...  \n",
              "1314           0      94           1      19  \n",
              "1315           3      12           1       5  \n",
              "1316           2       1           1       2  \n",
              "1317           0      60           1       7  \n",
              "1318           2       2           1       0  \n",
              "\n",
              "[1319 rows x 11 columns]"
            ]
          },
          "execution_count": 56,
          "metadata": {},
          "output_type": "execute_result"
        }
      ],
      "source": [
        "# store features in X variable by dropping targer variable, show X\n",
        "X=credit_card.drop(['card'], axis=1)\n",
        "\n",
        "#show X\n",
        "X"
      ]
    },
    {
      "cell_type": "markdown",
      "metadata": {
        "id": "AlWteeKTAOhp"
      },
      "source": [
        "Now you have nicely splitted features X and target y."
      ]
    },
    {
      "cell_type": "markdown",
      "metadata": {
        "id": "ZajkAAfoAcIf"
      },
      "source": [
        "### Train Test Split\n",
        "\n",
        "Your dataset should be splitted at least into train and test sets.\n",
        "\n",
        "**Train dataset** is used to train the AI model. **Test dataset** to test its performance. \n",
        "\n",
        "If you prepare to train a couple of models (to choose later which one performs the best) or finetune your model you also need **validation dataset**. It means that your will split the original dataset into train, validation, and test datasets. In such a case you will train models using train dataset, evaluate models using validation dataset and finally test the best model with test dataset."
      ]
    },
    {
      "cell_type": "markdown",
      "metadata": {
        "id": "AlUI7WuwrKCB"
      },
      "source": [
        "As you are going to train only one model without any finetuning you need to split your dataset into train/test. Let's assume that 70% of the dataset will be used for training and 30% for model testing. \n",
        "\n",
        "Scikit-learn has a wonderful function implemented for you to split train/test sets."
      ]
    },
    {
      "cell_type": "code",
      "execution_count": 57,
      "metadata": {
        "id": "FZds9PlIdBga"
      },
      "outputs": [],
      "source": [
        "# split X and y into train test set, keep 30% of the data for testing, with random state equal to zero\n",
        "X_train, X_test, y_train, y_test = train_test_split(X, y, test_size=0.3, random_state=0)"
      ]
    },
    {
      "cell_type": "markdown",
      "metadata": {
        "id": "2BSZimueoVj_"
      },
      "source": [
        "## Modelling\n",
        "\n",
        "A process of creating a mathematical representation of a real-world process. \n"
      ]
    },
    {
      "cell_type": "markdown",
      "metadata": {
        "id": "_goqafpOn7T7"
      },
      "source": [
        "### Model training\n",
        "\n",
        "For your binary classification task you are going to use **Random forest** - a classification algorithm consisting of many decisions trees."
      ]
    },
    {
      "cell_type": "markdown",
      "metadata": {
        "id": "HpTpXLO2oJBU"
      },
      "source": [
        "![RandomForest.png](data:image/png;base64,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)"
      ]
    },
    {
      "cell_type": "markdown",
      "metadata": {
        "id": "RewOmvLmQyZw"
      },
      "source": [
        "Scikit-learn will help you with your task again. With only 2 lines of code you can define and train your first AI model."
      ]
    },
    {
      "cell_type": "code",
      "execution_count": 58,
      "metadata": {
        "colab": {
          "base_uri": "https://localhost:8080/"
        },
        "id": "iaXP9L81dF59",
        "outputId": "9dcf10c6-7a64-4cea-9f18-ff2af85ba5a0"
      },
      "outputs": [
        {
          "data": {
            "text/plain": [
              "RandomForestClassifier(criterion='entropy', n_estimators=11)"
            ]
          },
          "execution_count": 58,
          "metadata": {},
          "output_type": "execute_result"
        }
      ],
      "source": [
        "# create your model with RandomForestClassifier with 11 trees and entropy for the quality of split\n",
        "model = RandomForestClassifier(n_estimators=11, criterion=\"entropy\")\n",
        "\n",
        "# train your model using train set\n",
        "model.fit(X_train, y_train)"
      ]
    },
    {
      "cell_type": "markdown",
      "metadata": {
        "id": "5giiCsBoU8zF"
      },
      "source": [
        "Congrats! You have just trained you first ever AI model. \n",
        "\n",
        "Now it is time to see what your model will predict if we show test set to it."
      ]
    },
    {
      "cell_type": "code",
      "execution_count": 59,
      "metadata": {
        "colab": {
          "base_uri": "https://localhost:8080/"
        },
        "id": "PV__qOCidHmy",
        "outputId": "c72329ba-54e8-477b-b9e2-439f607b5f0e"
      },
      "outputs": [
        {
          "data": {
            "text/plain": [
              "array([ True,  True, False,  True,  True,  True, False,  True,  True,\n",
              "       False,  True,  True,  True, False,  True,  True, False,  True,\n",
              "       False, False, False,  True,  True,  True,  True,  True,  True,\n",
              "       False,  True,  True,  True, False,  True,  True,  True,  True,\n",
              "        True,  True,  True,  True,  True, False,  True,  True,  True,\n",
              "        True, False,  True, False,  True, False,  True,  True, False,\n",
              "        True,  True, False, False,  True,  True,  True,  True, False,\n",
              "        True,  True,  True,  True,  True, False,  True,  True,  True,\n",
              "        True,  True,  True,  True,  True,  True,  True,  True,  True,\n",
              "        True, False,  True,  True,  True, False,  True,  True,  True,\n",
              "        True,  True,  True,  True,  True, False, False,  True,  True,\n",
              "       False, False,  True,  True,  True,  True, False,  True,  True,\n",
              "        True,  True,  True,  True,  True,  True,  True,  True,  True,\n",
              "        True,  True,  True,  True,  True,  True,  True,  True,  True,\n",
              "        True,  True,  True,  True, False,  True, False,  True,  True,\n",
              "        True,  True, False,  True,  True, False,  True,  True,  True,\n",
              "        True,  True, False,  True, False,  True,  True,  True,  True,\n",
              "        True,  True,  True,  True,  True, False,  True,  True,  True,\n",
              "        True, False,  True,  True,  True,  True, False,  True,  True,\n",
              "       False,  True,  True,  True,  True, False,  True, False,  True,\n",
              "        True,  True,  True,  True,  True,  True,  True, False,  True,\n",
              "       False,  True,  True,  True,  True,  True,  True,  True,  True,\n",
              "        True,  True, False,  True,  True,  True,  True,  True,  True,\n",
              "        True,  True,  True,  True,  True,  True,  True,  True,  True,\n",
              "        True, False, False,  True,  True,  True,  True,  True,  True,\n",
              "        True,  True,  True, False,  True, False,  True,  True,  True,\n",
              "       False,  True,  True,  True,  True, False,  True,  True, False,\n",
              "        True,  True,  True,  True,  True,  True,  True,  True,  True,\n",
              "       False,  True,  True,  True,  True,  True,  True, False, False,\n",
              "        True,  True,  True,  True,  True,  True, False,  True,  True,\n",
              "        True,  True,  True, False, False,  True,  True, False, False,\n",
              "        True,  True,  True, False,  True,  True,  True, False,  True,\n",
              "        True,  True,  True, False,  True, False,  True,  True,  True,\n",
              "       False,  True, False,  True, False,  True, False,  True,  True,\n",
              "       False,  True,  True,  True,  True,  True,  True,  True,  True,\n",
              "        True,  True, False,  True,  True, False,  True,  True,  True,\n",
              "        True, False, False,  True,  True,  True,  True, False,  True,\n",
              "        True,  True,  True,  True,  True,  True, False,  True, False,\n",
              "        True,  True,  True, False,  True,  True, False,  True,  True,\n",
              "        True,  True, False,  True,  True,  True,  True,  True,  True,\n",
              "        True,  True,  True, False, False,  True,  True,  True,  True,\n",
              "       False,  True,  True,  True, False, False,  True, False,  True,\n",
              "       False,  True,  True,  True,  True,  True, False,  True,  True,\n",
              "       False,  True,  True, False,  True,  True, False,  True,  True])"
            ]
          },
          "execution_count": 59,
          "metadata": {},
          "output_type": "execute_result"
        }
      ],
      "source": [
        "# generate predictions for test set and store them in y_pred variable\n",
        "y_pred = model.predict(X_test)\n",
        "\n",
        "# show y_pred\n",
        "y_pred"
      ]
    },
    {
      "cell_type": "markdown",
      "metadata": {
        "id": "GAE4oOT9xWxv"
      },
      "source": [
        "### Model evaluation\n",
        "\n",
        "Now you need to evaluate the performance of your model. The best way to access and visualize its perfromance for your classification task is **confusion matrix**. And again Scikit-learn library gives you a beautiful one-liner to create this matrix and one-liner to visualize."
      ]
    },
    {
      "cell_type": "code",
      "execution_count": 24,
      "metadata": {
        "id": "lZLIXQYTdJYC"
      },
      "outputs": [],
      "source": [
        "# create confusion matrix with model classes as labels\n",
        "confusion_matrix_model = confusion_matrix(y_test, y_pred, labels=model.classes_)"
      ]
    },
    {
      "cell_type": "code",
      "execution_count": 60,
      "metadata": {
        "colab": {
          "base_uri": "https://localhost:8080/",
          "height": 297
        },
        "id": "dZWjrWPVdKts",
        "outputId": "a0dc93d2-4bc4-4bea-e6be-368a3ede19ac"
      },
      "outputs": [
        {
          "data": {
            "text/plain": [
              "<sklearn.metrics._plot.confusion_matrix.ConfusionMatrixDisplay at 0x7fd006a52790>"
            ]
          },
          "execution_count": 60,
          "metadata": {},
          "output_type": "execute_result"
        },
        {
          "data": {
            "image/png": "[encoded data removed]",
            "text/plain": [
              "<Figure size 432x288 with 2 Axes>"
            ]
          },
          "metadata": {
            "needs_background": "light"
          },
          "output_type": "display_data"
        }
      ],
      "source": [
        "# prepate confusion matrix to be plotted, with model classes as display_labels\n",
        "disp = ConfusionMatrixDisplay(confusion_matrix_model,display_labels=model.classes_)\n",
        "\n",
        "# plot your confusion matrix\n",
        "disp.plot()"
      ]
    },
    {
      "cell_type": "markdown",
      "metadata": {
        "id": "HFFzT_GBnplB"
      },
      "source": [
        "![ConfusionMatrixPregnancy.jpeg](data:image/jpeg;base64,/9j/2wCEAAMCAgMCAgMDAwMEAwMEBQgFBQQEBQoHBwYIDAoMDAsKCwsNDhIQDQ4RDgsLEBYQERMUFRUVDA8XGBYUGBIUFRQBAwQEBQQFCQUFCRQNCw0UFBQUFBQUFBQUFBQUFBQUFBQUFBQUFBQUFBQUFBQUFBQUFBQUFBQUFBQUFBQUFBQUFP/AABEIAa8CVQMBIgACEQEDEQH/xAGiAAABBQEBAQEBAQAAAAAAAAAAAQIDBAUGBwgJCgsQAAIBAwMCBAMFBQQEAAABfQECAwAEEQUSITFBBhNRYQcicRQygZGhCCNCscEVUtHwJDNicoIJChYXGBkaJSYnKCkqNDU2Nzg5OkNERUZHSElKU1RVVldYWVpjZGVmZ2hpanN0dXZ3eHl6g4SFhoeIiYqSk5SVlpeYmZqio6Slpqeoqaqys7S1tre4ubrCw8TFxsfIycrS09TV1tfY2drh4uPk5ebn6Onq8fLz9PX29/j5+gEAAwEBAQEBAQEBAQAAAAAAAAECAwQFBgcICQoLEQACAQIEBAMEBwUEBAABAncAAQIDEQQFITEGEkFRB2FxEyIygQgUQpGhscEJIzNS8BVictEKFiQ04SXxFxgZGiYnKCkqNTY3ODk6Q0RFRkdISUpTVFVWV1hZWmNkZWZnaGlqc3R1dnd4eXqCg4SFhoeIiYqSk5SVlpeYmZqio6Slpqeoqaqys7S1tre4ubrCw8TFxsfIycrS09TV1tfY2dri4+Tl5ufo6ery8/T19vf4+fr/2gAMAwEAAhEDEQA/AP1RLcc0wOD7ivFP2wfGOteAvgN4k1jQtQl03U4ViCXcQ5QGRQdvocE18paHB8YdY0uyu1+MOqwCeJZTGwLkBhXZSw6nBVJTUU3bU8utjXTrOjCDk0r6H6Mbj6Uu/wD2f1r4Cg8MfGGT/ms+q/8Afs/41bh8HfGBmIPxo1PH/XM/41f1el/z+j+Jn9crf8+ZfgfeWT6frSFiO1fDEfgT4vSEY+NGqf8Afs/41aX4c/F5uT8adTH/AGyP+NP6vS/5/R/EPrtb/nzL8D7c8z/ZpfN9hXxQnw2+Lh/5rTqX/fo/40H4b/Fzt8atR/79H/Gp+r0v+f0fxF9cr/8APmX4H2x17UZ9sV8RP4A+LcWM/GfU2G7GPKOefx6VUvPCXxVs5DE3xp1N5AcbViOR7nmqWGpPatH8QeOrL/lxL8D7oJxSeaPavia2+HfxbmtxIfjPqSk9P3ROf1qb/hWfxc8sSL8Z9ScfxAREkfhmtPqMf+fq/EzeYVv+fEvwPtLzMelL17GviqL4efFWa48pPjVqbP8A3WgK/wBahuvAfxZtHx/wuXUmXHXyj/jUSwsI71V+JUcdXbsqEvwPtrj+7Ru9v1r41t/hl8WJYg3/AAufUeRn/VH/ABqT/hV/xXP/ADWfUf8Avyf8aUcPSl/y+j+I3jsQv+XEvwPsgPil35r40b4YfFdVLf8AC6dRwOf9Sf8AGlj+GXxWkj3j40aj9PJP+NSsPR/5/R/Ef16v/wA+JfgfZG/2o3H0r4v/AOFd/Fhpgg+M2ojP/TE/41Y/4VV8WC2P+F16iP8Atif8af1el/z+j+Ivr1f/AJ8S/A+ytxpN5r4zb4XfFoNIv/C6tR+Uf88j/jTh8J/i5IoI+NepLkdoSf60fVqX/P6P4lfXa3/PiX4H2UGOOlLuPpn8a+KLr4bfFu3mWM/GzU+eP9Qf8atj4R/F548j436kOP8Angf8aaw1J/8AL6P4i+u1rfwJfgfZW4jt+tKGx6fnXxgfhF8YMf8AJcdT/wDAc/41Wk+FnxfhBI+OWpN/vQn/ABqHRpJX9tH8SljKz/5cy/A+2Mn0oyfT9a+LR8H/AIwso/4vtqXPPEBP9ajm+EHxjhAP/C9dTOf+mJ/xp+wpWv7aP4j+uVv+fMvwPtXPt+tGfb9a+JpfhR8YolDf8Ly1Q+3kH/GqsXwx+MkzOo+OWqDb/wBMT/jU+xo/8/V+IfW6/wDz5l+B9x7x60u4V8K/8K2+Mm5x/wALx1T5R/zwP+NSaV8MPjLqUDyD45amu1iP9Qf8aPY0X/y+X4lfWa//AD5f4H3MWI7frSbj6frXw4fhh8ZFl2/8Lz1Q/wDbA/41XPw6+Mm5R/wvLVBlsf6g/wCNV7Cl/wA/o/iR9brb+xl+B918Z9aTfjOTmvhfUPhv8Y9PUv8A8Lx1RgBn/UEf1rZ/Zh8XeO4P2iNb8G+JvGN54ps4NJ+1hrn7oYuACoqvqilCU4VE7K5Kx8lOMJ0muZ26H2iGPPFVZZVBKsygdf8AINTDduPpXxJ+1fZ3fiT9oTRNFOrX1lZSaa0hS1lKjcAOeO9eHisR9Vgp2ufV5bgXmFZ0uflsm7+h9qpe2oH+tTP+8KcL635/ep/30K/P+D4F20jZPiTXzz/z9Hn9a0Iv2f7NlYt4k8QDjtdf/XrzP7Qry2pM9f8AszBf9BS+5n3h9ugH/LZPzFJ/aMH/AD1T/voV8Mwfs72MgGfE/iH/AMC//r1bj/Zt09/+Zo8Q/wDgV/8AXp/Xq/8Az4/EX9mYL/oKX3H259vt/wDnqn5il+3wf89k/MV8VL+zRprdfFPiMf8Ab3/9en/8MzaZ/wBDT4jP/b3/APXo+vYj/nz+KD+y8H/0FL7j7QOowD/lsv5ilF/Af+WyfmK+KT+zTpu7A8U+Igx6Zuv/AK9QS/s8aVBC8j+KvECooyS15jn0HzUfX8Rt7H8UCyvBP/mKX3H299tg/wCeyf8AfQpPt0H/AD1j/wC+q+FrP4CadezLFF4l8RbG6SNcn/Gtv/hmfStyKPFPiM56t9pOP510e3xT/wCXH4ozeXYL/oKX3H2d9tg/56p/30KDfW4H+tX8xXxhN+zHp8ZDJ4m8Szx9/KuMn8fmplv+zhpNyrKnivxB5o/5Z/bDuH4ZpyrYqKu6H4oSy/BX/wB6X3H2n9vtx/y0X/voUfbrc/8ALVP++hXxPb/s62P2oQyeJvESjpzcc/zrTP7MulAH/iqfEXHrcn/GuaOOrv8A5cfijZ5Zgl/zFL7mfYv2+3/56J/30Kb/AGhb9pU/76FfHcf7MulkZ/4SfxD/AOBR/wAaWT9mrTodgHinxD8x/wCfn/69H17Ef8+fxQf2Xgv+gpfcz7D/ALQt/wDnqn/fQo/tC2/56pn/AHhXx5P+zTpkSE/8JP4hz73H/wBem2f7Nem3W8HxP4hXb3Fx/wDZU/r9f/nz+KJ/srB/9BX4H2N/aFv/AM9U/wC+hS/boT0mT/voV8fj9mDTfLLjxT4i+X/p5/8Ar1HH+zLpsnlj/hKvEfzf9PP/ANlQ8bif+fX4of8AZeCtf61/5Kz7C+3Q95k/76FO+2Q/89E/76FfH8n7LmmBWI8VeIsjp/pP/wBeqVn+zPpt1cvG3irxEuPS4/8AsqFjcT1pfig/svBtXWK/8lZ9nfbIP+eyf99ik+2wf89l/wC+xXx637K+lsBjxZ4kH/byf/iqjk/ZW0xV/wCRv8S/T7Sf/iqv65iP+fX4ohZZg/8AoJ/8lZ9jfbIP+eif99Cj7ZD/AM9k/wC+xXxav7LmlyXflnxZ4lIxx/pP/wBlVtP2TNJ/6G7xMT/19f8A2VSsbiGr+y/FFPLMIv8AmJ/8lZ9j/bIe8qf99Cl+1wf89k/MV8Wyfsn6V5mP+Ev8T4/6+j/8VVS6/ZU0q36eLPExPvdf/ZUvr2IX/Lr8UH9mYT/oJ/8AJWfbYvoMf61P++hR9vt/+eqf99CviCX9ljS1gEv/AAlvibPcfav/ALKqV5+zJpttGr/8JX4mO4j/AJeen/j1S8fXWvs396KjlWDl/wAxS+4+7RfQt0mT/voUn2yIf8tU/MV8USfsnaULcSr4v8TMDzj7Uf8A4qs9v2XdLEG4eLfE2d+P+Psn/wBmq/ruIS/hfiiP7Lwb/wCYpfcfdBvIR/y1Q/8AAhSC+i/56r+Yr4at/wBlvTLjzMeLfEo2jgfaT/8AFVka5+zfY6XDK8fivxCzIjSfNdtjgZx1pSzCtTjzSpFRynCTaisSr+jPvsTCQHGDk4XBzk/0qeBgykgY55X0r5n/AGDb69v/AIO3H227uLxoNTnija4fewVcYGfxP519MQrtTpjmvVw9VV6aqWtc8LFYf6rXlQ5r8pNRRRXQch88ft3YH7M/ixsckQ9/+mqV5Z4GtdvhbRAFyPsUXb/Zr1P9u3n9mfxWO+If/RqVwXgWA/8ACJ6H72UP/oNdFe/1CNv5meVTXNj5r+6jctLUYUYxWlDahX9qLOEKcHmrqxYI9K+b96Nlc+i0WgRQ7cEYB7cd6vBCGwDkk4C7TnPv6D3rz34r/DrxJ49srBfDnj7VPAUloZJJZtMRWNyCowrA9htPT+8a+dP2SbX4m/F3Q7/xbq/xi10W2i6xPZnSWRPKu0i3ECRjyA23B+tdEKfMrkOx9qKMjKhWXv2/Dp1psseVcgYIHpxn61+d/wAH/ib4h+I/gfW9f8TftSTeBtZtr+7jh0a4mh3GOLJjbafnIY5Xgdq2NK/aW+JniTwX8A9Su9WmsJdX8YT6Td3kEQiTVrRWQLKy46HLflVuiyedH2J8Stfu9A0MLpsP2rVLpxDCnTYCcNIfZRXP+FbqWO4FnJMt9elQZZF+dvr6Aen0NeF/tqfEDW/D/wASPh5p+majNpttdeIIdPukUESSws3zKSf4T3rxa2+KEx+MXxH0PW/jXffDXQ9Nv40sLe1iWVJ8ryMYP3cf+PV04aHLqROSZ+mejCDyU3BYyDsWMnJY+tWo5LSTcsaEsrfej4PH14rxn9nG6tJvAMt5a/EWT4nWs12wj128jRWjA4MCqoycEE9K8G+KH7S/xE+FH7XniRpry6vvhZoL2drqulu2IrOK43KswA6Yfbk+9ehzOxkrI+xde1S2Z5vLjjuriED9yrFHH1p8OuWeqWIhkhCMwChkBJ3Yz+VfEPx6+NHivRfiN8b7XRtemGmab4ZtdR0p4VyIHkQt5yMBwcEc1xnww+Kk+v6NocupftVappOrajFG02mrGpdZnxmJiRnGTisZPmVmXG9/dP0o09FW3VPT5en+cU4IyybSDuweMd/618oeJfHXxG+L37QWo/CbwP4s/wCEK0bwzpcd1revw2qyXc8jAfIowdoIw3510XwR1vxXoPxT1Lwzqvxn8M/Ezw9JAwt0e5hGsxXK5ymxTkgHrngCvOdOzsjXm7s+kXjLxuFGdwJUew71XtEJRlUAlTj0r4o/aI+PXxHtPi54y1bwTqksPgH4YtYR+IbO3QvHeSyTIkyscdVUt+Ga6f8AauPjjQ/hv4g+Lngv4sa1o+mC0tryy8P2sKNa7ZFGcPjINZ+ycXqWn5n1Jgx3AJ/v8LjsOpzW048yQY4JPC4z+tfBvxQPxN+Ef7Luq/EY/F3Xte1XUdM06W3huIkRbJpXjZihAyeGK816j4a+Jni7wp+1X4K8P+IdburzwZ4+8MxzabDcsSsN+oVnC56cZq/ZtbD50fTEkbG4IUZ3jg4446/jVlMhC23GB93/ACK+IvGHxq8deJb39pHxdofiC50/wt4J086VpEVscRi+SMebL/vKxrkPhr8SofGPhDw1e6v+2NqWheINQt4WudFWGNja3D4BiBI5IJxmqVNtEyktz711dNs6NuxyDz/KteBAYdzDHAxWVqURs9Mg+0zeZ9nt0Ml1NgbsKMyMegDcHPTk14j47/bb8D+DZn03RILzxfqkZ2yrYgJCrem9sA/8BNcilySfMdCjzq0UfQu1m2Ec5GeeBge9Z16jKHI579q+Uh+39dWshkvPhvdLYlgfMt7pTIq9xgtjP0r2b4aftFeCPjLDs0LUTbaoEy+k3w8u4X/dB4f/AIDmodSMlZMapOK1R6na/vIYzjGQKS5TK0ti2bdM8cU64JCkd8cj0rZ35UYr4ijODJCpPGKoWo/0t16Bga05B/o/XpWXAduoDPcVkmzXQiaMeZIoH8Oaf4byv2hBxhzx+NSMpW4YH+IEf5/OmaEdmpXCjgMM1nGT51ctWcCaWPbd5xxzVB4tkm7HIfNa17HsuARwAeaqTrndn1Brq+GTMdLDdYg327d8pzXk3wPXy/21/Eg4wPDygcdP3i17Ldx77UjPVK8h+DUYX9tvxIP+peU/+RBX0GXpWrXX2T57Nbp0OV/aR9mN0r4z+P0e/wDaq8PA8/8AErf+Qr7LGcV8efHZd37V3h8f9Qt/5CvmM0s6UXLuvzPtcibjiKn+CX5GvZ221B7HvWtDCCp6AY5zUdvCeABWF8XtUvfDvwh8a6pp872uoWWj3Vxb3CdY5FiYq34EA0Jc1kjyG7K6+Z10Fv5YUMQpPI/z+NX4IW+XkkdGZVzz9P618SfA+18U/Eb4b+G/FGqftOXGh3+pKs02kSXtqpQ7seXtdsj0x15roP2rfiP8TJ/HqeDvhXq11b3fhPw03iHXrq1j3PdbV+SFxj+NVDD/AH66Vh+5HtIn2LHDknIPHJVV3Ej2pfL28Yz+Hrnj68V8u/tH/HjVl/Yns/iV4N1KTRdS1JLG4We35MW90EiZ9skEV9MeHZJ77w1pFzM/nSz6fBK+f+WjtEGJJHTJ/nU+z8h3XcfKNyZA3H721V/zzXi3jDWX1rxaxN/Db6HpyiNNhJM03c47gAGvmi6+OXinxZ4m+INt4v8AjfffCLxNpl/NBovhqay8m0lgT/VOZGXBDYHOeQciuK+KXxE8W6Drfwpt9a+IkPh9NTS4Gp+ItJVWtiqlSsqYHzc8HHHNa06KTvYhzWx+hHhG/lltop5gUiYAxecu3I6D5cZGfrXoEd5EID5SmcghcxrkE+wxXxX+zB4s03WPiXNLa/HLU/iMIIJN2j3cYjSQE484gAE7ccD3rpv2z/ih4o8J3HwqsPC/i248JDXvEKaVf39m4Agjc7S25uOAc59q9hPTRHPZXPq28vls7VrmWEW529VB3fiK5Q+JHivo5LOOF4nXLuY/3mf9r0H518q33xG8dfBv9oDwL4Nf4tL8ZNE8Rx3Jv7INFLcWSxpvEu6PO0kBsZ/umuU8I658Wv2lNQ1nxdaeOb7wX4cs9QmsdBtdKsVk84xMRvmIU5zgZJqHLyuacsXsfdz3o1BopZYHgfIKyMMA5rVcAoTzuI64z0r4G0/9qD4s23wp+LGh3EVvrXxM8EzLCNTtYgftFu8oRpvLUYLIDnge9dB8G/GXiTxdrPhK98IftM6f4yv7lozrPhPxVEkBdeN8cMZUPuByOmeBXBUpxeqRqpaWaPtkAJG3HBGVDDBNRX8TRrFlWHzAZ2Hrg8V8peGdW8ffFv8AaA+Ofga0+IWseFLLRpbSXTbi0QSSWi7kLIA3A3DK8+tcP8HdG+LHxI+NfxL8G3fxx8RQ2fgm+gt0uI4UJvlL87+MDpj8ax9kWpRPuW4UtbH5SSvIwM7hgcioNJcbnwRt2g/Kd3fGMV8Pal8Qvip4p0X9o6DQvF+pLqXgu+s7jTI4sZaGNf30QHowAP412nxi/aA8Qa/8DPhRL4E1KbSfF3xFurK2t7qzwZbdWCtcOB/s4ZT6UpUdVZDcon2Cqlt4AI7fdJAPpVWHK+WSpX5yvzccV8H/ABC+K2s2n7UXjnwT4i+Puo/DPQNItLcWVwFVvtEu0b85HBzk/jX0d+zHdRal4b1i/tPi7cfGG0e8WJb+dVH2RgASgx0JHP40Sp8uolKL6HtjqWR19cisnT8LqBBGF6fjW0/yj6cn2ry34qfGfw18GLZb3XJ3kuGyYNPtV3zy+4HYe5rGpJRtzG0Yp+6kepMmxRnjPHNQyREqwYcjnjkmvizWf26fHeuXT/8ACL+FNP0mwPCyamWlmPuQMqPwqHQ/27PGmiajGPFfg/T9S07o8mkOYrhfVgpwDWLr09jRUJLWzPsj5VvkKnjpwf0rTVcKT61518NvjF4V+L1omo+HdR+0Mg3T2c52XMH+/Gecf7QGK9IAPT8fY/StINSjoiJK25TkUCbNU9QAbkjmr9zjeKq6gm1R71Dt2J0KeBLaABenFZmpLu08Ef5xWrasPszfWqd2ofT5Bjnms5pW2NadrmxDiTTIjx9wfyrIMf7uQEfx56VraS4l0aPn+EfpVRkDNOO3Wtmk4rQy8iDTlxdMMcMuaxPF1uGsrkkZ/cyAg/7hNdFari6hI9MVn+KLcvY3fH/LGT/0A0q0X7CVtNDowjaxNO3dbmL+wLn/AIVBejoP7Xuf6V9Px9+/NfMX7Ax/4tDfj/qL3P8ANa+nU4yPeuzA/wC7Q9Cc3/3+rfuPooorvPJPnn9uzn9mnxZ9If8A0alcd4Ft/wDikNBOf+XKH/0Gux/bt/5Nm8W/7sP/AKNSua8Bx7vBvh8/9OUP/oNdWI/3CP8Aif5Hm0P+RjL/AAr80dDaRZ28Vb8rvUdvHtq95fyV829T3pbjY1JDYTLGN1XPTJUivA/2NPhL4n+E/wAL/FOkeKNP/s2+v9YurqGLeHMkbhwDx0zkV9Bxx/KPm2iplAQ5XLe9WpcqsI+J/g/+wpaaj+zx4r8MePfCtlpnjW/1G7n0/VcB7mFeGgIYHG0nIx71b8QfAf4r/ET4G/Dz+0tJstK+Jvw21ES2VvNKotdVhTbtIK/dYhQORya+0Aob1agr8vTA9O9ae2dtTPlPzz1r4e/Ev44fG/Sdb+Iehaf4G0bw9qS389rHfefJNIMlUjwuMZ6k4rK0b4c/EPwD8YviB4ks/hRp3jjRNcu0ltXub+OIRxgHlcqx5z6DpX1l8ZWh8O6p9r+z7jdjbuEW4DI5J7H6GuB1b7fp6RxoyQ+d96JXL7gQOQf546V6NKSdPQxcW2dh+z94r1fVNJu5de8E2Pw8NvP5dhYWFwLlJlx80mQq4O7Pao9B+BF/4i+P/wAZtS8TaWv/AAhPjLRotLguJJFcyEH5mIGSGXhhx2pnw3sRaXED+fMI3PWMfIq4wAPbvXsuna1a2cKyvIQAcEqfmcn1roWqHKLiz4S0v9kX4weHtJ+MOn61af2rFqHh4aF4evhcLm+jjd/KB9CEKjnHSuj8Eaf8Tfh74J8PaJ/wzPoWoXek2ccB1J9XiWSd0THmEeWcEkZxmvs3XvE1rPY7GmSMt0CHp9a59bWxtdMm1O8uEhsxh3aRvkJPQfWvNrVHF2R62Gw8ZK7PDta+GPxQ8D/Gd/jF8NNF0/X7nXtMSz1/wle3PkusgHLRy4I44HI7H1rL8A/ATx/qPx30z4t6r8OfDXw2j0GyuTB4d0m5M91qt0+45lfAXDMevYV9Y+Gpo7uFnjwI2GVz1IrVkUBQQB8vvWEal0clSnGMmkfEfw1/4J9P4o+Hutaj8Sdc8Q6b458S3F1dahY2GoBLQu2TEJUCneQevNbQ+DfxN139hnWfhhq2hu/jGzc2FjG86k3dskhaOTOcDIcjn0r7Eb5ipHGearKu28cAEbhjmm5OQlE+af2h/g/4p8bfscweAdJ04XXiiPTtMt2svMAw8Pl7xuPHG0/lWn+0d8F/GHjD4M+ArzwTbRv8SPBr29xYIzjLHynjmTJwP4gev8Ne86io3MGweOneta0w9rDkjHrSVV3sNxPly0/Z38Q6J+xL4j8CxWK3fj3xBaXl5fQqwHm39w7MwLZxwCo/CuP+F+nfGP4a+AfDnhsfsueH9butHs4rU6pPqkKS3UiADzD+7PJIz1r7UuEPyHoN2KwvHXia28EeBNf126uIreLTrWSQPKRt3EELnP8AtEVarcl7k8t7I+X/ANo74u3vi5LbwxY509Y4UOqxwy7j5+Pmh3jqq9BgetcP4F+F1nJp4Z7UJnABxyR7msTwHpv/AAll0dTW+t9QguJWl82JhhiTk5/OvoLR9ImgtVa3jBiHG1XFfOqTq1mmz6mlTVKknY871b4R20Om+a4V9pwMdVrwn4geDT4c1JNRtJZLK4jbfHPC22RWB4YEdD7V9MePvFw8P2iQSRYm6MG9a8C8a6p/a1q28ZlJPFDfJOyKmozhdo+uv2R/jVdfFzwLdW+sOra/oziC5mX/AJbxEfJIf9o8Z9ya90mbcrjB655618Xf8E/tMkt/E3j25AY2otIYyM8eZvU5/KvtGU8Htk5/CvZjfkufNzVplMx7rdqx2bbdxEdOlbKt8zisS4+SaH/eqGESxKdt0o/3h/Kq+mNjXyv95DU10pWaE+rf0qpE/k63bN/eyP0rKWkkbQXus3tSQBufWqTxhnwemK0dSXfFketVfL+YDviuqXxHLHYeY91jk+leRfCJdv7cPiTHT/hHE/8ARgr2GEbrNx6V5D8Jhs/bk8Sr/wBS4n/owV9Hl3w1v8J87mnxUP8AEj7C9a+QPjeu79rHw5/2C5P5V9f+tfIPxryf2uPDS9v7Ll/9Br5nMv4UP8S/M+4yL/eJ/wCCX5HXW0Q5rD+K3h++8UfCfxjo+kQC61TUNIura1hZtoeRomCrntkkV08CBSau20YB9D2qnpqeQ9bnzD+z/wDsV/D/AET4UeFF8dfDnT5fG1rD5t9JJK3meaDuGSCQWyAPSuc8D/sW3/xK8XePPGPxOvNe8LaxrGpNb2NnompCIf2eiKkQkIByMDGPavshY/mPygmplAHBAPvWiqyM+U+E9W/Zm+KKfspePvhDb6JJqEVr4ijuPDc8t0pa7sjMHbJ7EYHX3r23wL8RPjv9o0TRtY+CFvo+kxxx2Vxqy66shgRYwol8vYN2CoO3P419BrksC43DHFOVQRkjb7ZpuqHIz4z+Kui/HW/0HxV4e8VfC3wx8T7aZ5PsXiyOdbV47ckhN8ZUkkDHAPHTJr54m/Z68b+CdO+EzWWkW/jW50L7Zc31lJcCOCNpcbYQzg5VfXHYV+pl5ai8t5YmVWDIwK57Yr5t1SK8m8ST6SYVhiiOVeZSVyM9PfOOvFdGHqKTsZzjZHC/Cfxl4t8Pa9Y2utfB7SPB1lebll1y1v0mkTJyFKBBkHPrW7+0/wDCPVPjvJ8LbPStLGu6FpPiKO71pZZVjRbPP7znqRtyOOafDpsuoasYyJrlVl2AbOckDIXHH14+lev+D/K0m2aF4WjkVgywyvnCjoSPeu7njsw9jU5eZHQ+Af2cvhZ8OdRvb7wh4O0/Rbu5ha3kurdC0vlsMMAzH3r5j8OfDr4wfsr6z4j8P+E/CWk/Enwbe6jLqWlyXGoG0lsTJyyyKVOQDkYB5xnPOB9ZW/i23t8wrnA5Mn1//VWBqmv2mv3ygHcPu7sda560lBe4dWHoupK0j5u8C/Bv4p+EfDvjrxVY6zo8Pxf8W3y388axl7KOBW3G1DHpu45wcYx71Q+IHwX+LX7Q2oeFrfUvhB4b+GV9puoQ3t14ytL8POyoRuVERB97rya+ojqulWOrppFqfP1Ax738tcqoHr713tnta1QgAfLgbR1rgjWnfU6sXRhFrkPAvgr8JfEvhD9pj4x+K9TsGtfD/iBbcadfNIGa42FQcqOh4JqD4C/CPxP4G/aD+OPinWtNFnofiTUILjS7lZAfORGJJ2jpx619EAZlGc9OlNZflwMn5TxVOocUVqfO37O3wj8S+C/in8bNX8SaYlvoXim/jkspAwb7RDgh+M8cEda8w/Zp/Zd8ZeBfjxDP4ogUeBvBw1BfCchkDmT7RMxB29sI5I9MV9qWyhrcA4LYPy1Qtvl1CPoOe9S6ruNRPkrxl8Lfih4V/at+IPj7RvhBpvxJ0TXoI4Lb+0L2OEIRglxuVueMdK90+Bur+NNQg1qDxX8KtP8AhfHE6S20OnXiTpdueGJ2qvIAH5V6+0YMn3c579arNGUeUKATjjjHNW6l0kyeW2pk+PvGlr8PvCmoa9dk+VariKM/xynhR9M4r4Iv/t/xK8ZXOsahm5u7iTcqlsiJT2HoK9r/AG5PiRpmkP4T8J3d/NaSXZa+lCpkFPupn8WB/CuN+Hul2Wl2q3DXcDeaoImd9oC+teNi5uVRJHv4GC1k0bmnfDW0mhijeFY8dSBisHxl8OLK3jlijVAHX7zd69KtdSsLhlSw1Sx1J0+YxR3GWx+deQeOfHk99qlzahgPLOOO3tWNa0YruehFKTaaPF49Y1P4SeNrXXvD9w1nf2Mu4Mn3ZVzzG691P1r9QvBfiS28ZeE9H16zUR2upWcd4iZzt3qCVPpgnFfl74umi1KV5mwwHH41+jX7PGlPofwJ8CWMh3vHpULF+5yoIruw8tDwMUkpaHcXC/N6VVvc7Fz6Vbuuoqrc/NEh9q1lucaM204Mi+hpjLvglQ+px+VOtH/fzimn70/+zz+dTJ3gbw0mXvC4Mml4zkgkUSxjzZB6iofCcnyXMWOFkP8AKrc64uQPUGtou9NETVpkKYjmh+tQ+JY/+Jddn/phJ/6AanI+aM+9L4hj3aVdn/pjJ/6Caqt/Bn6GmF/3mn6o4/8AYH/5JFf/APYYuf5ivp1OtfMn7BH/ACSTUB/1F7n+Yr6cX7xrowP+7x9B5x/yMK3qPooorvPHPnj9u7/k2nxd/uw/+jUrE8Bx/wDFF6D/ANeEH/oNbv7dnzfs0eLD32wn/wAipWR4FUf8IToGP+fCD/0GuvEf8i+P+J/keVR/5GU/8KOhhXirQGIzUMY6YFWByp9K+ZPopbguG/KnqTn2piAd6eDmgkfup+DtqMdaZe3sFjaXF1cyrb20KeZLM/3UQdT9etUlcDzX4+xGHwLdamkfmNYyJlQcZVyFbHqQDn8K8W0fxNBql5ZtLOCkUJIYrnGeMZ9eB+de2/GHwPf/ABQ8HXelwXA0zeLfUtJvMnbNICGKSeinG0j3r56s9Dh8M6pLY39rNpWsRD5rCUfu8nqyHupPI+taKbpRakjrwtNVpqUXax1n27VIfEvh3SEkvZGupN8lzPNi0C5+VMZ5IGAB7V6HY+JYNNX7PqsTTSw5IkZs4bPpXm+mePrmz0+40maCGQEZiuG+8p7EZ7j14+la9ncC6be4LsMZdzkkHrXNCtyq8T6SrRp1viR1moXUGrXjT2TFpX24XoBVW18Parqslx/a9zFcWluFdLf7qo56bvesi5UySMLR2VkGQF4p3iCTWpfDsNlperLpeqebGUZ18zzumARVxk5SuyVCEFZdD2DwLcTNvS4dHfHDRnI/CusZvkPOT3rjfCdmdPuk82cz3DIvmNjALY54+tdk+NvSri1rynzuLS9pdDt3yLVZsi8GelT7v3INQXDf6RGfWjqcqK+pfKwIq/pjbrNapahjAqxozH7G646NxS+0U9i5cf8AHsx9K8u/aagTUPgj4ps5RHuuY4o4PMj3jzS67SV6H8a9TmH+iyDv1rxv9qxmj+Ek90pci2uYZHRD95dwXn86KjaWhdBJyVz4j+FfgjxHa+ItI0a1vvsr3qst5IqKiBgeGVAemOKm8aeCvFfhf4l6fa38Gpa7o07Oxv4bl7byyCRjjr0xWz4P+NHhfwrq8l5qdhqF9dL+7ENmmZRnutek2XxMmnuLe+vLW6fw67BIpr6MJKHzxxk8V5UXLm55I+q9nGVNRizjdY03UdQ8PvNOmqRWcX/Humrf69QOwcEkr9a8m8QXk7XcVrEmZpBgJn73uT6DivbPjF8XrK6hms4SSQAFA7ntXiWi6ND4i1C7gupCzXVs8ZJJyn+0Mc98D3BrDWU3KxMlyxULn1J+wPeLayeN9MvJo01Um3nNunUxBVGQe4zX162RuU9jgfSvmv8AZH+EFz4Fs5Nc1ZbiHUbixXT7WO6x5otlIYM+B944/WvpOSQHdgfTHpXr037h8/iY8s7xZSXhmFYupSlJB9a2TLtlNZd7p9zfSYtYJLhv9kYFFm3ojBWjqxt437tW9xVG8m8nVLKT+ES4/Ouoj8E6he2aecy2jNjAb5sVyvjeybQ7tIzMsoUq/mKMcjrSrwnGDkzWElJtI6+8O61Ue1VG+bYw/u4qwXE1lG46Muf0qrG2Y4iemP61vJ3aZla10WrRSbWUV5D8MBj9u7xP/wBi1H/6MFevWQ+WZR6V5L8Nl2/t3+Jv+xaj/wDRgr6XLv4dX/CfOZp8VH/Ej66718hfGn5v2vfC6/8AUKl/9Br69PUV8hfGX/k8Lwv/ANgqX/0Gvmsz/hR9UfY5F/vE/wDDL8jvoo8MRVuBcbTUaj96atQR8c9KJdDyl1FxtYGn/epXAIXilXFQA5akHSo91OQ5b8KaAbJ6YBLfLg859gPWvmH4563b+G/iZEFlhKXFukjqr5eKU9mXtkZ59q+jbzWIE1yz0FZQmqahBNJBlchNikhz7ZH6V4/8V/gTfeI9cj8UWkHm+II7JbLU9Ol+VbxE5V4z2YdvUE1vGLi1USEuWfuS0OF8OXFvrdtHazFn/e+YyA4Rhk8VqeA7PUoV1y61G3j0WaK5WWGx2YDxEZyG7muPstQgiAt9PSXT7y1JEkE64eNwehBreh8aXviKW2S7kUzW4K4CkEk9ec/WuKdb2lRtn2FGmlRVOWqPSYvHSyWxhks+W4LQ9Kz5LI6lC5tb77AADll+83fj05rJtJkWJm5yF5XHWn2djI8v2pJjHEBzu7exFaczk0ifZ06fuo6bS/Df9gWtv5d2VnI3yzPuctn+8QDz9a9Z0KTzNLhYHJx1/ve9eG+GdAXV/HV1rS6lePa+RtktC37lnJABA9s17X4d2jT0ReApIx6VpGS5rHmY5xcFFdDVDfNSu3LfSoz98CnvgyEY7USPFKtmfkk+pqgCUuox/tir9qcPIvuazp223C+zVEnojSOx0vAwQe9MkQrOeM7h0x1/+vQuNiHPBGadK2ZYiD82K1bsrozV27M+Lv22NDHjL4geHYIrqaE6bZjzoFl2rdBsHa/pjFcB8NfgxJ4x8E60t1qtwJkn8q1hjm+QA5Kj5iNwBz+ddn+1/qT+FfidHMtqZI7ywjmCs2S23AI/WuT8H/GDVNc0+30PTfA10sSnfFqKziErIeoI2kMPyryZqo5XaPp8LGEYJnK/Dn4S+LNJm1Oy1Dwrpmo332tkhuoyIJxHu+/5vt7GtT4h6DLoFwWmkyyptZ2beSfdu54r0Ww+J934Qt7zTtZ2yXqRnE0Z+9nkD+leFeOvHZ8ZakQo2xb8kL3rKvF1GkbxjGinbqcrHb3WvTFLa5jDsxEFvnLygDJ2jvg5r9PPgP4gtPE3wZ8HX9hvNr/ZsUALptO5FCsMduRXwZ8KvhLc/FKTTI9KtFe902VmebdtW0QscuxHXI7e1foT4B8N2Hgvwnpeh6amyysohFGc/f8AUn3J5rrw7adjycZGEYpx3N67OYjVS5I+ygelT3TfJjPNVlWSeNkiRpmzxtHFdji3seZp1Mu2fZqLZPVaYzYuZAv8SVrWHgjVbi8ErottCw+9Icn8q2JPA8Fukk8l1IzqhUADANEaE5Jpj9olJI5Hwpcf8TO8iP8AFhq27r5btW98fpXK+H5zb+LTbsTyhXnuRXU37fvI/wDerKnK8eU1qL3uYiPyp9DmptWXOl3Z/wCmEn/oDVE/Q56EGptRO/Rrk9f3En/otq6Kv8CXoTR/iw9UcR+wJ/ySLUv+wxdfzFfTadBXzJ+wN/ySDUv+wvdfzFfTi9q3wH+7Q9C83/36r6j6KKK9A8g+fP26f+TaPFn+5D/6NSszwIm7wV4fGP8Alwg/9BrS/bo/5Nm8W/7sP/o1KpeA1/4onQP+wfB/6DXVX/3CP+J/keXR/wCRhJ/3Ub0OOmKnj6moY121OOuK+bZ9DIZRS45pKTJFI9KyvGXheXxp4R1fQ4pBFLfWzQJITwHOcZ9s1qk5OOu6uo0LT1hjBcZZhhvcdhXTRg6klbYzqStsc58HfEMPi7wZbW17AsOq6aBaX1hKo3wSqNpJHueh/GrHxD+BuhePNLWG+t2lkh5hnRttxan1R+uPY07xX8PbzTdWTxX4VPl6zGmLizJwl8ndW/2gOn07V13gfxfZ+LtHjvLIklSY5IHwHjcdVYduc161SnGpGzRy05ypy5kz4i+I/wAIPEPghvLuYWv7OGXMOpQxnaB2ST0b9M1lWOr3Wi+VHfwt5UgCxTFcHPuK/QnUNKg1NCHXD4xyMgj0I9K+cvjl8DtW1S1nn8Kw2BvpeZdLvZGihuMcgxsFOx/rx7ivEng5Qd4n0dLNG48tTU8mk8UJpN1ZF4VQTHaGc43EYzxXdeA9BGseInv7iHFlbx7g+Dt3nkHPU4ri/gt8DvEniaS+j8XeHLjwp9n5tReTLP8AaJVJ/iQnavSvofTtDvNDsYNPuowkkcYQCMfKSPQ9/wAar2dWHxR3KqYuEtmY1hmHVlGCvzY5rp2OVNVLPwNqdxqBmfy7eNDu2yMcnPpgV0NtoKteLazOc4ydvSpo0Kmum55dSopO5kf8sv8ACoLv5fKYgnHpXWS+G7S2T+Nh6Hiqs2h28gQCNg3X73Sur6tU7GPtEc1fE7V43f7vf6Va0e1nS2dmQqc5wauTwWy3RgtALi4Xrt5SP8atxxpEuXLE9wK0hhHuyZVl0KhYurKR1HY8/lXCfGXwzN4u+FPiPTI0Z5J9OlaP5CMug3g/+O189ftg/tAa/wCHfijp3w98N6jHYxPZJd6h5KsbmRmdgsa4HAwASfesPQ774gXWl3F/NJrEViqktPeyCNCCOnzEEg9OneuKpeNTlirnqUMM5Q9pKSR4z4Rt7izeOUahpGm3pPy/axkYHBznnPBro/GWta82kzm7vNPutNYKkS2BZd23uVJwMH0HNcf9u0vR/EV0byGG9EMvzDeCVY8kZ/w9aqfEL4t6R9jKwMsS44j3ghfYAVHLLaSseiqtNR916nMX11LPcCSVzJLngHtX0B+yr8OYvFnxa0e9u08y10u1NzJERlWbJK7h3HWvmHw9Zan4q1ZHVSkDNyTx8vrX6BfsJ2EFrN4pkAVp444Ivm5YIC2D+JzWUaKlNJM5qlaSpylJH0VFYXU2qSNFA7J1aQ9GPWtu30SabaXO3d6VvIiJCi5O5QATirMZXcOOO1evDC8h4cqrlZpmXYeGbaJt8ibz71uQxpCgRFVR7DFCqPSpGAC8da6IxUehm5t7srXU6xxl85EYIH1ryH4oeZPohuShG12BOOueBXq9xH9qbYB+7XqfeuL+ItiZvBeqYHKFXAx0AbPSuHF3lTkma0Je+rGdoVwLzw7Zyg8vGOB9Klhx5AXP3SR/Wud+Hd59q8LxKWy0LFCK27bIWbP8L4/PFebTk5Qid1Re8zSsWzLIP7y15H8OWI/by8TrjA/4RmP/ANGCvV4G/wBKA/2a8o+HS/8AGePig/8AUtR/+jBX1mWfwq3+E+WzS/NR/wASPrtPuivkH4x/N+2J4XH/AFCpT/47X18n3RXyD8Yf+TxvC3vpMv8A6DXzWY60oeqPtci/jz/wS/I9MjX56sR/cYVFF8xzUo+4aDye4H7tA6Uv8Jpv3agBwGaUZ2sBwe1ITjt+FWdNg+1XQ4yB1rSEXKVhNpI4rx7o99our6B45sonuZdF8yK8t4z8z2rg7iPdck17Jolzpvi3RrS7t3jvbO4QNG6kEj6H+HHtU+n6bDLCUeNXjcYKsM8VwOoaHcfBvUJNV0xHuPC11KHvbCMZNkxPMqD+76+mRXu04pQ5Tin7zuyD4qfs96T44D3Vun2TVEGUv4F+fI6LIB98fXJr5h8Q/CnxN4b1aZry1aOMci8tzvgIHBbcOF+hr740rUrfV7OO5s5hcWsyho5E5DAiq+s+HYdTikDqpLriSMj5X7Akd/pXmVsHGbutGephswnR0lqj4L03xBd2d59i1FFtbuJMqznKyDPBB7j3rY8N+JJ9c1O80yIGecNtCwoW3fKOV7MPet74w/szeLbzUVuPBOpaVc2qyY/sfXkaP7MvUmKZQ24Zx8pAr034f/BA6PoumStOsfiKFM3hX5ope58o8bR2/Cuanhq0I81rnpyzClNXIPDvh1vDvhKOG4RVvmyZiCN2T0Brd8MyAQyjIHPIz3rak8O3eooYAqwlQCN/I/CruleBBpsTlrrzGPLLt4z9aUMPUlPmaPNqVoSu7mczDcufx5p5YFuCDn0YV0el6HbSWnmyw7mycbvapZtNthIAkCD8K7Pq0pHJ7RHH27Bbp/T9KrvayXU2IwNueZD90V1N/bWWnxmW4VIkHRc8ufQDvVOKGSZRK0ItoG5WLpn/AHvSnHBNvUHV7DGgaONEB3ds9B9c1VvLq3tGgM08UJxkrKwVuuDgHr9as63q1to+k397KMpa28kzJtLfdQkAADnnFfmz4BuviN8ddZ1LXjHq+ty3N1IEkuENvFBGGISNQ5HAXAzU4il7Fe6rs3w0fbtqUrI90/be8N/b4vC+v2t3Ghhmlsp3jKuQrAsvH/Aa8I8NahBJHJBpni2/tpwNn2eKz3IH7sdykYrp/i94ZuvA/ho2/iG8t7aWQCUQq7yndngZxjPPr615bpfxYtPDNi0UhgMbL8r4w3vxiuRqpy2nGx7NKVOn7sXzB4/a6tLj7LNqH24xpg3eAm78BgADtXM6CyTawgRlXHX29TXP+LviG/i/UDBpkTsrn7wXCD8a6nwT4Qm0u2OoX0jb5NyAHoFIrnlCFr31K9pKd7H3/wDslfD2Lwv8HknhtStxrFxJdO+eWXcQuT3GQTj3r3DTNDvFhRZAqEsc4x9ayfgZdWt38KfCzWsscsC2SoDHghSCQR9fWvQ4xtIYBcL7V6dLCRVpd0fP160nKxl2vh+IyFpPn/3q27Oyit49saBF9hTotjnIHFWlXt3rsjSjHoczm31ImcICSPlzk1h69dOI1iXlydzDPAFblwdqtkZPoKzLyyPlMzfNK/LVUtL2BfEmeMaqW0z4kWe4BfOIbHblf8a7HUH+RWHUEH+dcl8ZlGk+JtCvR8owpLZ7BgcfXFdJeOZrASIQVZAd36185D3Jyiz1W+aCZM2GUj1H86kuhu0K5HfyZB/441QxD51PbYGqWV86Te+0Un/oDVvLWlK/Yqn/ABYeqOL/AGBT/wAWg1L/ALDN0P1FfTg618yfsDjHwg1H/sM3X8xX00v3q6sD/u8PQnNv9+q+o+iiivQPKPnv9unj9mvxZ/uQ/wDo1ao+Af8AkTNAz/0D4P8A0Gr/AO3Tz+zT4r/3Yv8A0alUvAX/ACJvh/8A7B8H/oFdVf8A3GP+J/keTSf/AAoT/wAK/NHQL2qZvvCoUqRq+bZ9FLca1NyaWRsNTXO36UhF3S4BdXiDsOa7bT7U7gTyK5nw9GIEMjfef7prsdPYbG2sCe/tXtYaPs4+pySleRopjp0HoP8APWuH17wTNpmsnxF4c2waiT/plqnEd4vqV7MMcY6812sTbAMHNTnccHbz0A9Qev8ASt3oyGjH8P8AiSDWLVHYNG33Tu9QcY+oNaOox21xGyTFTxgN/Euaxruzg07UGuvLUWs7BbgDgBugcfoPrWpJpkCozqu5xxkn8qTV2mNaux4iuh/EPwNrF6bvULXXNDdy8E7KUddzH92QD2GOe9em6bqSaxp0FwoIOWWQSD7jDgj6g108aLNbhGQbTgfMMjNc1Y6HcadqOqKVH2WeUXFvIv8ACx4dT+ZreVRSjyyM0rPQsQTL5QZ2LeWxU5PpT7MlmlupAEDDCkf3fWqV1CbWOK3A2vJJlgPerrSqx8kD7ox+VK+muhUW3e5FJqEN1kwxyz567Rx9M1TurPUdRYo7xWFpjGyM73b2z2rchCqqgDAx93GPxp8mPTFReRocm/h+a1hSO0uxawqcsqR/NJ/vNVa4098EG4ZWxzt5xWzfapbJOYUbfL3UVnXwkkiJQ7fl5U9apQmzFzSeh59cfDTw/F4mk8S3ljZ3uuOvlLfXEKtIqdsGuF/aJsdX134T+JIdDONRTT5mtBIm4hlUnGOnIBx74r2ttI+2SK2P3qr/AKvv9arjw6JA6yAvkEDcOB359u3410UsNFJt7kSrOUlF7H4d+ENWvNasZ4bppJLlWJleTl8ngk4xjkH8q6S18B3FjdQ3HlQ3kEmDiXnFfWfx6/Y2/wCFZeNtT8a+HLNZfCOov5ktnH/rLGZvvgD/AJ5kgEe5NcK3gK1udLeGSQQW7MQHk4IyM5+gNfH4mU6dRqTPsMLGnUgnBHOaeo8M+H7m+aNEIX5gvYH0ruP2FPE3iPXv2mNKisZ3j0gaddT6lE33HhG0ID/tZDY/GvLrTwjqOsaXptjc3BTSw7TXM7g8gHCAfXJ/KvvD9ib4DR/DLw1qniW5ieHVfEASOKKVfmgtELbAP98lm+hFaYCMqlZWWhOYyVOg0fTcV8kaqJcjj5j/AFq5bXMdyoaCQSx9mFZPlmQD5SWbGB6Z7Vl6HJKlijj5JEdlI7da+ulR3sfGqpojuEbK9frT7lzhQpwW6Vgw6w0ar50e8Z/hq/Z6lDcM77tj5wENccoM6FJMvSKEi2gYwOfc+tYOr6cmpafcWlxu8m8QpJsOG29Mg1tMrMNv8R5/CqOqMYhGynhPlrmnFONmawfvKx4Z8MnSy1LxFpsW4w21ztj8w5bHPWuxtwRLdITkZB/SvNPh3qTt8SfFts3/AD8t+hr0lGK3swH8SZr52hLmhzeZ681Z+pcjJWZG79K8t+HnH7eHiX38NR/+jBXpu4qy+zCvMvh3z+3h4k/7FqP/ANGCvsMr/h10/wCU+WzZe/Rt/Mj65HSvkP4w/wDJ43hT/sEzf+g19eDpXyH8YAT+2N4V/wCwVN/6DXzOZfw4+qPs8h/3if8Agl+R6ZB1NTJUMZ5JHpUy/dJqmjye4v8ACaa1OXrTfvZFZgBzn1rofD9sY4POK/M3QVz0UTSzIo555rsNLxGipjheK9DCw5veOerK2iOjsYfJgy3GelWpFS4iKSRiRGXayMMgg9iPSq0UhCru+7ViPNen1uYrY4aPQZ/h1qMt3pZZtCnbdPZ5yLZj/Ev+x/Ku0tNZguY9zN5TYydxqwyrJEyPGHVhghhwRWRp8cVhdGwkT5ApMBPXyz1Q+6/yFS9dxJWMX4jeD7X4leH5tJGo3WnTkrLDd2bBWjdTwOnIPeuL8Paf4l8Ay28et6gdUt4+JLhU2hck4I/DH5V69JClvLGyAAVBr2kRa5pd3ZOxQToYy6jnnjFbU6vs4uL1QuVN3Mm5mEJ3bcqrjH0P+NS3U/yiCIsXbHQeteV+Pfi1L8LfGejaT4gsvtOj3liskl/ajdLFKrqrOV6lMnnHNehaHrFrr4bVNOuYLyykjH2eeBg6MO+COh9QeRTcHGPNb3WQqkJTcV0Ne4uF02GJBHJO3ACoOvrVZhd3CN5UC2uejSHcf++as28yzfOOjHAz+tW0IPbpWWpteyuc63hxTKJ7m4lubnOVmkCkp7KuML+RqpJoCRyySG4uHeY5IlbcB9BXS3t5HbQB2Yj+4MfeNc/HqQ1Dc0SbShIIbrVRjN7EOSRjapo1textG7zeWylOH6/h6VhRw2ukwi30+NUjUcCMBVB9OBzXVzwF7hXD9Mn5lyAKprp1ncxtHBOpKqWKRtllyfSuiGHUmnPoZyryUbRdj87/APgpT4T1q307wp4nt55TpVrdva3cMeQm5gSjED6Y/GvmXRdDHiazt5J/l3LxJiv2V8bfC7RfiJ4S1Lw7rtmtxpmowGKVSPmHpIp7OrbSPpXwT4w/ZtvfgjqiaFckalpsmZNP1LGN6Z+YH0cYXI78HvXi5rTqJqpB6Ht5ZONT3HueEeGvDJ0e++yy3kIiJ43qFPtWz8RPEkmkLaadbSBXK5ZlOcKOv9K7Pxj4IgvzYm382W7W5j+aMYXYCCx+nWrXw3/Z6vPiX4nltJYZrq6vXH2m4VTstrcHnc3Y4yB7mvnYp1ppRPo5RVGEr6H1Z/wTu0nVtJ/Z0h1HVJpTHquq3N5aQyEnZDkJkZ7FkY/jX1CdbihZRIrLuO0Ejgmsfw74Z0/wl4Z03RtLieHTdOt0tYUxzsVQBn3PX8aTXY5FhgdcAeenyHqRmvvKVH3En0R8DUqPnbudVb3KEDa25T6VZVi3zDpXLwSPHIZIX+Uk4Wrf9tyRr+9jyM4Ld6idFrYcZLqbafvnMvVVOB70l0vmqADyxxiore/huFAibgDJz1qUEorSHkt90VySi4u5tGx5Z8b9Ptp/BN5dywK91Zn9zKW+6c9RVTQ7n7f4Wspd24NAvzepxVr49GWP4ba2sQyAisT77hXN/DO9+3eBdOYHP7oL+PNfP1nGOKce6PVpJuin5nW277ooj6xgflTmfOn6iueBDIf/AB1qrWLh7SMZ5G7+dSyf8e2oKP4rd/8A0Bqbf7qT8i6TvVh6o5T9gr/kkOo/9hm6/mtfTS18y/sEcfCLUB/1Gbr+a19NfxGuvA/7vH0DNv8Af63qSUUUV6B5J8+ft0f8m0eK/wDdi/8ARqVR8Bf8ib4f/wCwfB/6BV/9uYZ/Zp8V/wC7F/6NSs7wG3/FF+HvX7BCP/Ha7K/+4R/xP8jyKP8AyMJf4V+aOiBxinhuahGSBT0+U182+h9JLce69DTVG+VR6mnM2FFSaXH598pYcLkn8qcI3momcnZHQWqhREmPu101hIEn2jpWLbIrys2f4au6U/71Ruya99RskjhT943lBHzL0FLHfJI391unNJvML5I+SoL+03L5kXDHnik9WUWLq3inheKQZV1IPsCOTXO+DdXe+hvdNuTi902Y28mf4l52t+OP0rds7gXduSfvDKmuG8e3kfgbxNpfijDCyunGnX6r0w3Mch+hGP8AgVLrYDtja3MOGimwM9DTJbi5jt99xbqyjltjYO3uR71dhnWVMqylePu4PBAP4de9SlFO7K5Hvz2qG2gPjab4p+LPhF461PQ7uY+IdKt7oyQw3zYlELcr5bDpj5uoNe2eAvi74a+IkpbT7s29/j5tPvMRzp698EfQn6V5z+1n4PS1vtE8TW8exG3adcso6E4aNj/3y/PvXgbW6s8cj5EqHMboSrg/7LDkfhX1NLA0sXQU4fEj5ypip4eraex+ggYrEuemM7cdffNYniLVzbtb2kcuyW45Legr5q8EftB+J/B6R2mrZ8R6co580hbuIdOG6N/wIE169o/jnQPiRsn0u/jknRdr2cv7u4h9mQ8/jXmPB1aM/fWh6lPFwqx0ZqavJLb2K3ITZc2jLKYx3RT835gGuiKpMBMh3owBX8qpWzi5ha0uU3ShPm3AgsoHXJ7+oqTQpj9haA8tbuYuPXsfyz+VadQ82VdY0S08RWhjuPOiVgAJbd9kikE9DWSdHuPC7W9xHeaxq2x2BhknVgQfX5Rmui0d/tli5C52yupP41b+4oRhnjNCmoysytJHPx61pPiiO40y+gltjcxmKS2vV2B1PUBuRXyP8ePgPdfDGUarpDz3nhm4cIq43S2jk48s+qk9D719p3mk2+pWzW9zGtzC3WOTnHuD1B9xWG9tLY6jZadKy6lpVwxxHdDc8bKdw69QPevOxmDpYxWZ34PHVcHK8dT5m+C/wv8A7DvrfXPFmi3+sagU8yx0KytVeOFcjEs5ZlGfRQa+kF1p/Ekb2Eek61pPnDY16FjhMQABwpBb19K62OFo1YAqE/uqcA+59T7mlU7VOeTW+Hw8MNT5ImOIxNXFVHORzur+GW1ayih/tjVbPB2tJa3Co8vGMsSpp2l2P9maTYoHaQwr5RaR97tz1Y4GTW44JQnPPrVdk/0bGd2P0roTexy8rvsKABICDxxis+Ervcc7vMYA/jV2EjyUJ7Gq1uoV1B4Jy5quVMfLI19M1FnUwu7bx0NXrnb5AyckDG7HrXMyXDWl3vxxkV08MgliVhjY46fUV5tamoyudVN7HzTb6TqehfHPxBczafLBp905aK42ZjYn3r0MyBNUUngsMFe2cCtz4i6m1joUsRkbmaPAz6muVuJyt1bvnHzYP4gCvl/YKjFpvd3PajP2iXkbFw3yCvNfhqd/7dXiI/8AUsx/+jBXodzL+5OOyfrXnHwubd+3Hr7Dv4Yjz/38FfTZXrCs1/KfN5rbmo/4kfXo+5XyJ8Xm/wCMxPC3/YKm/wDQa+uh0r5E+Mef+GwfC5HbSZf/AEGvnsy/hR9UfZ5D/Hn/AIJfkelqMYqdTtBqqr/MB7VOrcGmzx+5Lu+YU1vvGmIx3DJpZG7iswL+kR+ZM8nZa6SwYRsxPcVi6DAUgBYYEuTWy6hYE/vDqa97Cx5adziqaux0lm5kgCHtU80zRbGAyB1qno7CRWGckCrsTZyj9K1EnoLBdJc7gOD1wawfHPnwaFJqFmjPdae4uQqdXVfvr+K5q9eRtY3Mcyn5CeRWoG8xAwAZWHT69anrYb2M/Tb2313S7a5tpN8M0e5JPUdx9c05bG5jfMVzx/cZc4rhvCmqr4P8Waz4ZnUw6eo+3WVxI37pYmPzLn1B/nXo1rdx3UCyQSrLG4yjqwKtUybS2FFo+af2vtLmjl8K6lIFxvmtWkVehKM4/Va8Z8B+Pta+G1802kSK9ncHdcabcZMM/upH3G9DjFfTP7VulvffDRLoZ/0C+hnOD2J8s/8AodfKQh2luvzdfQj0r7LK4wxOF9lUWx8tjZzw9fngfYXw2+JOi/EKzMmnStb38A/fafcECaL14/iX0Irud6xykHcgxkmvgqzubnSr6G/sbqWyvoOYrmI4dfb/AGh/snI9q+g/AH7QcWtQwaX4m8ux1Rh5cd4hxBP9f7rfpXlYzLZUpc0fhPSwuYKouWW538upTaxfXLq21rZsJA33WT1+vWoYJGsfE2ORFeQlWB6CZf6YBqQ2BhuDJFxKvzqScgg/zqXUJlew+0ooE1qRKQ/8Pr+YzURXLG1jpl73vdDTkUQRoVGVYbG+tYuseC9H1+5S5vLGOe6i+VJVLKwx0yARmr+sXSxafbzAkI0icnrzWnJDxlc54P4dqWu7K0a0ORjtr3wvJcppeiQ3NhLJvQR3BR92DnqDUHijw/4c+Kmjy6Fr9k8MrDzDBOAs9u+MBomBwfeuzVw67WXLVV1HRbPVIws0e9oxiOZOHj9g3UCsalONVcs0EZSpO6dj4h1T9nHxXp/xAn8NW4Y26qJxrCoQiwdNwH/PQ9NvQnuBzX0n8O9D1T4eaDFpWheDEj09dzST3uoBbq6fj53AjIGeeMmu/wDDkly0V/bXFz58kMxijmC/MUI4yfVRx+FbHl7d2erdea4aGX0sPJs9LE4+pi0l2ObstLfVbiDVNX0qCzv4UMcQWZpNq9eeg6k1Wm8BaLHrkGrx2Q/tJZ9wuC7cZBzhc46ZrrXUFQG5qvPH+8RsZ5zXpp2eh5XIlvuU0cpdSrjhiWFNv/3do/rkVNMAsyN7Ypt0vnbIzzuOTVal2Ig7Kxb7pU7ga3rS8+3wBmGRjB+tYMUiy2x6nduJp+jXZivUhOAsgwMnvXLWhzbF05dCt8TNDufEXgnV9NtI1a7uoDHErcAt1AzXlnwy0PVfCHhuPSdbtTaX0WT5O/cu3swNe9XS+ZBIQR14H0NeS67rJuPGEkLHlbVOD16mvmcRSj7RVX6Hr0KjtyFnTpVEcq+j1PK/F2M9beT/ANAaszTLn/SLxfRwR9MCrFw+0Te8Ug/8htXJJ2pSXkdlJfvYf4kY/wCwWu34TX4/6i91/MV9MjpXzP8AsF/8kn1H21e6/wDQhX0wOhruwP8Au8Qzf/fqvqPooorvPIPnz9ub/k2zxYPaH/0alZfgP/kTPDx/6cIf/Qa1P25Bu/Zv8V/7sP8A6NWsfwO3/FFeH8f8+MI/8drsxH+4R/xP8jyaX/Iwl/hX5o6JWqX+HNVojwPpU27aCK+b7H0U9yYnMRrQ0PP7+TGRnb+lZe/90QOtbGgkG1u19SGFdGHV6l2YS2Oitfun/dpbRxFdKV45qHTZA5ZT/dqSdfLkBX1zXuaHItzrMCWMZ54pAhTjqPSoLNzNaxsp/hHWk+0srFWB9CazLGR4sdQ8tTkSAsB+uKg8VW0FxoF758KXMccPm+XIoO8p8w698jiodYhOyCdZOI5QQR15ODn2xWqrpNAyuNy8pjGSQe2Kl+77wHzPpvxW/sO/TxBHercf2ncJAujnJePPysZOMYG3jGa+m9PvEv7OG5j4SVQwyfWvDvHEvwt8E60j6pPDLfxvvXTbZPMlJPPABAB+prKvP2sLS1VYdE8LXEkKKFRry4EOP+A7T/OuuOGrYhe5FnNPE0aerep6l8XvC0fizwNqmmsV/ex7kLYG1xypyfoR+NfFEMblAWBV+VdcEEMpw4/BgRXrHij9oXxF4r0ubT20nTrW2lZTu3u7rtYMDkEdxXnFxJNe6he3tx5Qmu5mndYUKorMctgEnqcn8a+nyrD16CcZ6HzeZVqVdqcCn5I2juB0HYU37PskjmV5IJYjuSaFijofVSORV3y6DH+Fe+4Jr3jxlJp3id54V+N+r6SiWviCN9Zs42Drew4S7gx0J5w35816z4L8c6V4m11v7P1GK6S8g3CNcrIjrx8yHkZDGvmfyeBwPbg8e9EcL293FeW8j2t5E2+Oa3Ox0+h9PrmvLrZdGSvDQ9OjjpR+PU+s/Bt/5dxqti5IeKYtg56E107oDhuDXylpnxX8WaTqE92LmyuZpVCs81u25gO5wwGfwra/4aC8Zf3NKx727/8AxdeXUy+upe6rnqRzCkfRjRhh8rbW7VVneNriA3CfvYwVRwO575r5+/4aD8YFv9XpP/gM/wD8XSN+0B4xbgxaO3ubZ/8A4uksvxD+z+Jf16g9XL8D6MWWPgB91PHJ64r5t/4Xz4uDAiHSAf8Ar2f/AOLpf+GgPGH/ADy0n/wHf/4uk8uxHWP4h9ew/wDMfSXG3DEAVFIq7GA7183/APC/vGX/ADz0f/wGf/4ug/tBeNP+eWj4/wCvZ/8A4ul/Z9fsH12h3Z9DCYLH5Z4HrWddTFNUSMZDeTk8cAeteDSfH7xi3Jj0jr/z7P8A/F0+3/aD8ULK0k+l6TcFlCuVDocA9Byav6hXX2UH12h3PeTC1wGlaQKuOBg8/StnQ7gzWHK8qcYrwqx/aQt5NkeqeHpoEXpJZzeZj/gOB/OvR/h/8T/DniyU22naiovWJY2dyPLl9zjp+tebiMNOMHJo66OJpz2kQfHNfK8Hm7VTlZ4gSvpuArlLm4za28uc4dMt/n2r1vxBpcWu6Pd2Nwu+O5jMeMfdPUH8xXi2oW8um6e1nJnzbU7Dnvjv+VfH4iNnc+iw7+ydNcSAI4BznNee/CZt/wC214gb08NRr/5EFdi9zuhQk/8ALMZ+uK4j4MHf+2l4ifPXw6g/8iCvZyp+7WX908HN1yyor+8j7Hj6Zr5G+Mgx+134Zb/qFSj/AMdr65T7lfI3xlGP2uPDP/YLl/8AQa+fzLSlC/dH2OQ/x5/4JfkegxH5ql9Krow3DH0qVWqjyu5YDcelI5Iz0NRg/NT5ANp469Khb2EdNYp5cEaMe2R+Na7RjyQGHvWRE+Le1cc5jzWxAyzwAnjivpIWUEjz73my7oEg89wDgVuNseMZ61y+nP5F+gz8rGuimjPJHPpRLcEOmhR4Skh+XHWq2l3CyLJCD80TFT7elKs4YlZgVqlHF9j1a4YcLMofPbIPIqX+Jez1OI+N2ozadptj5du7Wt5N9mvJo+TBHgkN+Yrzn4fftAeHvDPiK70ebU3l0O3jTZPJEXeWQnG7C5xyM47DFcn+0Z421fxF481Dw3LdPDomn7ALSJtqzSEE75COSRjhQR1615pa28cKhIkEff5QPxPTv0r6TC5U69JSqPRngYjMI06jjBao+gPij+0B4T8aeBtV0axi1Cee6jCxO1sUUsGDA844yBXgqRFVRXGJFUZ5yOlTrlTkgg9duffp9KfHGFXAHA555Ir6HB4SOCTjF7niYnFPFO7WxB5XcZU+opjW6tlSoKEYK4q7tXOPbNBjBrt+LSRxXtqjq/AfxRvvB7LbXscuraYBiNVc+db/AEPcexrvbj4++HLqI7tO1UT7SC3lJh+O43V4vs+X3PU9DSeX2zx+NeZLLqMqvtbv0PVjmVeFPlsj1dvjxpM3hlLN7DVXuo3yGMSZYA8fxV0dl+0n4fFpCs2n6qsgUKwESHp/wKvBfLLex/vDNGwr2z70pZZRl1Yvr9Xqe/8A/DRfhncWGn6t/wB+U/8Aiqhl/aL8N/eSw1bOcn90vP614Nt96XafU/nUvKaMerL/ALQq7I93i/aM8OYbOm6sg3FuI179f4qf/wANIeGmdR9h1RFJ5YwLx+RrwTYfVvyprLj+Jx7A8UPK6O92UswrNdD6OsPj74MvmCyX89ic4BuraRV/MLiu30/W9P161E2m3tvfxYzvtZBIB9duSPxr40kj4/yf502xurvQ7tbvSribT7qM7lktpNoJ7Fl6EfhXLPK3a8GawzDW0kfaEyEKDjocZyMH3+lQg9WYFcA4rL+H/iKbxZ4L0rVbmNEuriLMgUYVmBIY498CtO6kFrBcS52mKNmI64HvXiW5ZWZ7UZKcboyLF5Z7TOxsOx2/Q1LLbizaEgncjAlj2q1pEckllaeaMSCIbsdM1JcWnyHJyzVUrNsa0Zvr+8jxnAOD+FeI+N43sfisV8srHNYKyt2JBOR+or2azkIQE8YGK5P4ieHv7Us4b6Nd1zYtlTjl0PUfyr5rFU3JaHrUJW3OGsZvL1WdSfvRq1XrucASH/plIfzQisJJ/wDidRc5EkTD8qs6hdYgmOekb/8AoJrwqmkJ+h69Bc1aHqif9g5dvwl1L/sL3J/UV9MpyM18z/sI/wDJJNR/7C1z/MV9Lp0xXpZf/u8THN/+RhW9R9FFFegeQfP37cI/4xt8Wf7sP/o1K5/wU+3wZoAzj/QYf/Qa6T9tpDJ+zt4mRereSB/39Svkjwb+3f8ADb+zYtFW21w6jpVssLxJaqwlCgB3Vt2MA4646121YuWAil/MzyKNv7Qm3/KvzPrSOQbQM1MmR9a+Rr7/AIKHeCtPmMcGg6pPjr5skMf4n94ea3/Df7efg7xPF5Vl4Y8V3lx1C2OneeoOem4NivnqlOUUubY99Si2fTitt3E84HNafh2UebPB/FImV9+/FeU/Db4vS/EC6u/O8Ha/4Ws4wGS61tYo1lOOQAJCR+Vd1puqRLdQNDOCS3AUk8+nIFRRqRjNK4Sjo2judOk2zBT6Y/H0q/c4YE1lPdqjJIGwxP3cd+9azESIrdmGa+ki01c4jU8PXAe2MT9jgVrSxA/Kwytc1o03k3TJ2Y5FdSvzjBrOWjKKTWSMroDhXUqfyrnfFd3cWPg/W5YpGW4hsZ2VlwCrBD8w/Q/hXWlAK5L4jKsPhbXUj6nT5s8Z/gNOFpSSfUiduVtPVI+EdNQLAjs5JmjWWSRzhndhku3q2c8nitJBx8xI/wB41578Qta8QeEfDNhruiRfbLTT2SbVdOWMM9xa4G5k5+8vJA75qrqHxTXWfFGnWfhnUraPRLGxGta5rTJvjhtDHujjGD/rGBUnuBniv0T2lOFoWtZI+J9lUqLmWt2z1RI9uBUyqK850P44aHrOoaVbvp2raPbaxKU06/1K1VLa7bHAUhiV3DJG4DpWvF8VtGk8CeIPFHl3n9n6LLcQXMbIpm3wuyuB82CCVOORWsatNu1zD2NWL1R2QUbd38PrStHhSeg9fr0rzjW/ijd+CbrxHr/iOCaPwkpsU0uWOFfNZpgQ5OGPAJHbjtmrlx8YtLtbPSyNG1yfVNTLtZ6LFaK95JEuN020sFVDkcswoVels2VLDVd0juihGR3BwfrRsP8AWsLwb4403xxp9zPYx3FvNZTG1urPUEMc9tIP4JFGcY6jGcisHxB8Z9K0HX9a0NNI1rWNU0pEnurfTbZHYRsCfMBZwNo28g4bkYB5xpKpTilNvQhUal7WO5KHr2pGjPU9P8iuJuPjV4ebRPD+o6el7rcmvq507TNOhDXM2wkSAhyqptPBJPUGsHxd8fLTTfhvrviLR9MvptV0qaO0utNubdY5bOVmCr5ylsbecZUtkkfWlLEUt0zRUJ7230PVBGfT9KXy8AkjgdazdF1k6t4Xt9WutPn09mtftElpcACVMLuYMFJGeMjB6Ee9cFpf7R3hnVbXS9STT9ai0fUZlt01iS1UWqTFtoRmLZHzcEgEe9OVSkldsj2NTZLY9O2Dn260eX14ribP4zaHe+MNT8OQW2otcaTLJFf3Swj7NZ7FLNJJJu6EKcEAnnpVfS/jjoeqXWmb9L1qw0zU7j7PY61d2gS0uZc4G1t2QDjgsBnFT7aja7kV9Xq9jvhHuOByab5e7PfBwfavPNd+Pnh7RpvEBk0/V7+w0QyRX+p2lmj20Uyg5iLbwScjGQMA96nvPjposGq22k22maxqmqT6bDqdtY2duru8D7sAZYAEY5yR1GM0vbUf5g9hV7HcmIHtnnFM8kHPA461x/8AwujQ7jwjYa9a2mqahFf3TWEOm2ttvu/tCHa8ZGcAr0JJA9CarzfHDQbbwzr+sahaanpr+H2hTVNPvIFS6t/MYKjbQxVgSQchulT7Sja/MJ0avY7fyvlBydv5VBcwnbkEpLGPMibO3yyDncpHII9RzXHWPxp0u+1SOwGla1aXV3ZyXlgbq3VDqCoASIPmPPzDh9tM+DfxHuvil4FOtXek3GlyvJKBuVUSRVcqpjwTwAAGJxyDgGolUpSvBa3VzX2NWF3LTY++PCGvLf8AhbSLiaZppprRGZyeTx1PvxXF/Ew2ki/a7S4jkmaMiZEYE8d8f56Vy0PhzVdW8AwwrdTOJbAiOSBsc7SQ2e44rmvBcjTeE445N3mIDC245ORwf1FfkuMxDnOUeXRH6PhYPkUjrYbjzNKgIPGwHPrxXK/A35v2ydfb/qXl/wDRgrV0m78zRbbnO2Pb+VZXwHYSftf683f+wF/9GCu7KbWrW/lPGzf4qP8AiR9mrytfJHxlRj+1l4ZI6nS5cfgvNfW4bC18E/tsfFRfgx8XtN8XvprautrYeUbNZRGX3Mq9T0614uYq8I+q/M+yyFfv5v8AuS/I9zhYjA61cRt3HeviP/h47aXOh2t/beDgqXDMu271Bcq69RtUE9CKr6N/wUG8VaveRQ2Xw6Ooox4is0nd2z6Hy8frWvJN6LQ8b2id0fcycjI5HTinO2Qh98V886X8ePi54jsRNYfBN7N2H39Y1aKBPrjk/pXr/h3xTeXWh2kuvW1pp+sMn7+3spWnjQ+iyFRz9QK55Tiny3V/UfK5bHo2lzefpsRUEtCdhHt61uaaxaNh1A71xnhTVEuJJ/LJMddPY3Cfaiq5VH+Ue5r38PNTppnFUjystyfuZg46qa6ywm8+3RicHFcrcLuU54bvWvoM26168qcVrLUlamwYlkPziqF9brJD5inmM7gp9eh/TNaA+YA0yVUYPn7uOax6hLoz4K/aS8YaV4N+L2rPq0kttDqF5BaRXCrmONyrEeY3QZIwCa5XxB4u0zwtcaXa38r/AGrVbn7JaW9vGXlkk4ycAZ2DPJ6V2H7R3haw8beP/Gmi6lH5lrqDRxY/uHBKuD2IIB/CvlvwG2vSeFvHPjXUr7+2PEXhK3u9D0VtpxGsCkGXHOZGB59gK+5w9aVOnBeSPlqlKFSpL1Ppfy2Qncu3ueOgqULjAxgkZHr9a+cX8Mab4E8EfDfxpoN9dDxLqGo6cJ75rkyHUftDqJldehG1mbjpirOh30kPwC+MEkt15XkarqCIxnwYyfIwozyD7e9d0cZfW25zSwVup7hp/irT9R8T6j4dgaU6rpsUc08Ow+WqSY27W/iPIPtW0Iyc4jb5eTx0rwD4raPFa/s722sWW+z1y+stEhmv4vlnYDyQpY56jiq3jzwi+i+NPBPgHSNMfVtAntLnUp9OvNUa3W/ux5YJaQKSxAcnZj3zxR9adr27fiT9Ui/dv/SPohoyvVGHfpQikjKqSPYV5h8E/D+u+F5vE1jqUVpbaQLlJbDS4b/7Y9llQJI2bAwpwCF68muaTwTpPxE/aQ8c6R4gea6sIdMsZE0/7UY4mLIgaUgdSATj0rZ4m0OexnHC803C57t5bbsbCD6YpPJdhuEbbT0OK+UdI+2eMvCHwy0jUdTvJrVvF17pS3sc5SWa0RBtXf1x2zjtWsPCN34t+IXjjRF8MR6zpXhtorKwtbjWWtTp8JiQ+YgCncSSTv8Aw7VzSxqT1iaLBprc+l1hO7hSx9AKXac4KnPpivnhdP1jXr/4R+CfGd5HqNnexXst8tleF479oVPkI0gA3nGScddtcd49s/8AhHrb406Zp2p3j2tndaPFbf6QZGtgxkzGrdguenvVfXL7RLjg433PrcoRjKsM9OKbJC20sVIC8kntXhutaTpnwg+MnhufTri8sbK/0XUp9XcTmQ3HlRyP5jKeN+V3AjvXAXcN14fsvAvi/StIfR31bXLdIdWvtaM1/ewylsiWELtIIB6NxgetJ46y2Jjgua7ufVrQMzjCt1xwP51kPq9guuwaMZ0GpzW/2pIdmG8kELn8yK8KHgHTPGEHxpvtTN5NcaXq1z/ZqLcFVtXWCNhIg7MSf0HFR/DbRrDxR8W/A2s6nCt9qdx4It9RluHZgTcfuw0p9Tgn86X1puSSX9bDjhUk23/W5+lvwWjDfC/QF6Hy3x7/ADGr3j7Wo/Dvha6u2m8lsrAjhc7WkbauR35NYnwt1JbD4WaMZHP+qc8kDd8x6DtXjn7T3xctvDWi+E4ry5WJdZ8Q21ptz/yzVlZm/U1804OVSXqe7CXLTifTMSKkabRgEAD8qV1B4PPpXOaNrYs9Fiu9SvorSA/N5k0ixjGP9ojP4Vg6v+0D8PNEVhceI4JWXki2R3P57cVhUcac7NnbCE56pHcDUlsl/fgkFsbh0qpqXjXRrFVS+vIYVkBCIXG5h0OB3rzGH45fD34mXEWhaF4lB1W4fENtLG6NKw52hsYzXL/FPwZcaW+i604Zmtrvy5Hb5vlcfXgZUV8/ia3I3y7M9ClTb+I2dYmt18SwtaNm0ZmWMtwdpHT60mqzZtpucHy5P/QTWRqlx5cmny8Y80H+Q/pU+p3O6C5B67H/APQTXz9eX7ua8j3cJZVoLzR1H7BwP/Cpr7/sK3H8xX0tH1r5q/YQyvwkvc/9BS4/pX0qv3jXp5e/9mj6HPnFvr9b1JKKKK9E8Y8D/bZfyv2evEbnorQE/hKlfnJ8Jv2DLq81iXxB4u1aaXT71fNt7HSpjGSjnO127A8ce1fox+3Af+McvFP0h/8ARqV5Fp66wugaMts9rCGsYstc54XaPUYNehOnKrgElK3vM8elU5Mxn/hX5mH4b/Z1+HPhWCOK08GaKpTGJbyN7qTI9dzYr0C0Sz0G18q2WGwtx/DaxRWkY/75UGuLfVP7Qs9RtJPEDR3YVokltwqrEccMAnOB1ryaPw14WvmzrPi7WfFs+PnjjkYpn0xmvBeEhBJTi2e+qz6I9l134seGdJkMU+q289znAijdp5CfxJH6Vs+GdbnuNSsLuSJ4LeY5j80YduODjtXkuj6Z/Z+0eGfB0WnxqP8Aj+1Ajj0JzXTeE9SEerWDXGoHU7/zwJZYWJhTJxtHYUSpqnG8Ikxc5bn0Jda+bTR3vUX7Q6EAp3AJHNdpot0t3ZQunRk3r+PavLI7hWaSF9uyVSD9e1dR4Fv3gkawdiHA3R7vbt+Nerh5qtBPqjmnHlZ15k+yTRSL0U110EgmjR1P3hmuPuJUkjJHynsK1/D1/vj8k8MOlXPUEbjOMdMkdK5jx9as3hXXp2HXTpx1/wBg10YjIBaU7aw/HEkbeBPEO3cVWwm+Y/7hqYe7JCqawaPgzS1VrO2UgMvlAMpHB+Xoa8X8A/C+9k+CPj7w9Dpv9j6lqt9epAssfllwXYQjP9zGAM8YPSvY9Pby7W2OMZRTz0xtHP8AhWirBuSfm9fX61+izoRrKMvI+M9u6MnFdTxG+uNa+Jmk+AvC0HhnV9MvdJ1C3n1O4vodlvarArLhH6PuLdsVjas+uaP8KfiV4ITwjrN/rF/f389vNb2xNs8E0juJBJ0yA2NuOSK+jlcyAB2Z1HRWOQPwqfzG24DkD2PT6VH1RS1+RUcW4tKx5j8atF1DXfhPpFjZ2M9zdrf6WZLeFNzIqzRlsr7KCT9Kx/jL4Pll+Keg+K7yx13VPD8emSabc/8ACPTSC6tm3BlchCDsOTxnHFe1K5U5DYOCCR70q/Lgr8hXoV4I+lazwqnd97fgYxxTikn3f4nnnwZ0Cy03T9bv7HQdW0MandiQyazcvNc3YAAWV933CcBcHNR+FdJv7P4wfFW/mtbmG0vbW0W2uGTCzkRThgrd+So/EV6TuDZLHcSMHPcelOf5gByQOg/z9Kr6slGCfS4vrTcpvvY+Z/AHhvW/AI8BeK73Q9RmtLGz1LTb+zs4TJdWnm3UzxyCPupDjJ68Vb8U+D/EXjLwn8XPEEOh3trJ4hey/s/S7lSt3NFbujNIydmITIFfSAcsyuzMWH945pvTuxbGN2eTj1NYfUko2+42+utyvY57S9YGveAft32S7sfM01w1rex7JoysBU5Xscj9K+b/AA3Nqvjb9mXwz4AsfDuq/wBpXjRgXqwH7EkIuCxnMnQNt5x619W3MC31vcQS5aOZGR8noGGCfyNZ3hHwzY+CPDNhoOlPMum2KlLdXcsVBYtjJ9ya0qUJTa7JWM4V+WL83c8s8L+B9Tvofjhp/lSaedbv5I7O4dcLMGidVIPQqTgZ7ZrivBvgOwvNN8O+HNR8FeNLrV7OSGO+ivL2ZdOtmiJ/fo5O0jGCoA7mvp7k4y2ccDnoPT6U5mLAAscDoM8Vm8DGUYqPRFQxsk2u58z63qmpeCvhl8VfCknhvU724updUvba+hi/0OS3l8xzK0nQFA3IPccYrrvhHpN5b/FG11V7SWLT38G2Fsl4yEIJAzEruz24/Oun1v4G+Hdc1HUrqe51iGz1OYT3+l2t9IlndvnOXiB2kHvxzXe28YtYY7eP93HEoVI0+6qgYA/Ks6eFlKfvbI2qYpcvunzGug+JtD8P2EN9Ya9beHZPFWpXGrxaPERfeW0hMDKRz5bZzlcE561la34N1iPTfilb2vhXX4INeg06fTFvt9wzJHNGXEjsSwk2gnZngA19Zs7dmKnGNynBx6ZpiqI1wowMYPv9a1lgG3e5H192tY8r8aaJqV98TPhTPBZ3MsFlaXi3MqqStqzW8KqGx93JB/Kov2eFvNN+GMeg6lpt9pl/pMlxDOt1HtjbfIzK0ZP3gQwP416u33NuSB3Gev19ahuHLIwLZBU7Tn5hxg4FNYX2cuZszliHUiozPVv2NvGyeNPhIumzgG90G5azkXOT5ZJMZ59g1VNS0waF4g16xRcKJWkTtwwB4/EmvBf2EfG02n/GvVNAY7bfWLOVdvYyRsCD+C7vzr6m+LdgbTVrbUVAC3EBiYr/AHlJIP5EV+U1/wB4py7M/RKcVTtHuefaTNjTWGMbHZf1pn7Pjbv2uNdP/UAH/oxapabPsTUIs5CTlgPY1P8As5SeZ+1lrbf9QHH/AJEWurKPhrf4TyM4+Kh/iR9rV8Cfty/CxfjJ8VrHwlJfNpq32n7/ALSqbnARlbAH4V9+r0zXyD8d5G/4aW0RfNWCM6TMC7ED+H3ryMwu4wSdtV+Z9fkN/bVLfyS/I8n+Ev7J3gP4X6faxxaPp+p6jGCz3+oRmeRm9QpO0fgK9jhW20uENGY7SMLn/R4Y7YAfULnFcXqmpRJG7SeJGnYfdtbSQKzHj+5ya5X4laf4X1rS9KuNah1iNI2wi2wkDSsV5Vv4iO+TxXVLAwjrZy82eEq0tUdxr/xU8I6IpN7rFmHXnDSG4fP0J61k6P8AFQeMr77No2mXT25/1l5OvlQqPXjGa4/QtE0mxw/h7wDlxyl1fLznHX5qn1S9u45Y18Ra7a2MJPOm6aw3uPQ7apU6cV/DHzNnufgHVjBDdfv1lRZNrSx8g8120GutY+ILW1bBs5I8h8/xZryb4fz7ZL2I2zWCnDxwY4P1rtA5vI9oH72LkVthay53BkVFfU9fLblBbBb2qXQroW94yHo3GKwPDOrC+02JnI8xeJB+HWtBbgLKkoHzg5z616MotaI5kdr6c4ANNYh1YVWsroX8AKuoYfeFPMsNscAiSQ9gawknZmmjtc+MPjQoj+LfiXa20ebFjH94A8GvO/DfhPSvCkF7babZfZYb+5kvrmORy6vI4+ZufXHTpXunx1+GWvnxjfeI9O0+W+02+VGlEA3ywOuchkHJByOQDjFeOrKvmlCwiYnlW+Vsjtg19/galGrQgnulY+JxEalOtNbK5yui/BnwloOrWupWWlMJ7VvNt45rqWWG2c8b44y21TzxgcU7Vvgh4J1zUtTvL3Rmll1I77qMXUscEzHA3mMNt3fKOcV2Ctn/AHu3GPyNWOV+YhlJHPB5/GvR9hS7HP7ef8xj6t4K0bXvC8Ph7ULZptGhEOy3aQjAiIMYDDnKlRn6UeLvAeieOLa2ttcszMbSXzLeWOZoZoXIxlHQggEcda2h8y84+mDUi/MvAI9QO9aOjTatYzVWSle5j+DfBOieBdPlsNDszaRSy+dKzStLLK/q7sSSfcntXn9x8FofE/xe8Y63r1hIdJvbO0isbi0u5IZN6IolUlGBxw3GcGvW1VmwfmY52lupFSHcxOFIHuKynRhKCjZGlPETjNyujmI/ht4ctLXw/aQ6dFBB4ekafTVWQ/upGGC3XnIPOc9qg8V/CTwp4y1Q6lqthKL7y/IluLO7lt2nRf4HEbDeB79ulddg9ANoPUDinLlcAZ/A/r9a0lSpdEZ+2nHdnmXxM+Hf27w54d03RPCtpq9jpU6kafBePYzxRbSoNtMpyr5IyDnI3Vh/D/4HwzQ+MZPE2iR6dpuv3Fs0eix3bTNEkGdryzZyZCzN+Ve14+9nOG5I7U0jrxxx0HHFc6w0HK5v9any2Riat4N0jW9dsNXvbJbm/sIZbeCR2+RY5VKyKV6MCGPX1rkU/Z98BR2T2Y0aSS1Zg0SyXs0ht2Dbl8kl/wB3yP4cV6TgZyFweowMd80HngA57KOf061rKjTeljFVqltzmtN+H2iaPp+s2draPFbau5kv1eRmaeQosZOSSeVRRn1Bqgvwp8Lrd+HZ1094bnw/Atrp8kVw6skagDy3wfnXjvmuvaPGXZQijruGCPzqmdUhVtlsxu7hf+WcLbiPqRwBWVSNGlHmk0rGlKVerJRim2ex+A7zTNU8J6RajV7WS+hhYvarMPMPznAx+dfEn/BQbUNX8RfE7SLSGyaz0XQIVezUAjzZTyz5/vZJX2xXsctmLSyaJol87Bd8DOxic5HtXAa1f2HijUJdAlu7C8M1sUt2lUFVkxkkN618Es1hKrO6slsz9B/sirGjBp6vdHiCfGzxF4x1Ga58RapdXLsdscM74jt1HYIOD064rpdM8ZrqkexRlSMblXAIraT4QWWhrBcXmksWdsK7gMh+h9e+DRqcOn2EJ8mOOMrwRGOB7V8xi8RCrUumfTYehKlSSaMXS9dm8J+KNN1+xb/SNNukukz/ALLAsPxAI/Gv048Qi0+IPwxe9tMSQ39gl3Dt9eGB/Rq/KrVtSjaR1Rvfp6c1+hn7FHiSXxP+z7YQXTmRtOuprDcRjKYBUfhk/nU4VqXNE4sdF6SOa1actotrMeCBGT7EdatapcD7POfWNv5Gm+PNPOjjUbIjAt5H2/Q8r+hrP1C68yxZhxuhJ/SuLER5ac15F4SXNXpyXdHp37Cv/JJ7r/sJz/0r6Tjr5r/YV4+E937anN/SvpRfvV6eX/7tD0Ms5/5GFb1JKKKK9A8Y8A/be/5Nz8Tn18n/ANGpXgUK6J/ZOhzfZLu+f7HDuwrNyF6csuBXvv7b/wDybj4nx1/c/wDo1K8PupNXHhnw5NDf21vF9hjBkkiLFQB75A/EV7NP/cYv+8eEv+RjL/CvzQ7Trm4aa6gt9Ntre32gLBJgMBjPIGc+nJFcpanxJbQukej6L4ZhViN7MC/1q/bXdkusyJLfTapcHG6a3dAGbHCbIQpP45FcJNL4Zj1i9g8vWdevllIe3dnCwt/dwe1eXW1dz24vUv69fabLIBrXii61mUsB9jsFKqT6ZFbPh28ngtIDHZpoWnJcr5VnL800pz94n0qjDb615Kvp+iaf4XtcY+0XoXzMeozzmr/hmxhnW8MV5J4k1FcGbUJPuQqCDtTtXn1FdG8dz2CTVU8tSCOMNiug0nWReW6XEEmLqBl37eSPQ15F/bDouwnnpT9J8X3Gi6ktxBIFAwJVI4ZfSuTC4n2NSzN6tHmjc+pFnFyu/rzg7TkZqxHI8UvyuyOOQVrnND8u1s1ljlaWCZRMoPbdyAK14rlXmRg3fDc19HpKzR5uq0Npbue5kQSzM2OTniuhuLWLUNKktZFDwTRmJ0PRlYYI/ImuUuAHnC54IyK6PS9SjFsY9xLr0G2iotNClaV0z518XfspX+nPLN4Wvo7qAklLG9Ox4lPYOM5x24rzXVPhn4u0Fj9t8O3wUdHgUSL/ADr7dWQiXOSu7qOM/nU825tgDEY6nJ/pXo0c0xFK3U8qrltKbvex8DSWN7avtmsbqJvRoH/Xil8uX+KGQf8AbN/8K+5tS1GOOMhmBbHJYA1i2MkF9OcQRFf7zIDmvSjnFS15QOH+y47RmfHCRS8HyJv+/Tf4VC+oW0JIlmWMjqrKwP8AKvua5ht4rWRjDAQqMeEHYZ9K+VPGk0V14l1NRFCY3kxtZBgKVHb86pZ1feIf2Tf7Z5qPGWg8D+27DOM/64fhUi+MNEA/5DFif+2wr5M+Mnwa1Twx4yupdG0y4u9JvJTLCLdN5iyeUwOg965pPh/4pX/mXNQxjP8AqG/wrOWfNS+A6Y5GrX5z7aXxhoZPOs2I9f31MbxnoCctrVgvsZwD+NfPfwa/ZG8bfF29hlvbY+FNCD7Hv75CJ29RHEev1INfWGj/APBOT4T6bAsV9p+reJLoj55L2+MKE9zhCvFbwzqc3f2djCWUUo+77S5x/wDwnXhtc58Q6avP8VyAKs2/ivRr6ATW+q2k0bdHjkyn0z61j/GD9mr4CfCy+gsYfBNnqevON4tf7UuiLYHo8i+bj6KevPpXDQeC4dJtbdbXTAnlrut9NtYwsa85BcY/nWNTP40XZxOyjkDraqZ6t/bmn8kXsJAODzTjrdgP+XyHHrmuT0+0u7hjJfxW/wBqUACKGBcY9DxzVtoolykkEMTJy6NGowPyrgqcTq2kLnYuFnLRVbeptN4o0WGUJLqtnFIw4V5ME/n1pf8AhKNHVdq6pasVG4qJMnH+cV4x8VtL8NeJNJntNVhitWRDJbzxYjlRhyCrD88V8zeEviVND4xt9JaaO9dCVS8RQc46KwHGaUeJ+dfwtvMiXC6p6e1Pv0+KtF76vZEZxlZc/h06+1VZfHnh23LCTWrLcnLKsm4qPfArxHwz8H9f+L9wk3gjSlkJdXu5ZGCWsEoOGy/T5sdBXung/wD4JyWVv4k1PVfEvi1por4L52l6NAI0Ugf89GBP5GtI8RVJaey/Ewnw6qesqhyutfHPwfpCsz6kbl16rbpuPtjOK808X/tHXGpQyWujW62CS/I0s53SY9gOB+dfRfjT/gnR4Dbw/c/8I5ea1BrOR5U1xdq6/wDAsjkD0rx7w/8A8E6fH+p6pNb3+p6Tp9gkhEd00pYyqOjBFORnrg1wYrOMZWTSSidWHyrBUXebuW/+Cfmk/wBtfHW41EkSRaXp8szNnOGdlUfjya+7/idp/wDaPhmchQZLf98uBnC4wf5CuH/Zq/Zl0j9nTRNRS1vX1TWdTKm7v5FwNqZ2xoOw56+1eu6jAk1qyOu5JAVYY657V4tOm1RlF9T1a1SM6sZR2R8labd7dQ1JS2chSPetf9mdi37VWucf8wLr/wBtFrmtZtH8M+O9W0qTcPJTYpPcA4Bre/ZZmMv7UWtk9P7DwP8Av4tdOVKyrL+6ePnHxUGv5kfco6V8ffHfb/w0zowNq13/AMSuUeTGAXbK47mvsIfdA718e/Hh1i/ad0V2mFuo0uQmR8YHA55rxsf8NP8AxI+yyL+NU/wS/I5hpby3FyltosNiuDunlkw6j6BTz+NUNYuNXm8PwNp+s6fFcM4/e3iYRVHXnOc/UCqWq3unQ6hdLL4iuLreSVtbebAkP/bLBI/Gs3VobW48Iz/afDc93Au1nit96s4DcYLkuxz6k171Z2p6dj5mHx+rKN7qVu641rxfJdHGWt9Nj/TrVHT5FWYy+HPDbeZux/aWqn7o9cGsSxm1/RZ7FIdNt9LS6k8uFrq1QMe+WJGRgVc8VzTxyQDVvES6ygk/0ixsztVE+q9a+Y/tKHM48stLX00R9k+H66hB05xk57dz1HwNqS2+qXS/b2vpHgHm3DAhSR/drtIvEX2WZZt/3R90nqK8c0fxBdapqEsmnpHY6Rp1vsWNFBLtjg571k2PibxPqWjyap/a9uqwsxEMkYAIB6E151TNYUKsZR1vf7jpp8NYupBuTS20b1T7H134av0+0SXiSAWc0SgY6Fj1/EV2K5Lsg+8vQd9vrXxRpXxN8Q3cnh7T7DVItFt9T3NcSXUavErAn5vmHAr3z4aan4jn1nZq3jzS/EljHCQ1hZwxq4ORhiQMgD/CvosLm9LF2hSTb6vQ8rHZDiMDT9pWaXktT2WzbacqxBYZ4PUVpaMyJdKWJ81j/H25xXkPxd8V+LPDnhu7m8LR2sPl273FxqF4N3kqoHyIndmz3z0rpfhH4lvfEXw38O67fOJb25so5pmTgMzAFsY6V3/WoSryoR1aR5UsvrfVo4q2jdrXPWNnRm4ByuOx965/WvAPhvxAzf2jo1ndt13PHhj+WOa8F+MPxT8W2nxd0zw7ofiW08M6TPpv2mS4voIyocMBjcRSal468aeFPhx4v14+P9J8Uz2Fmr20djbxE27nPzvgc54/KvO/tKNOU1G+nY6f7GqTVOU7fvLWXqepS/ALwRLIynRxAep8mUgH6Zprfs+eCbdGP2GbavXM3J+nHNeJ6n8Sfif4Q+H1r42m8b6Jf24gS5bSZbWNGk3Y/dhgAc89PWrvjr4u+M9W8b+EtG0HUrfQF1XSxfSrdwLIsUh6/eBNa/23JL3nJPTT12HDhuc5OKS0vr6bnqI+Bng15RjT7jnoFl5I/Ksnxr8GPC+j+HLi7hs54ZFXK/v8/lxXHeEvi54s8KfEY+GvFGq2XiCykspb4XVjEEe2CKWO7b646H1rK1Hxv8Svid4Ru/EFld6boXhy4Z/slg9vvlkiX+JmPTNbf24925X2tu9Oof6tyi7PltprfvsvU+Yv2mrnxH8P30vVNA1O7ttLlU286hg4STqGJx0IOPwrxVPjZ4vkkA/t68C5PK7cGvpnxrfQeOPhnqFrqdsrssqwzw7iuccDBHT1/GvCJPhHaw3NzbyaNJZ24TEV9Fe71kf+HCkk+mfSuSfEU1L3akn/AME9jDcIOUHzqPNrZPrYoW/xg8VT4/4ntwD3yw49zxSTfGjxLGD/AMT+4PON2Rj60ab+z38QtUvo7Ww0qCeZ2wrtcKFX3Y/SvrP4K/sB+FbO2+2/EKb/AISXVCAxsbaRoLOBvT5SGc+5JFe3Sr46olabsfM1qGCpXjKmro+KNT/aP1+zdlXxDPI442qRXPn9pTx/ql3HaadrN488r7I4ogJCx7DIHH41+sd1+z18KvCumXN/deDvDOnadaRl5JrixWVgoHUls5/rXzHrF54c8UatcReDfDeh6Hoscm6K8s9OigllHI8x2VR6EBPYnvWlTFYmhG7qsyoYfD4hpRpL7jw5dF+NF9p8TW/xAgF+6B3swhYxDGeSBUVh4P8AjnMpa/8AHeI+dv2M8n8Ste2WXh3ULNhJpjNY2OSZLkOfNkz647Gt+GxuFhDRrIyBefOxgnuRxXnf2ximrxqM9Z5PhItc0Leh4DpWj/Fnw1L9qvrqPxNCrZ8lpSsxHcjjBPtXc6H8atG1QSZV9O1i2OJrRk2SnHUFa769uja2pJRtxGRxgj/d96+X/wBpDxHoKx22q7mstehYqlzENrvwerfxfjXiVsTVxMvem7nqU8Nh8LH3Io9f8bfGBdY0WG50EzWKRtsubhlz5m7jgdgMEfjXjetz3Wj6d/alvIkd9pV0J3XJKtEcFh/3z3rD+CPxHfVoFjvtkk11N5ItgNxuFOACqduf519heAf2ENV8QRXlx4q1oaDpd/bNF/ZtmolvPLYnGWbIU7TjpmptUk1BIzdWEYuTZ4r4g+M0WsaHp3lrJGjZlkSVwA7EfeA7VwN742iupAgcSk8fI3Ar9E/CX7Evwi8K6JbabJ4el10Q8CbVruR3/NWAx7CuJ+Lf7AvhXxfL9o8Hx2/hSeOPiOMu8Mj+jqxPGO64PWtfqTve5y/2gpKyR8Dz65FJvfcFBwAG4J57f/Xr9Pv2KNBbRP2cPD8ksZR9SllvSCMHDYAP0+U15b4N/wCCb/hS1MUvinX7zWW4M1rZqIUYAYKZIyfrmvr7TdNttH0u0sbGFLa0tYlgihjG1ERRgADtXbhcM6crs8/FYn2kbHiXx9042l1HdoPluIire7D/AOtivLVvDcaHE27OYj+gr6J+MegHXPB93tXdPbDz4gOpA6/yr5T02+z4fjAbOFdfy4rhzCLjGb8joy53qwXmj6N/YV4+E12f+onN/IV9Kr6181fsKc/CS6/7Cc38hX0qldWX/wC7Q9Azj/kYVvUfRRRXonjnz7+3B/ybh4oAPaH/ANGrXz5qWnaWvhbRbhtIa6m+zRiZkVSG+UEYJIr6A/bgGP2cPFI9ov8A0aleA6rDqUngTSmj1lLC0htof3X2cM+Svrngfga9mnd4C3nc8KP/ACMp22UUZtpNffbLVbdI9HtZY9q2rvnfnksQuQce/pWXq1xrcep3QfxLpel6YT8kkYAnk9SQOlVXXTp54F+3v4hvM5kWSQ/u8dQoQL/OqWrWulQ+KA8Hg+81HUZIVIV3IgRe34+teXWi+VM9yNt7k0Q8O3dwg8zVfF95nI+UrEG/qK7jTYboRldRSDRbMjMWn2ePMdv9oDrXPR3Gu29mPtl5pfg6xA+7bgNN/n8K0PCs1o+pyPpIur642HzNW1DhAMclR71yOOhqnYoalqH2fUp1AKDd8qN/OqP9oL5qgnPPP41S8XXYg1qdC/m8bt4/iz6flWNJqAWMyc5HHH0r5uUX7V6HoxqLlPsf4U6lLf8Aw80Wa4Qk7DHu6kqpABrcv5mtkaVG3xMcEr/Cfek+F+mpZeDdLtfLAWGyiGTnklct+orcudMt08yVVA45GCQfwr7SgmoI8ee7GaPfLqMMTo+5kHzc1MurvFfSPDwpGK5hrCfSJGntiMNyQM4+mKgj1DUpYyBJHCM5+7k10uLuZpeZ2ratM8olLlAP7xwKt3XjxfsqxwRmWcjmXoK4G3tTdyEzTS3TN/CQQP0rs9L8LnyVkWIO3YtkY/CpaiVdrqU41utVlWW4famM+ldDpdthCIl4x1NW7bSPJG6dvMP90LwK0UURIAqAZHpWd1HVCvfcpyqHhaNlJ+Ujj3GK+SPiB/oPjvV0GRGsoH/jor7KtYcZyoBPHT14/rXyX8ULeO98SyalCD5Vwzxtxx5iMQf02/nS5ri07s828RaZJf2rTQHbcpztzwab8N7f/hJtTa3mUj7IweVWHNba27wws7c+gxWb8O9SXRfirLPcIUs7yPyJOOM9Vb9P1ral8XvGU7WsmfTPh3S3jijkYGFV/wBVtPT2Aq94p8dab4E8P6hqd24eKxiaWfB5zjAT6sSAB6mq11rMGm6XLfSuPsltA05bnpj/APVXnHjjRLvWvhnNp811FbXt/CZrieZNyKzjJB9weB6ZzW2KkqcNB4WHPVSufKunw6l4r8bXniR3SS4vmad/tJ3FEydoPpgdPxr0Pw7p2pNdK9/BNp1nK2YmWJmu77PTauPunseldf4T+AEH9uWdnZXczWNrHFJf3bDi4n5IiX2AAJr6H0/w/Z2d4moyRi61ErsW6ZeFUc4Reij0r5X2VSofZVMZTwseXqeHaP8AA/xfrsklz59n4fsJCPLSYF5mHqQBgH8as6p+zR4mw72PiOwu3K8Q3MTImfcgGvomK5RscNUglQ/3vyrdYOLVpank/wBpVHLmij80/jF+z147eO5tfE1leWUd0620EukoLiByxwu9wcqvckjgV3XwC/4JweBLO1sdR8VJfapdGMyvGZjGjqCPm47HOMHng196TSRXFubaZPNhbO5GHHSqcOlQsZPszGMGMRBCOFxnpXXHD06cHHlOOpiJ1J8zZzvhXwzongvSIdI8O6Xb6Lo9vxDZ2iBEH+0fUmuhjy4GCCO6Lx+NRf2JParkESDHIAOeKfbuWbYFI9eOlChBbIw5ru8tSx5e5cLyKN4iG7uOzVIif8s4wwHXJFPeNWXG7ce/FNQa2Dm7CxTrMNoBz6ZqObL71Iydp+oqrcv5GW2kFfQGrEM4uYd8YyCOoHOa0incTasfNf7RuhNpvizSdejB8q6t2tJm7CRRkE/gKwf2RZjP+0xrLdR/Yn/s617l8afDX/CSeDtRhSMtMi/abf5c4ZPmI/EAj8a8B/YzmM37R2sAHkaM4Ix/00Tj8K68FS5HXf8AdZ5OZzclQ0+2j7+Ug9+1fH3x6H/GTmh5jEgbS5BsP8fA4NfXzfKOK+Pfj4+f2mNFbJRTpUgLLyV+Xr7V8zmF+SDt9pfmfd5Gpe1qcqv7kvyOO1ptRh1eaGDTLO3V+7k4QY64UEfiTXMxXEMOm38A8QG1vMttZhnaxGNw7kD1Ip3jK30O214G81XUtRVgN0ayFt3+zhAvH40zTctHcLbaZCtm6MI45wI5MY6c7ic9Ote7KSUeU8D2c7+73OHvJtOuLzTW/ty78WMspFx5asRtA6L+ddzbWd+2mXSad4es/DmnPGwa4vCDI64/nisvSJPEVtaAQ2Oi+DrNSQHkwZMevNOhutHuL1RNe6h401DtHFlIFPocV4H1aClUbesz3nmFblw6UdaWz763NDwfaxQ/D3dHaOLnbJ582cDPJGPUVxWjaJayWYN9DIs3mNvTfhCvbivUpXmbQTHeiPTyFbytNtzkqpU/eNeXjVAxwTgjjBrwcVl9P3IJ6RVj3YZ3ipRrNK0qjvfe3oXXtPtXifw8I9JOr29vKoOnxKCJhu+5hiOor6P+Gk+m2eu+TZ/DO88KpcRNGdWeKNVA64IVieSB+VeRfAknUvidpoHP2cSXA/3lXI/UV9nQofs8SyHcGQAqTkV6mW5eoSc1JJdjlx2dSr0FRnB8yVr6ni/xg1zUtO8O3ukWWi3utLqVrJBHcWoUpGSAPnBYVqfAnW76H4f2Wj6hod9pMul2UNqs14U2zkKFO0Kxx+Neg32lRPG8CgohOcqwFc5dQXdniOGc7M/xEGvfWHlKs66nra3yPFjjoQwH1T2Wt731ueRfF3w7fX3xj0vWb3wdeeKtCh0swtAmwjzcjH3mFVtWki1b4feLdG8PfDe88MXt5ZAFxHGPPYZwgKsfmHvXseLuXaklxNI5/hjbAroNF0C4mkG+3dI/7zPXBPKo3lKMrcx6Ec7XsqUXS1gklq+h85az8C2tfB/hzXPDuh51/T1hubyw+99swPnVgeN3f6iul8S/DG4+I3xU8IXOpeHrqXQW0t/tUcwAEMmRhHwfr+VfSsOghNoLFV/6Zn5j+Na8NssChVj2jHTqT7nmplk+H1Se9vwNf9YsRbVaq+uvU+YvDPwfuvh78Q/EHh+DQ5J/C/iO0Jj1OFFJsn2Y8tyTkg9sZ61jwS+NPhj8PL7wZqXhC51WCz3LY6tZyJ5QiY8BwWz6dq+twjM2ANo+v/165z4m3cWk+DbiSQb1MkcMiK3UO2z9N2fwpxwKpy5qcrPXXTZ9DlecTqrlrw5lo7a7rRM+Bbnw9qFr4LvoRGH1C6uFnkjjIwOcEflTfFHhcaG9vqenW/7uJd0sec4GM5xXp2qaO9jqFzaYbMUrRA5H3c8fpWT4ghk/s25iUFmZCvUc57flWH9h4e71d2rHp/6143kUYq2rfrdWsdz8HNJF1pcGoQ/M96oLSDt1r261FrpNuZZZAIoVy8np747/ANa8L/Z51ltP0VNDuyUnjkJtzxyp7fhj9a9J8RXf2rVtH0oklpWe8mG4YZEHyg+xYGvt41YU6Sj2R+ezj7Sq5JWuzy39rD4lNdaJYeEY0aGLUW8+5lIIEcS/dBPcklfl61494F8FazdWSWmjMt3dSbpIbY4VFUYzI56BeO/pXuXxA8F6T4n8dWF5rD3F39mhlaDTlH7p+MLluu7OK6f4WfCK38L2st1eeZ/aF5g3EcZwuzJKwjngAHn618rWvVqeR9bRthaSbWp5n4M+H2s+IbOWKyEkt7Ids2sXOY7eId1UdWx7CvQrL9mW0+zhdR8R6jeT7ekahEHuBn+fNet2bQ2MSW8SRxxLwsaABR71oJchvvde/IprD07WaOKeOruV4aHzd40/ZJ1LUdLMXhrxeI5z/wAstSt/kPtuXJBr54P7DEuvfEPTbXxZodxFHb7XNzJciWO8zy2CCdoAyefTFfoy8qf3c/8AAhTZpkmjPmIrrjaOm4Z4relTp0vhRyVquIrfFI8o+F/wI8A/CDSUm8OeGNOsdRkcqLxYQ0rYx3I4/CvQ4SQwJZmJ+8W+8fb3rROgQ3EMarIypHyo3VVuNLlswMHzI/1H61qrK5zyjN2JkU9WBz2qUQbRkjB61Bbqx+YncvbI/wDr1Z3GNd7sOvHOKV0Pkn0IvM2NnBwOtSq4mGQeKSQF/u4x/vCqrObN/mQhW6sGq1LoJ05dR98odGZgGGCCp7g9q+H/ABZoz+C/EWt6PINscNzKYT/0ybJT9K+45I/MUAdG9SK+Zf2qPDzWYs9dSPbt3WlxtIOePlb9MfjXJj4qdCTS2TO7LozWJgkr6r8z0f8AYSf/AItFcknrqUv8lr6UHHB6V80/sJBG+Dk5IzjUZuv+6tfSiL79a58v/wB1p6dDozn/AJGFbTqyaiiivRPGPLv2gPhnc/F34Y6x4ZtbyPT570R7ZpV3INrBsEe+K+a5/wBjb4o3unrBP450iSKONY0V7HdhR05K5r6c+OHxIl+FHw61TxJDaLeyWYUiBm2q2WAyT6c14pYftE/GG/sYbuH4XRvBLGJFdL1drKeh6ULNvqSdF69drkrh6eYf7VF2v7u9tTiU/Yn+JCQpHH470+GJTuAt4GjDH0IA5q5cfscfFC6h8tviFZqncRxOh/MCu4Hx7+MfAPwuGO2LtMVIvx7+MbdPhfj/ALe0pf28rax/8lK/1Vqr/l5/5MeW2/7B3jeO8FyfF2lzzL/y0mheU/8AjwNblx+yF8UZ7eOJvHunLCv/ACzS1ZVx6YArtT8dvjE3X4YZI/6e0pf+F8/GE9fhgc/9fqf4Uf29Ht/5KV/qrV6Vf/JjzW+/Yg+IGpTCe48Z6a0ijChbZgoH0xVZv2EvHmFA8Y6aoB3H/R2Iz6dOlepf8L6+MGefhjwO32tP8KT/AIX58YBnHwwwPT7Wn+FZLOaW7gv/AAE0/wBV8T/z+/8AJkZln8Bfjvp9vHBB8UNPihRQip9hBwo6DJWnj4HfH3kf8LVsPX/jxH/xNXT8fvjF/wBEy/O6X/Cj/hfXxk3YX4ZA/wDb0larP0un/kpk+E6v/P3/AMmMt/gF8eZM5+Ken8+tgP8A4mof+Gd/juWDH4pacfY2Ax/6DW5/wvn4z/8ARLQR/wBfif4Un/C+vjR/0S3/AMnU/wAKv/WDy/AX+qlT/n7/AOTFC3+CH7QNmoEPxW02MD008f8AxNTr8IP2iV/5q3p//guX/wCJqY/Hv40f9Esz/wBvaU0/Hv4yf9Et/wDJtKj+3IPdf+Sh/qrW6Vf/ACYRfhH+0T3+LVgf+4cv/wATS/8ACpf2icg/8LY07/wXL/8AE04fH34y/wDRLf8AyaSnr8efjI//ADSwf+Bi/wCFJZ3T/l/8lH/qrX/5+/8AkyI/+FU/tD45+K+njng/2cvr/u1y9x+y/wDF+6TypviHp0imZ59rWmPnfG4j5fYcV1p+OvxkHT4Xf+Tif4U4fHT4yE5PwvH/AIGJ/hT/ALdito/+Si/1Urf8/v8AyZHGN+yT8VXPzePtNI/69D/hUH/DHPxMWRpB4604Oen+in/Cu7/4Xr8Yv+iY/wDk0lJ/wvX4yf8ARMv/ACaSqXETXT/yUj/VKf8Az9/8mOeuv2bfjLdaTJpj/EiyNkyBWi+y84BzjOOR7VJefs7/ABm1O0Ntc/EbTZoP+eb2IKkHtgrzW7/wvT4xd/hgPT/j8T/Cl/4Xt8Y+3wxwP+vtP8KJcQe0+OP/AJKNcJ1Iu6q/+TGRa/AX43WEIht/iRptvGOixWCgflt+lTN8EPjsy4/4WfY4P/Tgv/xNaP8AwvX4x/8ARMc/9vaf4UjfHj4xAkH4Zf8Ak2n+FT/b8Vpb/wAlL/1Urt/xv/JkUE+CHx2j6fE7T/8AwAX/AOJpx+Cvx67fFGwH/cPH/wATVxvjv8Yd3HwxwMd7tM/yo/4Xv8Zl6fC//wAnE/wpf2/Hov8AyUf+qtdf8vv/ACZFE/BX494x/wALT0//AMAB/wDE06P4M/H+H/V/FXTx/wBw8f8AxNWW+PPxnXn/AIVZk/8AX5HUf/C/PjUCcfCz/wAm0qv7fj/L/wCSk/6rV/8An9/5MMPwg/aDYf8AJVtO/wDBeP8A4mqn/Cj/AI/hiw+K2nAt1/4ly8/+O1db4/fGzt8LD/4FpSf8L/8AjZ/0So/+BiUv7ej/AC/+Slf6r1/+f3/kxX/4Up+0Ftx/wtbTs/8AYPH/AMTTR8EP2gF6fFbTh/3Dx/8AE1Z/4X78bf8AolP/AJPR03/hoD42/wDRKP8AydT/AAo/t+Pb/wAlH/qvX/5/f+TEa/Bb9oIDH/C19Px/2Dx/8TTI/gj8f4icfFbTgp5wNPAH/oNWP+GgvjYvB+FOP+3xKF/aG+NPf4Vf+TiU/wC3o/y/+Sk/6q13/wAvf/JirN8Dvj5cH958VNPKdwLADPt92tH9nj9lzxF8IviJqHinWtctNXlurVrfbbQsjZZwxPIx2qFv2hPjLtOfhUBjsb1P8K6D4O/tC+JfGvxFuvCPifwqmh3sFn9sUrceYcbgORjvk9+1H9u+0/dpfFpsZvhSrT/2iUubl1+I+hT0wDXh3xh/Zutvir4wt/EA12/0W7ht/sytZhehxk5/DH417gPm+YDIr5Q+Per+NvEf7Rvh7wN4b8Y3XhW1utNkuDJaruBZcMcjvwDUxwVPHN05u3XXyCWaVco/2ijfm2+8lb9iQzEGTxvrMmDwTs4/Sli/YYs4ZHmj8Y6ss0gw7hUBYZzgnHNS/wDCgfi0SG/4XjqoBHANqM/+hUo+AnxXHX44aofpbD/4qkskwkJfxV97NXxVmTtL2T/8BRXuv2DtPvmDXPivUblhzmWONj+oqS1/Yft7AEW3jHVrcHr5Sov8hUz/AAD+K4YgfG7VM4/59h/8VTf+FE/FfIH/AAuzVP8AwG/+vUvIsI3rW/FjXF2Zr/l0/wDwGP8AkN/4YkQszjxprAZhgsFTJHp0qp/wwhYbv+Rq1TPr5Mf+FW2+BPxVDEf8Lt1X/wABh/jTW+BfxVAGfjVqhPr9kH/xVD4dwMndzX3sX+t+Zr/l0/uX+Qlj+w7HpVz9os/G+s2VxjAlgVEbB6jIHStP/hkXVQo/4uh4ox0/19ZR+CXxVUHPxt1QfW1H/wAVTP8AhSHxVONvxv1T/wABv/r1oshwcFaNRfew/wBbsyf/AC7f/gK/yNZv2QNUYc/E/wATH6z01v2O9RK4/wCFm+JP+/tVB8Avi0WGPjdqmMZ5tf8A7Kj/AIUF8Wv+i36p/wCAo/xqf7Fwn/P1feyv9bMzf/Lt/wDgMf8AIsx/seajEcp8TvEyH1WXFS/8Mk630HxV8VY/6+DVL/hn74t/9Fu1X/wGH+NJ/wAKB+LI6/G/Vc/9ew/xo/sXCf8AP1few/1rzPrSf/gMf8i+f2TddHH/AAtXxX/4EmnD9k/XP+ireK//AAJNZ/8AwoD4snp8cNU/8Bh/jQP2f/i1/wBFu1U/9uw/xoWS4X/n8vvZP+tOZf8APl/+Ax/yNAfsna6OnxU8Vf8AgSajuv2RNWvYTHc/E7xLcREglJpty5HQ4NVP+FA/Fn/ot2q/+Aw/xob9n74tt/zW3U//AAFH/wAVVLJsLf8AjL72H+teZ/8APl/+Ax/yHSfsWyzSGSTx/rkkjcl2Kkn8cVG37Eqt97xvrDnOeQv+FTf8M/8AxaA5+Nup/wDgKv8A8VSD4BfFf/oteq/+Aw/xpf2Lhf8An8vvYf615l/z5f8A4DH/ACGW/wCxUbSVZIPHOtQSKflePapH0IFWD+x1d/aBO3xC8QNOqeWJfMBYLnO0H0yTx71CfgD8WCf+S2aqPrbD/GlX9n/4sngfG7VD/wBuq/8AxVL+xsM9PbfiwXFeY3/gv/wGP+RYX9j+9Enmf8LE8QiT+/5gz+dTL+yPqKZA+JfiNfXE1Uj8AfiyvX436px62q5/LdTW+A/xWVC5+N+phR1LWygD8d1RHI8Iv+Xy+9mv+t2abKm//AY/5F7/AIZH1Pp/wsvxLj/rvQP2SdV6D4meJQP+u9YzfBn4khyg+PV4JQM7WjQHn231ab4A/Flydnxv1THY/Zhz/wCPVX9iYNv+MvvZP+tuaNWdJ/8AgMf8i8f2RtW6/wDCz/E2R/03prfsjauf+aoeJ/8Av/VL/hn74sk/8lx1VT6G1X/4qmN+z98Wu3xz1b/wFH/xVL+w8J/z+X3slcWZk/8Al0//AAGP+Ro/8Ml632+Kfiof9vBprfsjaw2Qfin4pI/6+KzW/Z++Lfb456p/4C//AGVK37O3xdHT456t/wCAq/8AxVP+wsJ/z+X3sr/WrMf+fT/8Bj/kXf8AhkHVRwPih4pA9p6Rv2QNVbg/FHxTj3nzVD/hnj4vf9F31Ye32Rf/AIqk/wCGd/i/2+PGrY/69F/+Ko/sPCf8/l97F/rZmX/Pp/8AgMf8jQ/4ZB1fj/i6firj/puaG/ZB1eRcN8U/FRHvOazj+zx8YR1+PGrf+Ag/+Kpp/Z++Ln/RedX/APAQf/FU/wCwsL/z9X3sP9a8xf8Ay7f/AIDH/I0v+GP9XYD/AIup4rx/13NVdT/Ynm1e1eG++JPiG/hb70dywdT+Bqsf2f8A4uL0+O2r/wDgKP8AGq958C/i9aWc8w+OequY43fb9mHJVScfe9qf9h4WXu+0Tv5sP9asxi+ZQatr8K/yPbfgd8JLT4MeEH0G1vri+j89p2nuF2kswUYAAxjjtXpsPCHI6f4V8+fsU+Mdd8c/B2a88R6lNquo2+p3NoLqc5kKptAyfrmvoSEAJx0603hVg5OhHaOhzxxsswSxVT4p6slooopmh8//ALbPP7PfiIHkFYuO3+sWvQPhyVfwD4cJXLfYIRnOP4fSuC/bYx/wz74j/wB2L/0Ytd98OFCeAfDn/XhD/wCg159Ff7ZNN6cqPaqNf2bB/wB5/kb5B3KDkbv8abtOzgsD3UDkH0r5x/ar/ab8U/BDxX8PPC/g/wAH2HizWfGd21lBDqF41oBLu2qNw4GTjkmuk+DXjn43a/4nuLT4mfDLQ/BXh2O1eQalp+trduZAR8hQE8FdzZ/2a9f3WeFrG1nc9lVS2cMWOM7QecetIGGMqSwxw2a+VPgb+3LN8Yfjxf8AgS68Kx6N4duXu18P688zt/aL2rBJAQeF5xjFd3/w0Jet+1p/wp6TR7b7EdC/tj+1zOxmD7N3l7em0evWlaJqpM9peVuu7qcBSxBNQtMzcg5BHZzn6Yrzr9o346af+zx8L77xjf6fPq7CaGztrOFwpmuJSQilicKODye1ea+Evj98ZIfFnhW18efBVtM0DxJLGkGseGr86j9j3AFXuME7VAIORx1p+6PmZ9Es74yGyB1IJOKs6dI7SnJ3e2cmvjXwl+1V8cfit4g8aWngL4OaBr+neGdWk0ia6udcNu7spODtYjJOM8cCvp/4N6t4z1zwtbXPxA8NWnhHxO0siSabZ3gu0RPl2uHyRk5PHsKlxXcOZnfJ8o/jycle2RT84z97A75J/Ovk7wX+3KusftX+Ifg1q+gW+jWdvdyafpOtxzORc3SLuETgjaGYYwAepqbxX+2dqvhn/hoRo/DFpcL8Kxb/AGbdcuDe+a+07z/AB149KjQltn1Ue3XP14/OlYqOpIONxHoPevkXwb+0B+1F458O6Rr+k/ArwxNpeqQRXcEzeI1UtG/IYqSMHHODzW98Rv2tfE7/ABTvPhj8KPh7/wALA8Y6Xbxz61JPeraWFgxxmNpSRlsnGPWjQPVn043yZ+bHGetKJAoyX47nNeH/AAD+O3jL4ia/rHhjx78MNV8A+JtHRZpnKmfTblGyB5FyMqW46Zrzn4+ft3SfBn482Hge18MQ6t4es3sh4k12WdkGl/apAseccN8pU89zRoL5n1sW5bOV2/e5OB+NNVsrnPHdg2V/OvlX9qL9pn4x/s9WuueJrD4Y6Lr3w70xImXXrnWRHcOXYL/qgdw+ZlHA71heIf2v/jL8P/gnqvxJ8ZfCnQdG0xYLOfSvs+sef9r88tneFyVwoU8j+KjQpNn2V0LAsRgj9e9DOqk/NwOvqPwr54+HH7Ud74p/aDPw11rw9b6Ol74ctvEOiX8E7NJeLJCskseCOq5YZH92uU8dftsan4d8U/Gy10XwvZar4f8AhlpUc9xqMly4a4vHkVRbnAxjBY7hz8tHKhczPrEsQSFZi3XaoFNmuBBE0js3lgZ3sMLj618heDP2hf2n/H/hXRvEGj/Anw1PpGqW8d5BM/iMKTG3cqTnOOxrjv20v2vJPhxpV34H0eZL3xPdRL9sELA/YY2A3Jnuc8euKzk1DUuKlN2PpLxN+1Z8MPCt7dWWoeLrNbq2H7+GFi7J7cHrx0rzDxR+3Pp9kslzovhufUrBV/dyNcbWkz935cZyfTPFfmZ4AutP+I2sS2kep3EHixS0sWm3CeU1w3cQyjjfjkBiM1678OfEFxeQx2l3PJqml20zWc8N7AsVxbSDjacchh3Brgq4mUfhR3ww0d5M+sdH/wCCgt2L2OPU/BDGKRwI/sV4GdlzyQCOcDnFfRXwv+P3hX4sQE6RdtDdoSJLG5+WePHqtfnte/C+HVpm1S1m8zTLiH94q4OQOeQfukHB/CtHwPNf+EPE1pYw3UmnKIvN0++iALqcn5GI6qxySp9RWMcY9OYqWFVrxZ+nrKSNwJx7GkGVUkFsHoa4P4R+OpfFfh6Fb8CLU4V2yD+83sK9AKjkfnXrxkpJNHmOMoOzIlfjq1LuPq350blB7Zqle6skLhIsE5wfaq0Fdlvd7ceuaXzBjofzri9d+KmmeHtSexvBN9oQAtsXI5qj/wALs0LOMXGP9w0aBdnfPIWPA/M1CzFuoxXFD4zeH25DTj28s0n/AAuHQGJ5uP8Av23+FO6HzebOzbOThhXgHhyUn9tXWMAZ/sGP5f8AgZx713V58e/CljJtmuZ1bHTymP8ASvM/hr4osvE/7YOqahZSM8L6GiKzIRkh+Rz9RXjZg481K2/Mj6LKleniJNX9xn1wPunHFfLHjSMf8NzeDQOjaNcZ/wC+K+pGViTgcfWvlvxdn/hubwbu/wCgRcf+gGvp8FdOdv5X+R+f5pblpRaveSPo9wSWI5bbkjPoBUJbpkgenPJ/CpZiNoBJAz1xyPpXx3+0V+1f8bP2fru81C4+E2g3fg6XVV03TdSbXD5tzvbbGXiB+Xdkdema5bcsbyPasno90fYLD94SCTj0HBHqKjLANndj2NfH/wAUP2tfjL8FPhhaeIvGfwl0HT9W1TXLTR9M0+31jzo5lmjkbezKTggogwf7/tUniL9r34r/AAZ1DQLv4w/CCy8MeFNWvEsl1XRtWW6a3lfGGZd3A5/SjmQWZ9bPjc3z5IzkKckYHf0qJk9Sc9emT9TXjXw9/aEu/G/7Q/xL+Gk2jW9rZeEIYriK/jlZpLneygq6Hj+KvPPiT+2bqngLxV8btIj8LWV3H8O9Lt9RtpZLp0a9MjbSrgD5VGR05qudlvmPp2VhxtIz3wenoabCf3ijBBPr0r5c8J/G/wDac8ZeG9I1+w+Bfh1tG1S2hvoLg+JNrGCQBwdpbjCnODX0B8RvFs/gT4c+JvEsdnHeTaLpst99kLkJIVXcUJHOOvNJyb6hdnoUb5A524GDk1KQox8zZIyM18KaV+3J8bD8ILH4saj8EdMk+G8kP2ue+0/XRJcRW+4oZBExDYBU9q9Q+JH7aaWtz4G0D4Z+F7rx/wCNPGWmxaxp+leaLeG3tnQOJLiQkbeD0rLXuJ3Z9NYwSCcHtk03jufpzya+ZPh1+1z4kh+K+mfDT4w/D1vhz4n1eGSbSLi2ulu7C9CDc6LIpI3YGcdse4rmdK/bI+KvxL/4SvW/hd8ILfxP4N8O382n3E95rIjv7l4jiTyoASc4GQDjORT17iVz7CK84GSR1x296Rfug85PQZr5k8aftharoK/BjyvBE1jN8QbxrS407W2aG509wp42jqdwH3q8++I37YP7QPwy+IfhnwjqvwY8OrqXiy9ms9Fz4gL/AGjyyOXIJCHDKecDmlqPU+3s/KGBJUjORRz2BY5xhTmvli5/al+I/hL4gfCvwb438AaToXiTxpd3EE0MOpG5SzVGZY2V1yG3ADIPQGus/Z1/abf4w+AfGer+JNIt/DOt+EL+6stX02CcusKRKzK+WwTuCnr+FF33Fqe+FyoPODgnDHA/OlLH5sNkr19vrXwvff8ABQXxyPhR4J8X6V8OtKubjxl4lutG0SxkvJIxNbxlVjnLY4LEsMHj5a9k+HHxJ/aM1jxxpln42+D2geHfDTu63mqWmurcy26hTtKRg/NlsD8ad5dxWZ9CE5YqxOcZrOvdbtbG4WCfcJJB8g9TWgpKqMHKnnOOtfHH7fvxf8QaDB4c+Hngi3M/ivxQ0hMkX+ttrZeHcemQCAamUnFXbNKcFJ2scp+0l+35qXhHxddaF4FFjc/Y2Mc91N+8EhHULj8s143D+1L4n+J7tb+LfEj2OE3xQxxPboCf4QyMN3QcmvJPEP7J3xk+HCJruhu1xexkb7e2YSKwznBU9eeo71tnR9WvPC8Pjf8AsybTYbCT7N4r0BUwbJzj/TIk7IRjco6GvKqVpPZnqQo8n2TovFVrrOm7dTuLvUrks4kjeO9kIKN0IKkZAz09q7z4Q/HLxr4I1iCGLWZn09TuEeqSNLBPnH3WY7o93bJI4p/ga1+3XVtpE0aXulzFfskgOck8o4/2WGF59a2PEnwxl1NXtBZvGoTzYJFU8Feqr6+v4GuP6xUi73Ol0VLSx9wfCr4q6X8StJWW23RXsYxc2ky7XifuP6j2IruuH6DHuK+N/grqF5pEVtq6yNPdwKI5cfL5oX5ec9wBjHoBX1/pGoR6vYW95ER5cqBsehPavXw2JddWPJxFJ03sTNGTjr+dKB1B6jrSzMY0J7CsK81p5t0cfyLnB9TXanLuc1l2NpHWRtqsCeRjJpWX1FefeM7jU4vDSPpjyx3InGSnXbzmvP8A+2/Ggx/pF5/3yfWhSYadj39gT0FRMMc/dH1NeCjxB436C5uj/wAANSrrvjVh/r7on08s0+d9xq3Y9wMvOS361S1dtulXoBy3kSHP/bNuteB+JfGnjbSrcOt3cR7jj5oq5qP4keNriOVJ9XYxmKQOu0dNhFXSlzVIpmNe3sp6taM7j/gn6R/wpS/x93+3b3/0Ja+nhwSO1fMP/BPjL/Ay7LMXdtauyWPc5Wvp/PFaY3/eJ+p5+WK2Fh10H0UUVxHqngP7bP8Ayb/4k/3Y/wD0Ytd/8Ov+Sf8Ah3/rwg/9Brgf22P+TfvEX+7H/wCjFrvfhy23wD4e/wCwfD/6DXBR/wB+n/hR7dT/AJF0P8T/ACPjj/goJ4f1TxX8c/2ddO0fVbvw7qFxrTRxa1Zwea9ixfAlAPHB55rU+Meh/ED9mL4LeN/EWr/F3xH8Sb7VLD+wtK0i+0+OMLdXDqnmp5eTuCeZ14Ga+wLqKC5nikkgglaI5SSaNXZT/s5HBqeaK3vUUXUENyu7eEmjWXDdm5HBr1uXc8FH5e+M/g58cf2ffhL8JPGGojwvdaL8NbyLUIbfQreb+01juSHnM+ciQDPzdK9H8f8Axn8J/Dv/AIKG2vjvXbuew8L3/gyI294tpJIrebADGMKOvI4r7v1PVNPht3iupLeSKT5GiuNpVz6FT1HtWFJrvg67b95JpMjxgRjzoomMYzjblhhR6L2pWNEj5++LX7S/wu+K/wAE/EU1h4X1P4t+F7O4t7fWtPs7V4JbSOTcVufmGWC7D93nJHrXzZ4e8V6H4P8Ain8P7b9mXxn451iXUtUjTVfDGtJJJYQWh2li7OoKKMkdT0r9JtM1DRo1lbTpLCBGG1jaiNF/4Ft61PbRWduWltIraHzBgyQQpH5g9yB81DRR+TPw/wBM+Dy/Ef4un4neMvGnhC9k8UTmyt9Amlgjlg3Nl2AjbJzgZz0Nfo/+ynrfgjVfhXZWvgDXdU8ReH9LneyGoa3uN2ZMq5DswBbhhziu/fRtOkk3HTbB3PJZrKIsT6k7a0NEtIbR2EMENsgOSsMSxrnsdqgDPvSsB8Daf8Dbv40+NP2pdO04Saf4n0/xHDq3hy/KFXhvokR0KMezMoU/WvH/AAn4z1v4o/Bv9sTxJq2h3GmavqdlppurMxNk3KTbWIGORkZxX63R2MFrJNPFBFC0h3SyxxhS7epOOag/siw2zj7DZg3J3SlYUUSn/bGPn/GpIPyx+D3/AAzPpPhHwje6z8UPiNYeIreC3lutNhu5/syXC43IE8rhc/w5r1fw78SLP9lj9pj4rar42ttSi8EfErbq+i+KLGzeeNd43CJgBlWAPfuBX3f/AMIzoi9NG00Acn/Q4v8A4mrs9pDc24hmgilt+0csavH+AxQB+fn7MnxC8Q6h+0Vrmu6N4z8b+MPg5o3h+5ubzUvFNuIYftgbeqRAAFlC5APua878F/BP41ftG/Cz4p+MtKPhaPw/8TL64u2h163l/tPyYJGSAREEBQPLG0Ee9fqR9lgaz+yeTCbXbs8nYBFg/wAJj6EfhS28MNnDHDFHDbQoNojjQRog9AP6UAfnp8VfihdfGr/glPquqXcdxJr9pDZ6ZqUTo3mfaILmJWJXAPPX8K7j9sy2luP+CdelRxQyyyfYNHHlxxlmGF54AzX2V/ZNjHavbDTrUwTHe8SW6bZmzwSMcmpJbK3uLT7NLbwXEAGGhkiQp7AIRjH4UAfEv7UNrd/C/wAJ/AL496Xp8t3d+C4rK01WG3U+ZLYTwKjoAB/ecjnpXK6J8P8AUtC/4JtfFTxRqttI3ivx5BN4hvN0RM2154/JjZeuVXdx71+g09rBc2rW0tvDcWxXZ5UkalGA7bSNuPwp0lrbyW/2aSGIwFdnklF24/3cUAfkz8KZf2a/D/wz8M6jrnxM+I9t4jsbGOa40m3vZo7YXCjJiVPKwBnA61698CfgNp3iw6j8QPGljHqvibxZOdUljnJKWkUh3Rwr/uqcH6V9m/FTwBoOrfDnX7NtL062he2ZWZbOJSoA/wB3ivN/B8EcUAjjxCBwIx0HtXnYuUloj1sDBP32eL/ED9h7wd4pvBrWi2x0bxBbP5tpPbsVRXXkE+1cH44+G40m607x08DWBuJ10bxjaeV8hlztivMA8ZJXLdwM19u2cKyFBuyDwcVyvxG8P2ziW4urVZbHVbV9M1GPb+7wQdjkeoJAz7V5soySuz1HGL2PFfAfgv8As+zu7LUY2EZnynlnaOAckDnIK5P4VJrXgOOx024uLeJ4/wCz7kSxlFDtMpwSpz1OCOmKwdB+IH9i6hpVpO87zWwXT5ZHO4SbfljkGfUEjPvXczeP7S41prZnXfMmx1LFirIfbgZDCuOdnoQou9juvAt82k32man81uUHlyRN3HbP4V9ExsjwpICGDANuHfNfIt14yi/4RvUmtdyS6Rd7SjAEyQM20n6bTmvpr4a6wuv+CdKvVbeZIgCcelezgaikuS+x5OKpuLuWvEBMcJKMVrEwWaPnJat3xF/x7vxWIv3l/CvUZ5xz/irwfpura1JcXIkeV1AO0+grHX4eaQQPlmH412mtL/xMHP8AsLVPaCTSA5gfD3Rx/wA9QfrT2+H+k7eDMD2rpfLX0p6ptUkUmwPCfGng+1s9dm8skgoNoasv4CQi1/agu4wMD+yj/wChLXcfEGPbrjZ7qDXF/BFgP2pbj/a0v/2YV4uYfHQ/xI+ryf8Ag4n/AAM+2B0/Cvlnxh/yfP4NP/UIuP8A0A19TDp+FfLfi1d37cnhDP8A0B7j/wBANfWYH4p/4X+R+c5ntT/xL8z6FuZNqjPI/wD1V8g/8FLreW4+BXhpIoZJnHiuxYrGhYgeYnPFfW1/IEbB6dqzNUurCHT2m1KOGS3iIY/aUV0U54OGGM+lYNXiewtz5J/4KjaZLrXwU+HFnC9xG83i/TYzNaoWkhBhcbxxwRnIz3rzr4w/Bp/gb8d/hRrPxI8TeJPil8KLm6WF/wC1pd/9maj8vlzSoiYaMDYfzr6T+Kn7XHgbwHB5V99m1C5jbKWp2SsSOh5BCn9a8A1z/gpzos0yQjwv9utRJiUXSoy7u2ARjPvWDa2N402zUufiFZfsuftv/EvxF47tNQsPCnjTTYZNK1y1tGubd5FKMUO3kEYI+oFeSeNjf/Frwx+1n8XtO0fUbHwjrml2mn6RJfW7RS3rJIN7Kh5wOPzr1DS/+Cm/h3UJjb6t4ZWKz5MYmAkBPsrZxXpHhb9v74deI7F/7WRdOs/9Utu8fnqV69B8o6elU7dxOEj5g+E5/Zn0Xwv4M1DV/ih8RrTX7OztJ7vTluZvsqXCopaHaIvuBgRj0FfeXx8uE1T9nvx7cW2ZEufDtxLCVB3MCnUDv9KyfCf7Qnwo8aEJYX+iRMeiz20C/l8terWV/aalEvlGK5t2XDDarRsvpjoR7VJGx8Ifs0fsg+LfjR+yn4Gsdf8AjH4g07wJqNmzzeEbWwSNVjE8gMXnE7sEgnlf4q6b4kWMX7IX7WPhr4jz6Hfy/Cq98Mw+GmvNNgNw2ktDEI41dRzg7RkjtX3XaW8NrbxxW8ccMKLhFhGxefRe1TPCJonSRFeKQYeJ03Rke4oA+APF3jxf2y/2nPhRP8OtH1S98L+AHuNV1XxFd2rWySs6DZDEW6klAMd8+3PnfjLXvgRq2ueL9fnHj/4BfFCG9nd9M0cyMl1cZJE3lhCjlyRnBFfp/b2sVnCLeCGK2iXpHEgjj/BRUVzp9teXKzy2lvNcx/dkmgV5B9CRxQB+aOoa78Q/Gel/sg6v8R4bl/Ez+I5GlllgIle3BIiklAHDsuCen0Fe2ftp28k37Wf7LMkcTyImuXxd0QkL/qupHSvsS5s4LyWGW5t455Y2yssyK7xn1XI+U0k+nQXrwzzW8dxNGSYpfKV2i91bHyn1oA+Of2rraWT9tf8AZrdYZJIVvZ98iISq/vG6kDj8a8g/a+svEnwR+OXxA0HwnYXRsvjbplvaRPbRlhb6gLiNJpGx0HlSP+dfpLcWdvdTwzy20E80f+rkdFZoz6q2Mj3ps9lbXskck1tFO0JykksQkZD6hjyKAPzx/b++G+h/DL4Tfs6+D7h7vT/Duian9lu7zTVYTRRrHF5sqlQcHfvP41037N2rfs4+F/jBosvg34l+PNd8R3he1tbDXbuaa1cyKVG4GIAEA8HPXFfdOoafZ6rGEvLW1u1HIW5hWRV9xuB5qC28NaZZyJLDpdjBMv3JFtIlYfQhaCDR27SWJAByC3p0BP8An1r5Fu/Dzav+0H408V6nDuuvNi0nTmk5MFrHGuSnpufeT9a+ueASR8gPdmyeozx/hXxJ4u/aM0jR/jNq+jazpV1pW68MENxuV1IB2jOPu5xnn1rixV+Q9LAxUqh7rZWigLlfkBwTn71cl4m+HNjo99P4ntrYNFcRG11ax2jF1A2RuxyCy5/Hj0rorbxTp1rZPfT3McVrGoYu54QeuO+ao2/x0+HuoLLYf8JFbzyyKUkhA5wewry4wvue7KUkrJXPCvDvg23+Hd9faBeSNdpoMqjTLwDHmafKR5e49zHuC5/2c16gy2txa2N48qsYpgTtzmPIOST6dB+NeV/HhrjwneWE8UslzaizaCO4hOFnhHKq3/AcVyGi/FB7jwj5S3mbi1dreUyZb5WwVbjsCMc9yK4pyUbidN7n0D4Y0NbLVL0I8hWUu8YcjZjJJAA/P8a9k+Duvw6tpVxbRPuWFlbHpkdK+R7P4lS282j3kEzTPath0UkLKGUK+e3BU575zXrH7OfjGK3+LGsaMsrNZajE15Zlh/CTv25/2eldGDrpVbdzhxVFyp3Ppy8/493rkf43/wB+uwuVzbtnqetckvzTSfWvpjwh90WXSQc/N5pxissTSH+Ik+9a1wo/sp/XzB0rKVT1xgexFQAqs/rmn7n28nHuDQqt1AJH1FPVcjJOBTsByXxGBk0fLHhWXqa8mmtwY7g7cfuZP/QTXsPj6PdocjYBAryCe4Ci456xyf8AoJrbDx/fR9TGv/Cn6M7f/gnvx8ELkf8AUau//ZK+nh0NfMH/AAT54+CV5/2Grv8A9kr6fHQ1tjf94n6nDln+6Q9B9FFFcR6h4J+2sM/s/eIR7R/+jFruPADbfAHh/tiwi/8AQRXEftojd8ANe9xH/wCjFrtPAnzeAdAHc2MQ/Na4aX++z/wntVF/wm0/8b/Ir6l4ls9Knle7uFhjhXzG3YUBB1JNfHPxs/b90qLW7rRvCAXUIrRW8y6kO1Nw44HevNv+Ch3xk1bw/wCLb3w/p88sUNzAIX2OV+ULlv6ivh+xk+w6W5dyXkO9/Xn+GvRqVOXQ82jS5m2eqfEH9orxj44vHmutYuM5+UQsU2DtxXmM3j7WUmdV1C4Jb7waU5NUL4yW9ntHEjndu749KyGRheGRwGYjGfSsVNs6JJLRI7zTfjn4r0eGC3XUZmtY23LEZTtB9QK9Nsv22/iXpMMCW+v3HkKQFjeQnFfOl1a/JuxyvIpGBWKIsMHr60c7It5H358O/wDgpVruntHF4htYNQtVHMiDbJ9MmvtP9nb9pHQ/jVphu7O3ubJ4n8txPtb5j0wQT1/pX4baZcbGaNiWRjg5APfrXs37N/xx1L4LfEGw1COWZ7IXCJdWwY7GjJxux0zzx+NCqdyZU7q6P3dUddvHXPfv60jL19T14rjbDx1HcaQNS5No0STiYEDKsoKnH0IqlffGfQ9LthPcTsIi2wNjvWl+pyHfLnJyf0pNp9TXlrftFeFFYr9rfd24pkn7SHhWLgzSn6LQmB6q2eCc5pV+XkZFeQTftMeFwcKZmPvxTvAv7Rmh/ELxSdC0u0vFuE5kluR5aAe3HzVQHrDLyeMCl/uj06UiM7RjcMHPQ0UAL/FnvUq/L047VDU1AmeN/tamX/hn/wAVx2mmvrV20QEGnxvsa4k5wmfSvg79mz4oeMdB8S2ula1pur21hfSi2jjvjlIrgjcBG2fuEA1+g/xm1NLGfQknYx2+6R9x6bsDj3NeSaLd6P4q8b2dnpax3Z02USyvHGCkLjjr615eIn76TPfwULU7lb4veK/FHgvw3JqdnqK6JFbxl5XaFZQTx0JIrz74NftOQeNilt4k8X22oQXjfZwn2fbCG6BGJwysPUKcV9M+LLLSPEFhLpWoeRcR3IwIZlGHI64z9RXH+Ff2fvBehXrXlpoNkJ97SeYYxjJHJ9M/hXMnZtM9BS62Pkf9o7wZqXw88RSXVuss+nybpEmUFmXPOeOoBx0/HFczY/FKXUBb6mJWaQBVnVVGSFUBnAz8wIwOOVKnjmvv/wAVabpV/pTW2pWcM9oONkig8ex618TfET9m3Vprm81PwnqJhv7icm3szGPIRM89B8oI61486UrWR1JJ6l7R/FMqyefIjy6feH7NKyOHDx7du4YP9znFfaH7KTT2/wAN3sZ7o3X2a4YxMVwfLboD+Vfnb+zvqlxpur+L/DevGF7TT9QEM4jk+S2uD0MZPVQfl+lffH7LRuLG612wmKtCBHJFNk4l6gtjt1FduB5qWIcWebjorkcvM9o8Tf8AHtn1rEj+WMH2HNbviJf9EI6gGsRf9V+Ar6XzPm+pwnxY+L2geAPFeiaLdO1zrGrMsVtYQjMg/wBt/RTnj6GuiNt4gDsv9guceky/pzXxz+29+z/8aPiP8e9H8Q/DrRxPpVvp1uo1JLkIwmDvuPI4Cgj863v+FB/tCwQxu3xPnlmaNWYHaPnxyo49a9XCYJYhX51H1OStV9m/dgz6dmutfhIJ8LXrjpuSRCP51pWseoyQo0mmXFvu6iTHH5E18gTfCD9pNVBj8a3sj7gpxIo2r6kYrdj+C/7RFuoaP4mEntvCnHsa7/7Jj1rROf653gz1X4p7rPWGDLg+XnODkfhXnnwOud37UDueC+nEcjtkVy/iL9nr4+eJLmOe98e287rgEmEAED6GrX7P3gTxf4G/aPsdI16+i1bUYLdri7miGAsL8KB75Br5fOcD9XdFxmpe8tj7LIsR7SniVy2XIz9AV+7mvmDxeo/4bg8I8f8AMGuD/wCO19PqMDFfL/i8/wDGb3hL1/se4/8AQK9XAfFP/C/yPhMztaml/Mj0X4ueOLbwL4fk1S7fZCjBd3uen8q/NP8Aaa/bY1/4ieJn8K+G7htM8P27bJpUY75f7xJHbtX1v/wUT14aH8EZi0vl+dPtCg4LHHFfkhpo+yxzXLScMTliclsf4muOtLlSR9FQgm7m/r+vzaxeSLJIyDuScnHt9a5HUbwFcI+/B2gY5xWuIma1NweJHOAo9P8AOax/JE7syfKUfrjrXHGWp1yVloVyAV3Ie1FlfzRxtGHIAGOtXIdPcW43Lt2kg4/Sq8dgQzb+NxxVOVyEmXdI8R3dliJLkoDyFya95+B/7UHiD4d+ONOudS1O/l0pWCyQxTnGw8dPY4NfOU1s1tI2VyI/mPHODWwLV4fIcE74z94d8ilzWFJc3Q/oC+Gvjqw8ceENL1e2uUnguog6yKc7v/rj+ea67zlcK27OeK/Pf/gnh47vbT4OanBfm4uLa1vs2qIeQuBuUZ7Zr6hk1rxHfXU8tuHgtipMat1/GtoyU1dHJOLg7M9lEin7tJ5mTjHFfL0viz4klmAuMDJx8lQt4n+JO0n7U3/fNVzEtaH1TuXAwh/4DRuRyAzEEcAqvSvkmfxR8RQW3ag0Zx1xiszUrz4i6pNbNH4hubeFP9ZFCAPMHoeO9Tzakn2M0glPs3Tjnimn5mDHr61j+B3e78M6W88flS+SN8TMSc/3s1vNHtqxXG+3anUyn0Ele8uhY2U9yTtEKNIWPTgdDX52fEP9kDTvFvjjV/Gi69qVnNq8pvLqJXOwsRwpH90cV+hus6edX0m9s0Yo88LIrA98cfqK+F/EHxV1JPG0fgm4P9mC0wupTOvzbdxHy/UDrXn4qTVke3l0I1G11PXvhT8OXt/hfpVpqlwbu/NusUrDuo6H68V86+JvhD8VtL+KV1faImmy6W7/ALrYuy4hx90hyO/OcZ6D1r6v07x1pH9iwWei6lBNdrATEoUsSy9iOwJ71X8I/EPT9Y1R7C9iOm6xb486ykGTz0dSeq9a4b8rPXUZao5aX4Zaz4++GI0fxn9ibV1G7z4R8nI78c49favjD4jfDDxD8C9YLT3DXthdny0EEbN5iDpuAHQdc9sCv0i1jU4LSIuj5UfdRcE59vavH/FGp6Pfa9p9vrOoW1hdagzwWAnAJZsZYKp4J4HpXFVgqk0bUdU+Y+J/Bvj3StR8Tafot1ePNaXTSRx3LEg2zfxRyA9VzyD7mvqz4DvP4W+IGkQ6mMzpN5YZh91XBACn0OeB6V8p/tNWfhXwP8QvCGp+F9OjvbO3vjLqs0MpC3MithkGOwxzjvkdq+jfgb4ih8X6np9teBodT02WO4tg75aRNwxuPcgcfSuaMVSqQfmZ4jllBpH31djKuoP8PWuPUfvZcetddLl7USdA4zjuOK5IZ+0Sj3r7JO6TPkHpdHmn7TnxMvPhF8CfEPiSwWEXcLLDG8zfKhdgu8g8cZ498V87fBP9s34XXHw/so/F+q6rdeIYpCLqXy2bcST3HUV9U/GPwJ4V+I3wu1XRfGtjNqPh2eWNp7aGQxMzK2VIYdMECvGfBPw3+Bvw30eXRtE8J5tpJPNaO4YTy7sDoxGcDj867cL7BT/2j8Dnq+1cL0yG4/au+B00II1LXE6fLEjA1Npv7W/wUsJG265rjnP/AC3icqPar1x4Z+EF3L5p8JyhmGMxw7Rj1HFWdG8J/Cayt2trbwn8jNuLTQljn6mvUVTKurkcq+tdbGP4z/a/+Et94YmSx8QzPcdontmB/lXil3+054GZWddYcJKrRpmM5LEYH0619J6h4T+FNpC09x4StVCruK+QASPQHHJrmNQsfgzLbzLH4Nhkk8qTa62yjD7Tg/nU05Zb7Rezbv5kVvrPspXtszt/+CfBD/AyZh91tXuXH0IQg19QL8or5i/4J/KB8E7oAYX+2boKCMYHyYH5Yr6dAz+NeZjrfWZ27szyrXB0297D6KKK4j1zwb9s3/kgWvD/AK5j/wAiLXZ+B/8Akn3h8gc/YYf5Vxv7Zn/JB9e+sf8A6MWuz8DtjwB4eA5P2KH+VefR/wB+n/hX5ntVv+RbT/xv8j8ev29PEX/CQftK67Z7xNDp7RwhfQ4DN/M14LE7XF+kb42ou846EntXof7U10L79pD4iz7txXV5Ixt9htrzS1uPLR7kjJY7R7Cumq/fZhRjZMn1t9ylB94jdu9PalsdNNywUDJAGePxqW0RbuUnBbbzkd66TTNLf+0LdlO77TEHAHQHPSl00NYw11OcuNMzH04PtVZbIpGWKbcgj6V6HqnhiRPJZB8jqDj8xWYuhqzSQT/ekGR7Y4H8qycmX7J3scVpun7tRt48bvM+Vl79K6Twz4ck1rxlYafHGWaW7jiC9+tXNP0P+z5rfUJMLHF8+71r239lH4eyfEP4yQ3sUD/YrPFxNKV4Vs8D61NSfLC7Lp0rux+j3gfweb/S9Ot57mXyLS3W18rJwQDhAfwxXR678M7G+0tIZIgFVw23HGcGp9NvF0GTTUNvJO95MsCRw44Gcbmz2A5/Cu51GFRZ7GxkN1HfHf8AWunDy5oK55OJjyVLI8dT4NaVyfIXd9KbP8F9NCEx265A716UsfzYBqbyfkcDg4ro9mcjdmeE3nw/sbaYI9tGAp+8w6e1dN4H8E6dZ+INPvYUUTJLkZPI9xVjxVNHYrPcztsgiVnY9TxycCvNfgP+1h8P/i58SoPCPh2/u7nWoJSXjmgKoQpw2D7YNChYalc+voY90ecbV6hf/wBfNRyoFNWo1CR4XPPr2qvN941VihlPpuDTqRBxHxc8Djx54F1LTkJivljaaznT70coHBH14zXwZ8DvEnivwTqWo6LBpt7HfWMpN48Vs0xlBP38AE/XNfor4k1I6ToN/dg7QkLHPcEAnNfBPwr1XWfFkNzrOk6j5Gs291NbPdRnl4ySQrH0wPSvLxMYyqpH0WWTfK00eu6lrEevaP8A8T9Nea6jBkhuoNLkDQNjgrsX9PY1l/BP48T+MDqmmea+ptpkvkPfrbvGk3oQrAEHsfcGvRfCthq+o2Mj69evqMk4G+JvliBAxgEc4x7VBqmn6XoAlvYkgtIIgAGVQnygfd498+ua5KqUdUevJxelhPEV80xV532oo3MjHH4V8qeMv2jvEnhHxtr3gcXULzPcRTRTLD/x42bLl1Y42s7fwk8jmvXfEXxHhmuJFN0bcj5wWQuGA7YFfJviRtD8UeLtVmgu7+/1G+nJutSkiJSMAAbSMcjAA4J6CvNdZXdzXldkkcV4J0dL/wCIfiLVLGLNjISTsZirOWyPqw681+jH7I3i5ri+bRr9/Nvbe0AjmwMSITx9cYNfHtlp+l6Kk2nWSi6i02PM20BNjdWLMMgseTwevFfRH7J9xea94ktNSiVmM1xlm2Y/d7T+Q4HFZUKzniUzkxdP9zJs+yfEQ/0Y54Y5JFYKtuXHqBXQeIMfZGx6Hn15rnR93/gNfZrZHyR578a59WsNWguLG8jhhaBd0fmMpzz0Arm/h3oOveOFuJbvX7nTPKYKGjJdG5xx6GtL472hk8XabLuIzZrgg8EZPb1rt/gdCsPha5VEAzN9TnHU1lTjzTaZb2uZf/Cp79cOPG14Mrkjcc1ds/h3d2pG/wAVyyjoWLEE139/f/YplRYogCPvNn+gqXTbgXqu5jjDA8Ouf6iuz2cdjmlUe582fEM+IdE1ySzXVZTCE3RzxTthgR2GeuK5D4LXl5cftOq1xczTTSWW15HkYlxngGvX/jfbBdYhKDaGiA+pxXkPwcBT9p+PI/5c6+Vx7l7ajG+nMj7HJpXw+If9xn3OOAa+YPGC/wDGbnhI/wDUHuP/AECvp4/dNfMni/8A5Pc8Jf8AYGuP/Qa+zwHxT/wv8j83zT4af+JHgP8AwVi1qS08BeDLFdu261GVnB77FTH/AKFX5oMqvZwwAZZiucegwa/Q3/grjebf+FbW45Vprtz+UYH9a/PGw3famYg/LwB+lebiHeaT7H1FCOiaNe6nDwSKhwSAox6D0qtb6e0MavyA0mGDdee9VbNzc3pgLcocCuvs7VHEtq7BnnUFT6EVyrfQ65K7XYr3Gl+XDu2tsKgH/eyBiqf9lqZ4+Mh+Poa9K0+0tjpjpOoLbSuD/eB5as/UPD4tLeHC4kd9q5/PNFmbSjGyaPNLzT5FaVWUh1BJWt260cxaPpMgOdy4cHrzzn9K6u30SK6W4upcbY4/mY9GOen5V03wN+FGq/G7x5BptnGw0W3mDXdxt+RIwfu59ScdKmT5VdhGmuY+5/2LPBQ8L/CnR1eLa9wWmkz33Hg/lX1paWMbRg7OPcdvWuA8PeH4PC/h2K0tY1igs4PLjJ4AwMAmui+FHijSPEHh0W2m6r/as9m7Jcytncrddp4wR9KeDlzNpnHjFazRNLp8RlI2jr6Up02BwAUBGfSrci4napY0YgfWvS0PJctTjPFWj28YLrHkj/HFYOlApI67SBjoV/rXZeLItwIJ6DJHc+1fJHxi8N/HjxP48spPhhr9vpWhxRqt1HOcHdu5+vFRYOY+6vB6I+h2Mi4AZONvIPrzWxcRqKw/ANtdWvg/R0vn8y9jtY1uJB0aXADkD65rduzjFOwFb+KnUmDmloAZKMAZG7npXxN+154J0fWPi5YXen3EkGvx2y3F0sD7HuIwcNHnocqMc19tSEBMnoAcmvz2/aT8cJ4X/ab0m+1aKQ6IlskM8iDlI5GILH8DXn4yaUFc9XL/AOI7Hpngm38OLZxpoXjnVvNZwiQpaLuiH908YIFZvjX4TeMdb8Z6LrA8Sn+ztNlwY7mziW4mU8sN6DOw8cE9c11vgy68J2pa6h1Kwyw3SMkqr15yBnP6Vr6p8UdHeUw2jG/fHyRQfNuPTOfSuOpKEVofSuUou17jnvEsdOxO5yP434wPWvl39rHVJtc0HRrDQnd9ZlvvME0MG/7NAqkOyvjAZiyjrnrXsHihdYvlS+uLi30m3z+7W4c7VHbIHWvAvjPda4t1Gg8QRmzlTy5FtLYu8h9FC5wMZ5OOSK8aVW0rm8YrlPH4/C934svLSzmRU0nR+pkBMkkhJYp/vEkk59a918Bq+k6rYlJPs1+16soWNgWwOoJH8Pt64rktNj1R9Esrf5tLsY23PJfgJcOnTCxjOOmdxPOegxXafDDwvd6l8SGfY8WmqVWFiv3i4wX+m4g1xSrSlONhTilCTP0X8M6qdY8L2F4f+W0IJP0yDWMMefP9a3tE0lNC8P2mnRndHbwBd3rjkn8Sa5/pd3C+9ffQuopPsfDTac3YyPH93BZfD3VZp7ZL6NZF3QuvvgV4z8OvD1rr3jTTn8hLfLlwYx0xj5fp617N48i87wDrUfUFkI/76FedfCOIR+L7E54UnP6VzuKlVTsUvgse8HTtvHlWm33hHH6dKjFlljsWzz2AjB/pV68tftkMkQYoTxnbnvVC10aW3nikd48J/DGpyf1r1OWPY5uaS2Zxfxc8Mxah4Pcz29vm3kWWNo1KlSOvSvna60+ONrggAHypMDaMfdNfVXxIj3+D73g180ajGG+0nj/UyHr/ALJri5UsTBpdRVZOVGd30Z3n/BPvA+B9z6f2zdD/ANAr6eXrXzF/wT8T/ix90P8AqNXX/slfTtd2O/3mXqzz8s0wkPQfRRRXGeoeD/tlj/iw+u/RP/Q1rs/A4x4B0AL1FhEf0rjv2yP+SD6//wAA/wDQ1rsfA5/4t/oLf9OcI/SvPpaY6f8AhX5ntT1y2H+Nn4XfHZTqP7Q3xGhLYk/tu4b/AMfNcZc2bR2Lpt5Vyv5V6r+05o50L9rDxtGRhZNRMn1D4b/2aucuNPtpf7SfzAr+T56r6kEBh+tdFbSdiaavC6MXwJaSahDIsS7pozkr6jvXT+GmDTSRsGWSKXbGB165rnPAWvr4cnvbuMRvNFKoRX+6dw5Jq74V1Z9T8Z38jKkO6TcwPTn+7UQ8y77M9V06xbUrpra5KlIlwo/h9aw9R0/ztQuPIKkI4AX2AGf61v6bdNbahscoofIUS9CMVV0d4L7WjZzIAfMdgV9cVq4rc1hdszr3wpqfia60nS9PiSC3mCbppfuoP4j9fSv0w/Z3+DOifCvwLZWumqXkuFWa5upB+8mkx97PoK+Kvh/4dvNV8YaRa2yyTLIAGjxwmccmv0n8P239n6RZ2jNuaKNVLeuBXjVptux2xg4ann/xh8QeLbO/0Ox8I6fK93d3ASXUUi8xbPJ4yPc/zr3GSCaHR4UuJvtFyoUSzBcbzjrjtXNXajJXbuTBJ5xWjb+IoZLF4bqaNZoSELE9R2r18NJSXKuh4WKpyfvDwwj5qf5RCdzYGOKwr7U0uLuKOKVCvqrVJfXLNLaIflJbmuu55l0zj/HVus1vID0bIyV6juKqfCb4P+DvBviKz1fRvDthpeqyOPNvoExLLv65/M1q+NFEaumQxDDBrovCqhY7N8/xIDSuwPTCRtUDgBfu+lU5PvGrqkNECKqzdaYEdFMqvfaglgquy75D0QU7AZnjSwbU/Dd7aq3Mkbr/ALpK8H86/Jq1+Imu/s43mpajp8H2m1mUxXemzglPPTjqOQR061+jfx3+Ntt8Hfh9rHirW7n7DptpET5UR/eTy87YlHdm4+nevy6+HXiPxx+1BL421+Pw2JrWzka7vbiIARIhbIQE9ZAP0BrysbSakqkVc9jAVuW8WfRnwx/a28TfFfwulzbaVbaQ3nG3ePfuIwAQR7cmvZdDsbnWbMXetySXUijKw/8ALOvkn4U6FrfhnUrecRK+h3bBbb7OFKRsMkgkfxHn8q+hvFnxtj0XS7aK0RWkU7JlcY5PXn614VSpZXZ9HTg5FDxz4xGg3rwNbafZWzIR9wSSH8Rz+FeUT+H9E1CZb6fVNReR2zFpdmgtEAPXdxu2k89ab4w8Xav4sjDRadDaPko0NxKEhz1/Hpn8Kj+EvhC+8Ya0uhWz7rqaTzdRvN4jjaPsu4nCqPTPNeel7R6HVL3I3Z0XgDQLXxp4mn8IwXFnZ7LH7TNbWY+doSdqnnPO4jk9TzX1h+z14bHw5uobOa2aOO6QRRNnOXBPz89Aw/lXyvonwxuPgJ+2v4Ga91Rr628aaddQXEkYyCyKxRVH8IG0EH2zX3J4l+H9/qFpB/Zus/2dMrCSJnUspIPtyO9fRwy6VFRqrU+Zr45VG6Z23iFito/qcg/0rn4TmMHrxWrqUk66Oq3J3XSRhZW7MwAywx6+9Y1rMVtx74Ne1G6SbPDMH4meBNT8W6jp0+nRxsscARvMfb3Jrb+HGh3vhbTJbS9hVC0gYENkVxPxo+HuseL9R0i50vxHcaGkNqUaOEn5iTmvOv8AhRnirPzeOr7/AL6NKL9nLmL3Vj6sM0eQTtIHrimG6RVYL09FxXy2nwN8SA8+OL5vxNWY/gjr643eMb0jI53GtPbPexDpq1rnq3xK8Lah4pu45rNIiscfO9gK8U+Gfhy70n9qma0nMfmW+nJM21uxJFYPi74ca14bvYvO8R3l6JAcZcr+uapfBOCWD9o20WSeWWZIQGZ23Z6189jf4tGT/mR9fk8f3WIS/kZ99N9wGvmLxj/yez4R/wCwNcf+g19Of8sx9K+YvF3/ACez4S/7A9x/6DX2OA+Kf+F/kfm2a/DT/wAS/M+U/wDgr9YygfDe9jBIR7lD/wCOGviCLTQ0NpcoP3cxIH1I4r9E/wDgrRpK3Xwu8K6iU3Nb6qYwfTco/wAK/PHw/qCnR40iYBoiRHuP3XT5lP44ArycTpNeh9XhHaKuYlvYS2Pia3HR2OMeprvPF9tb6BPo1zbTIyzg5RfvRn3/ABzXGeIdQaTxDBfqmIfNVwB/CGB/qKqz3M2s3EMy53pO7OPUA8Vzx0OvpY9r09I5rO3djkls7vrWr4mxeXVhEBH5bAkqOpbHH8q562nFv4dM8kZOxljEZ69Mn9AaXXtSZoNPmChXaM4YH1IH6VtdFcr0Rqw6DbS6PcpcrJDDMiqVXsRwa+7v2L/Den6N4NuIrK3S3hVlPyry7YPJNfKXgnw5ceL5rXT4NzNJGscjhc7cd6+/vhF4Rh8BeDrTTohyq5ZyuC5PevKxVTVJHo042jdnYeIvD669oV3przTW0N0jRyPCcOFPcHsaf8GPBelfDnwnH4f09nYxOXaWbHmTZHUtirayhowDnB9KqNctZX1rsmjgdWzI8ncVrhqyg+Wx5mJpc0G7nQXjpGzuTgCorXUEaCSX7yrXB6r8R7SeSe1a6gmnDsMxj3HtXR2+3+w1uN4AdSefpXrxkvmfP6Xte5LrExu7fzym1XHFcv4TtVN1dkHGWq9ceJ7IaPBb+d+8jByce3T61T8JXEKXlyn2mFpNodog/wC8VTnGR+dO4z2Lw6AmjwL1wp/9Cq1Ph8c1m+F5PM08YwRlsfTJrUmX5vwouwKuPalx7Urt0qveTmCAkcMehqlFsNQurqG1hZpXREIwd/cemK+Bf25/+Edbxdpsi38El3qNm8DWjPiTahOJgvcKeD/u19Z/E/xRpXw+8B634v8AEFyI9O0m3a5nY5yw6BV9yxA/Ovyf+CPw/wDF37fn7VVx4g1i5uLPQLSUXd1LbkoLOzU/ureM/wB5gMY9SW75rmxOGlXhy7HXh6vspXexg+CdIuPCvxQGq6jqj/YZJGjSPcWWcn5F2rnphic+1fePwf0Sxi0oXxkSIKCSzHCgZrz/AOL37OOneB/iteaPZeHp7jw1PbLdWt1ZHD2kpxgAeh7iuht/CPiPw/4Xs4bN2jW4VhIsn3m7Y/LFfMVueE2pH1dKMZw54dTd+LGoWd1ZTSRSwTbY9wkZi4A7YXOP0rwOx8eana+IGtLOVXunXeyqkapDEOPMYhc9+OeuKvW3w81+88RWum3Gl6g81xK0YEAJRozzuYf7I6n0FRfCH4Wt8X9bnsPCBslt7KXbqU8A/djDckjH3jjgexriVOpVfuxOyU4UoWkzkPi58Q7nwr4YGqR2s2pySXK+ZdTRbm8ndh5Cf7nBA7ZBr750HwzpF9pFprkSPHbyWiSQSxjEYjIBQ/THftxXnX7SngXRfC/7MfjvR73R7W0ddHk+yzswdp2AJVi3Y7s4Fem/sW+Jz40/Zv8ABt7NuuLiGyjsW84/N5kShW/Dg19RRyxewtLc+VxGOlz2Wx6h8O/GVr4w8NiW1uBPPauYJh0+Yf8A1vzqHd/p831rp9P0SGESmGGK3eQ5kaCPYD9T3rndQsLiwvpjNHiNz8rr3r0FFxSPNlJOTaKPivWNN8P+CdY1DVrd7rToFVpYYvvHLCvFtO/aN+HGnXEU1noOp28qchuf8K91aKG60LUEmjWSMgblZciuYTw7pnljGn2wH/XMf4VLi+ZNII6I5L/hsPwy2SNL1InPXaT/AEpy/tb+H5Omlalg/wCyR/SutXRNPBwLG3H/AGzH+FSf2LYdrKD/AL91o5TWzJsjgNa/ar8NXFm0d1ompTRt/Bz/AIVzU3xk8F38FwI/B94S0Ug3tJ6qcHpXpnjDQrFvD94PscX+qb+D614I+nxp5pC4Plyf+gmppXdeLl3M6z/dSXkz1/8A4J+c/A+6PQHWrshc5wCVIH5V9OJ2r5j/AOCfP/JDrkf9Rm7/APZK+nE7V247/eZerPPy3/dYeg+iiiuM9M8K/bH/AOSEa9/wH/0Na7DwUf8Ai3+hDt9jh/8AQa479sc5+BGv+2z/ANGJXY+C/wDknmiHv9ii/wDQa8+j/v07/wAqPaqf8i2H+Jn45/8ABQPTpNH/AGpfE8sY2tIlvMrD3iQ5/OvFZvEYYWz7QY51JjZexI+ZT7HivqH/AIKgaOdN+PFtqBj2x6lpEZjb+86EqR+S18TC/H2cWLkmI8pjqrA8V3YiK57o5aNT3UjpJ7BN2bcvtnVCYx1DAnj6V3Hg/QS3m38h2I7eWgx1bPQfSrmm+HbbT/BGn61dyJ57oY4Yz1znkmnah4hWxufD2kWyDyYFaZvVpNp5NcEZHdyaJM1p9eU+KLV1GI0k8jb6DFX/AAdE2oeMJBEQCollG7r8pIA/HFebyXrtNK+T5scyyA/8C5r0r7HdaHOniCyVjHAjPKq91PP588VUp6HTTj7x98/sy+BLW10NNXIYuwDcgfNmvom3VuO20Yrxr9nG7ef4T6JeFdpu41mUf7JGRXsMd5tU5P5968h3lK521HpoWLy8Szt2llJKrzj3rg/EXi68tPDt3Pao6SM+V224c9evUV0WsXct/bm2tnAmYjG4cdaSfQ5bmMI1wfLIAKds17eCjTd3Ujc+ZzT2lSChGXKee+C/HMf9qRPrFxJFsGWLwbM/qa6XxV8UNMuG8ywmkd4zwVi/+vV288F2MjjzFV2xg1La+ELBFw0KHIx1Nd3ux0grI8unCUIKMnc83X4q3t5eamtxptwBCgNtLKm5J3wcDAxgZxmu9+H3j681LTtGXUrNrbUpCouVt0zEj56DJz0xWRqXhGOzuOJ5NmThd3GD1H8q6Tw/okFqtnJHGpZZV+YjmpvrqaWPb7Zg0OOTjjOMVHMuO+KdZSDaSSeOvJP6VW1fU7bS7OW8vJorO0iUvJcTyBUVR3J7VQr23HBTgjpj+8cVhXF59q1GJUAYOuV/MCvCfij+1DM0NxZ+DsRRoMPrNygySenlIe3+0Riu08V+LD4N8Faprcr82Giz3bPno2wY/wDHiK63QnSSnNWTMoVYVG1Fnxr+3t9o/ac1uDwx4F8T6ZfDwrdC2vfDDvsuLm9dsbwc4YKNo9sV9jfAX4G6B+zb8BR4WgEM4t7eSfWL1lB+1XBQmRj7ZyAOwr89P+CZfwYf4zfFzX/if4ht2ubHTJ5JFmlBxJdTEucH+LarJx05r9KPjTqUll8EfFs0UqwSvavDGxHygudoA9+a5qr5YSuddL3qkV3PAPB/wX8O6TJHLp6zRWvmtOkXm5QEknIH41D4m+Hugam16b+0xbFcttP8XYCtDwXq8y+H7OOYiOVIEVy38WBya774UeEf+Fg+JW1m8j3aJpkmIEI+WecHqfUL/MV8lGkqs+Wx9bVquhG7Z8tftO/DV/gX8HvDUmmNMfFPi7XrWxggucPHbxsGG0d93IJ9ga+0vhX8D9A8E+DbGxNnDdXrW6i8uwmBLLtG4dex/lXl/wC3Z8KNS+Lmn/D7TtKaWG70/wASWt89whA8mNVdmfnjOBj8RX0bY5i0CCOe4+1SsgRZF+Xc3qcdyME19LRwlKmk0j5mpiqtSWr0Phj9p74T/EbxF+0R8K9Q8N6MdW0jQZ0eSaKURyQIZxvLdcgLn8K+9rG2EyryC4VQxHQcV5reaWsXjaFPMaGQqoErYZuCCRk+uMfjXpyyfZisQOJZTnk9vSu+TeyOBNRbXclurKGW2eFohIhHze9cfrGmrpm0xsXjYcL6e1dyQAvB+ZevvXP+KbYfYZSvG0buKxspbjUmmc7rxYm125LeT2GRVBYnXqM46k8V8if8FG/jx4s+Dy+BYvDWszaOl5bTPK0KqS5Urgcj3r4v0z9uz4spJd26+MbiSGRPvyQxsy4HbK1KhzGjfY/Y0RnurehO2lC7Sp254zkGvyR+En7cvxOl+Kfhm31DxLcapYz3qxS286qEdWBU5wM8Zr9irPTbWa0gmKMu+NXxn1UGn7NgeMfFaDMtoeh5xu+leX/CFlH7StttOE8gbcjqeeK+ota8D6N4guzFeRNKI03Kd2DXi3hHwrp2l/tbXlrbwlIbfSo5o13HhixGa8PMYPmov+8j6rJ5pU8Qv7jPrUfcx2r5i8X/APJ7XhL/ALA9x/6DX08B8lfMHjA4/ba8J/8AYHuP/Qa+owPx1P8AC/yPzrNPhh/iX5nm/wDwU40sXv7O/wBp2bzZ6tbvj2IYH+Qr8lLeb7HcXljOdiOQMg/dZeh/DFftZ+294XbxX+zf44so1LzpZ/aYsdQyc5/Wvwy1S+8zzJslZHGGOepxzXBWjdqT7H0lGVlY7HQGuNZhvIXGZIwF2kZzyMH8ea7jwl4Vitr+5lvz5dvZQmeUt3bqF/lWR8Fdbt9HivtXuo1llMflRBxnJwfmI9RUup61Pc+GdVuA53XRO4dzknrXlc1pWPYjG8bm5rurM1rpoDrunjZ2VemWHX9ajike+8P2ciklbdXjYjsdyk/piuXmeZbfSpB18qMhR0wCBXf+BpLLTGuLLUiYrZpmZ9wxtDBafMzaO59e/sl/ZNW8QxtAV2+QpCjtgbSf0r7QtSkrAE8A4x7Cvhv9iTTo9N+JXjezFwskdvDEbXac5VwGyPzr7Vhm+ysxJ715lWXNK52z+FWNyXEcJ2tgVyEswvryedryTyY3KnyQMDHrmtCfUGl4QEqT1zV6wtI4F2CJd7HexAHevSwMnGd0eNjoKVLllszyO48F6jHeS3drf3DMXyFkRcH9K3vt3jK8hEBuBFGo27VUc16ROoVAFVQCc9KqLboXztUsPYV7VSo6ju2fN0qEKK908T8T+C9QmuLV9QvryOSGUTJ5GANw9fbmtDwz4eu/+Ei1DVoZLn7dfIkVxcZHzqudoA6ADJ/OvU9VgSS1IZQxzzxVXw9aDzHIO0A9BWDN7Hofw582LQLVZJGkfLKWfr9411k/yDPeua8GqY9OiVf77YB6feNaniDXbPQtIutSv5ktrK2QySzSEbQg7/UnAHqTVR35RdLmL458b6b4D8Nz6vqMjCKMbIoVX95cSH7qIM8kmvJvhR8WtV8cL4hg1uSEXULi8t44ekcLMB5Y9ducZ9q8h+JfxEvfif4gGoziS30y34sLLccxxZ5mYf32/kBUPgDV28P+LbKdmxHcf6FKcYGJDtU/gxB/CvpKWWNYfmn8R4csw/f8sfhOW/4KC/tX6h8LfE/hDwJo+n2WtW95D9r1fTdQQslyjECKPjpk7vyr6Q/Y/wDhjp3w1+GsFza+HIfC+oeI5jrF9ZwyGUxsygpGCQCFUAKB7V8K6n4Zj/aE/wCCo91YXvmT6JossZnMY3KscCfKpz0BaT9K/VG3kjXXreJFCLHEQFXoB/UV4lTyPbT0SPAvFfjKPX/it4m09irrpjx2wVODwDn+VVPEl9bLZmaT5beP5gq9c9Pz4rzt9YtL34i+LdTEyCS41SbLRnAO1iBXpfwj8ND4neIhezR7tB0h8nOcTTddnvjgn/eFfIzTrVnE+wSWHoKTex1vhnwfdaJ8NfEfiW5Ro9bu9LnazXGTAnlkoo9GPB/GvFv+CV8elL+z1cMkZXWrjW717/zI8SSSBhjB7qMn86+xPFMEcuhXEXzESqEAHGQa8l/Zw0zQ/A3g+PQdFtfsVjahliB5YksSWJPJycV9LQoxp07JHy9SrKpJybLX7QnhHSviT4J1Xw7rOmTT2N7D5cnziNQOgYMM4Oc4q/8As+/DTw98Kvh/Y+G/CkE0GkwTTSCO4kMkiktyCxAyMnjitbxspOix71UzSsZX4zuK9K1/D18yeGrWUnM0nyIncAcV0+9axzs6lJVcN5Y+VeDVLUoPMhkU/MNvep7Q+WI0A56n3pb1CysKzS96zEebatrll4V8K67qOpzC1sbCLzZ5W5G0Ef418+Qft0fBlriK3bxQ6MzY3NAQB9TmvTf2nFEPwG+KY6Y0l2A9DuXmvwVvdeuJljiMpZW27uMZxQqad9TS5+0t1+3P8GrGaWJ/FDHYDlkgJzxwQc17R4P8Q6b8QfDllr2g3A1DTLqMPHNGcdex96/nz1TxHcTS7C4C7cADkAY6V+yv/BMC9N5+y9Yq7FzHdyLyfYYFHsvMTke/eI9Gu7jRbtFt23shVRn1rxS++HniVUnb+x5lQRScnHTYTmvpzUi32bqfvqetM1gldOu8HH7iQ/8AkNuKqnSUaibMK017KXozxr/gn4pj+CVypBBGs3YIPXPyV9OfwmvmX9gTC/Bq/A6f25ff+hLX0yGytaY3TET9TkyzXCQfkPoooriPUPCP2yP+SDa//wBs/wD0Yldf4M/5J9of/XlD/wCg1yH7ZHHwG1/PH+r/APRiV1/g3/kn2hD/AKcov/Qa8+l/v0v8KPbn/wAi2P8AiZ+e3/BWrwsW0Pwb4ijH7y1nktS3s+SP51+YcEhudXgjDMAZACO/Wv2L/wCCldna3vwB1EXTKrRSLPEzfwsp4/PFfkJodvHeXgnWNhLC6k+hr18RHlbPHoS1SPS7zxA961jau21EIAUfd44H8qt6lZzx+NtHWWA+ZJCrFc9NwA/rVaz8OzXcSXqpi3A3eYR8oOfWqWv+LWv72A28x8+zfy1mB5IHQ/SvGjG6Pfm+Vps6rSPDrRXd6b4NbwtG+2RhwGBBGanm+KTeHYW05oxe2GpWzQyj0crhXH0/pXN+Kvipd6voX2SQIk0bjJUY3jGK4i0uGubaDzT5skbMUA5zzwPwqpx90Ua3vaH7L/s53E9j8JfDGmXyET29hGFKjqu3jk969EutchimEQk6cGuf+FXhm+0n4T+GY79WGojT4VZX4PmFRn8Kuap8NYZLqBdQ1G6uGkOXigIjQe2QM/rXlwpVKj0O6pWp01dmppeuWJuCGmUyMMKuefwrqLO4DBTtwcYNYa+FdK0TVrSGxskjVYh8zsWbPuSa2bX7xOMfNivcwtGVNPmPnMZiI1XoSScM2eTT44yYSf4qSZdznAzUtjEJC+RgD3rrWiOC92YWsW4aRWJwc9617JPLhtQR0kUcDPf9ax/FWoWejxyXV/cR2lrEcmSRuD7D1PtXkfi34y6lrsLWWhI2laf0e6bieYf7Cn7n1rqoYWriJfu0c1bEQoq8me8fEL426L8OrdrXf/aWtk7l062YEr/10YcIM9uvt1r5k8ZePNf+Il0Jddvd9up3Q6dbkpbw+g2/xN/tGsSK3EbM4JadjveRyWZm9WY8k/WpBDwfc5NfY4LKqVC0n70j5rE5jOs+Wnoine6O2uWMulRySRPen7ONh5y/Gfrz1rf/AGmPiU8f7L/iSRWH2i48OKrhiAd3morD8hTdCxH4i0YucYvoG3D/AGXDY/SuR+JHge98eXmtfDKPciX18+lwvIQSLcyRys3T+4kgHfnrXFm95NQa2PRyqHuylI9T/wCCafg2T4c/soeH2uYGs7zxBNPfsrNuz821HA91Vfyr0n9pfW5NJ+BVyglRJrrUooRu/jxIG4/AZrrJdPs/BGheHNH0uMCw0aG3soF6fuUQIPxOMn618v8A/BRr4nt8O/ht8P7XdG0F5q81xPGeZGjWNwpH47a+TxFNypcqPosPKEakZPuVPBbap461+x8N6buWa8I82Rc/uYxjc59Bg4/GvvHwv4ftfCmh2mm2Uey0tYxGg7t7n3J5z714B+xP8M5/D/gCHxZrELx6zrsSyqkww9vB/AuOxPJ/KvoPVb428Eixrzjb9B7e9edhcM6a13PQxmIVWbjF6HnfxehbWb7T9OiLGV7gbdpxtCqSTn64rU8E6w9/bx2sx3eW2AG4bcvB4Ptj86qQI1/4+CyfOLW2Ln1DMy/0zXKReP8ARtN+J+qeDvtDf8JNbQf2ukLrhZrRjtJVv7wZWyPTFe7Gm7Hjy0N/WnaPxDNfFdy28/fsM4rudOnN0y3ko2mRQUU/w15x441L7GzPG+y2upgZLjsB2B9ycV1vgbWP7as5pJ4WRLdxEGIwJCByR+lEo2Q2dnbKfLOR97vVDXYfM0+5PJ+Q8d+lXFukYjb07CluI/PQjorqVP4jFcYH5Uf8FgHMFp8LnJ+X7PdL+qV+bNrcENISSOG6fSv0p/4LI27Qab8M1ZTlWu0PtymK/MmJz5Tkeh/lVx0RR1vwsvPK+JHhyTJ3Lfwkc/7Yr+jfRSJtE058ctaxHr/0zWv5tPh7N5HjjQpCcYvYf/QxX9InhWTzPDGjkjGbOHn/ALZrWu6RErlo4bUZCO8IrxDw9/yeJqn/AGBY/wD0M17b0v3/AOuP9a8S8Pcftiapng/2JH/6Ga8XMt6P+JH0+T/w8R/gZ9QD7v4V8u+MOP22/CXvpFx/6Aa+oh0/Cvl3xj/ye34RHf8Asi4/9ANe9gfin/hf5HweabU/8SPSfiXYRax4X1ixlXcl1aSRMp7gr0r+eXxxoU+k+JdX011YSWN1JAy9sKxAI/AV/Q38QrtbHQtRnc4SO3d2b0AFfgJ8QdQPiz4r6/qUMi/ZJr+R1dfusu44P41hWsoXPdpXbsL4dSaDw7CqHazKQR6E9K7O0sYLrwVfwylkvcJgeuOuKTwNo0F4s/20+VZr87OvXA9K5vxp4qW31IW1mfKtYRkY/wCWg9c14a1nc9/4aaPQfCmm6Nrmg27m7EcttEVZXPJIORj8q5jxP44Gr3V9bLtyYdoI4z2/PgVwcOv/AGIRtA5jI3Ky561W0RbvVtSMNhbS3V05IWOJSxySP/r/AJ10JXukjDnfMffv/BOG1/tDR/Ec7yyPqMciKZeSyx4G1c19ra/4gk0tVhIklmVcGONCzHjrwK+af2E9Dtfgp8MtUv8AxHb3h8Qa5c+b/Z6QktFEgCoG54JK5+hr6E/4XFpttazCHQbx7h2bMkpC5HYZxWFPLcRXldRdvQupmdDDxtKSbJ9MvvEWoW7XMOjPbwRjcZblguR7AZNdvp32hY0kuCvmuPm2E4rzhvjcq6O9n/YV2XYZDC5XH4/LTU+OaIi/8U9c5UY/4+V5/wDHa9qjlNel0PDxGaUaq3PXWXMKc1HBhWJPevLT8fotij/hGrv/AMCV/wDiaavx+hU/8i3df+BK/wDxNdEcDX7M4HjKPc9T1BAsBJXhh3qtoKgHhfmY4rzm7/aDiuolQeG7oYGP+Plf/iar2Xx3S15/4R65xn/n5X/4mm8DWtqmT9bo9z6G8KSpHpxZiFRGdmZvlULk/Nk9v5d6+ZfjR8VH+JGqfYNPkz4atH3oRwL6UHAkI/uDnAPfntR4x+MV/wCLvDY0KyspdIspZGa9kefdJcKWJEakAbFP8R75Irg44QFUIBGvJCgYCj0H+e9e5lmXTi/a1lqtjycwx0WvZ03uReXnJzz149fr6U6SJpsBOJMgqSf4gcg/gamVB6Yp+30G45/i4GMdK+rmlKLifO05NSUmYv7A3wzubz44fGf4qapbyJIt3/ZFhM7EB32hpsjHIG2Ln3r7WsPEEdvF/ac7rFDb2MtxI7cKm0HOfbINfP3w5+J1v4E0G90mfSp7q3kuTdRyWuEOWGDvGOTwOam8S/GjTf8AhVPjW1trO9bWp9IuobG1lgOJJHDbUznuTivhMRgqqcrLQ+1w+KpyhFyep85eB9Rn+JHiCDTNEUtf6xdMyiPou5stJn0Cgn8K/Sf4feCrTwF4SsNGs1Ajt0G5u7ueWY/U18R/8Ev/AIJ3fhHwTd+N/FUuNWvHa1sdOmP76yhU8kr1DNx9BmvvG4v1aFsN5YAzz1xXzVPCOlUbkfRYvFKslGGxzvj/AFX7Not6EfEyRk/L2x0/GuIg0E6DNo6W7MHkgfcgB524Of1NbfjSN7yG0s1y0l9dxoT32hhmvKP23/iLqnwn+Bd14r8PTSQappWoQYeJN5VS67ww7IUDAn3FexCLk1GJ5jdkewa5Iup2GmTF1CMDuY+nQ1B4MvIJZLponMirKVjV8ZUZ9K57wn4kt/HngW01SJtmnapYR38cicrFvQFlU+zbqw/gprNv40t7LW47zydOaeVLcEYa6CkqGPt3FaOMo6Mm573Yo+0yONrNwBVuYBwKogygEdMtjk9KsKX2gEDHrmuJrW4zwj9qq12/BL4p56PoUjr+GK/nqWUvNHk9AP5Cv6L/ANqWzWb4E+Pn9dEuUP4AEV/OTHzIg96cEyizeShpT+Ffs5/wShuvO/Ztnj6+XqDD8x/9avxbnx5zV+x3/BI+48z9n7VE/ualg+3ymtETI+3dQG61P+8D+VRau2dMvPa3k/8AQGqa9/49TUGq8aXfD/p3k/8AQGqo/EjnqL91P0Z49+wL83wavz/1HL3/ANCWvpqvmX9gP/kjF/6/27e/+hLX00etLG/7xP1OfK/9zh6D6KKK4T1Twb9swY+AviD/ALZ/+jFrsvBQ/wCLfaCT/wA+MX/oNcd+2h/yQTxBzjiPn/ga10ejXj6X8HrC+jjDTQ6SsiK3TcEGDXFR97HSS3sj2a0uXK4y/vP8j4Z/4Kr69qFn4D8MaLp8Elwur3zB44o2d2CDONoHPNfDfgH9nfx1rEERg8N3cVrKMtNcIY/0OMV+jV5qVx4mvI9W1ab7dfyLv864QOIQedqDsBnFWY5BgD7v+7wD7196sj+sWdSdj4b+2PZO0I6nxxd/szfEq/0UadbQWFpbkYPm3YG4fnXJS/sIfElpNy6jo+P4QZulffat070/cDitafD+Ghu2yKmf4mpukfn5N+wb8Spc7tQ0fn0mr0z4E/saXXgvx/pus+Ovs+q6PYMs/wBjsJATNKDld4P8INfW/FRl60lkGHkrXZnHPMVF3SR6Q3xrtGurYvod8Io2ywDoB0471FqPxttLy4t5U0O+whJP7xPX615tI3Wo81FPIMLT2bFUznF1d0j0u++OVnNqUFzHoV+AqYb95GP606L49WkeCdCvyDz/AK2P/GvMGXcKiMfPStv7Fw/dmDzWut0j1pv2grBWOfD+of8Af2L/AOKqC6/aAh+zyCy8P3IuSP3f2mWMRj3Yqf8A0HmvLPL9v1pfLqo5PhovW7JeaVmth+t6xqXinUBqGr3X2u4X/Voy7IovZFHT696rLDwOv48fp2/yan8v60/bXs0qMaMeWmtDy6ladZ3nuQLHT/L9qlAxQelbGJXWR7W5trpYWnaCYSCNGUdP941seB/FUOj/ABq8ReLdbsLueyuSj6fs2SPE+0q2VUkYAPFZu3vxSOm3G015eIwNLES5pNno4fGzoR5Uey618XPDWsacIotRkineZQReRvGeMcksOO9cX8d/gzZftGftGfCa1mijv/BXhTT5db1G8hcPFPIJFENuMHqWKsR/dBrh5FDbtyhvXcKXSvEOo+DrptS0a7ksbqJS3y5aN8c7WHpxXj4nKXF81N3R6tDM05KM0fbsE52AECOJRtijQbcDpyO3AA/CnLK128rH/Ux8HPc1hadrbaj4b0vUZEWOa8t1lKqc8kcnPp/KtgH7LomxT87I0jGvnn7p7ylzK5zmjQSpf6zePtN1cShIHzwqg5rwbxR8DvE/ir9sPw38S/D2pW9vZWNk1hq9ldOyhrck5aLHBLHOf90V9A6fDeJosUsIXzrgtJl+xPH9a5I/DvxVdeI4NUh18aYkKtGI4AWbnkls4zVxqSpXkuugOPMcn8ZzJqGq+GPCumXDJZx6hFcahLjloUIZlz/tYx+Nez+CWv2sWF/AtvGpAijB5288n3xivnXxNYan4D+JUFpqGvX/AIm+0Rtc2/2hFTZIozgYPTA4Fe5eA/Hun+KDb24l+z3SDD28w2uD6e9J6r0KaseiqFbG1RT/ACwpwMH1o8vkBRhfQcfnTmXbnB5964+oH5cf8Fp4hHpXw5b1nuv5R1+WUWfIkr9Xv+C18WfCfwzn28NdXajjkfLHmvyjT5Y2TknP9007ll7wi/leKdIfONt1Ef8Ax8V/SJ4IuQfA3h2ZskPYW5/8hrX83OgRSLq9kwVxiZPuoSfvj2r+jz4ZTCX4ceFHI4bS7bjP/TMDNaREzeVRJe4/vpgbhx1r5z+FnjXTPHX7WOuX+ktc/ZYrA2b/AGiB4W8yNxuIDAEr8w+boa+itwW4OH/5Z+teI+GkSP8AbF1YII0H9iRnCjH8Zrxs03o/4kfSZR/DxH+Bn1IOlfLXjA/8Zx+Euf8AmDXH/oBr6kXpXy34xIP7cng5Om7R7j/0A17uB+Kf+F/kfC5ntT/xI6/48RyT/C/xZFAT5r6bMF7AHb1r8DPDayxSTQTf6sFcH3GMn86/o48T+B4tf0u6spZiI7mJo2woJUEYyOfevzl+LP8AwSMvtL8PXeo/D7xU2p63HJJL/Z+qp5ccikk7FYE4PpkVz1Jc8Uj3aTSd2fnr4k8bCOOO1hBgESnkfx1X8LfDnxd8UJ1TQdEurwqNzTAFYdvuxwtez+Bf2ab7w9dXeq/EHRXS+sZGSHw9dvs3uD96Z8cJ6YzmvVPCN5+0H4y1hJPBmkabonh+H91FCYxHZlRx6bmHocVl9XhT9+o7I92nRqVI3q/CfIPiX4Q+NPCGvJo2qaLdx6hIMQxqhkWTPAKMMgj3zX6Mfs5/CPQ/hn8PdHkttNjg1y6tlkvbqRQ02/Jyob+Ee2a9Y+HPw58cX0Ns/jOx0CW+jYES6duYDntuWuD8d+Nr34a6ZZanJYR3vh+G+Nvq0kYIktImYhZlXuoPDfUV7uUvDzqT1uorex8xn1P6vGmqUnqzuZJD1ztHbnIqs45xjJ9c1xOufEkweOtJ8MaKtveObc6lqt9LJti0+x25WQtggs4+6PQg1NoPxf8ACHi7WItL0nWo576YMYI3gkjWTH3vLYjDevHXFfce0pXsmfAeyrJe8rnWEH0NNZfY1hx/EPw63ha98SJqcbaJZPJFcXbKxCNG218rjOQawm+K1rpWs+IV18Q6Rouny2kFnqUhbE7XCKwJO3jlselU50+4Rp1Hsjtmh/2f1pPL9q5W8+L3hKx0Ky1efVgLG8d47VltpGkuSmNxWMDcQMjnGOa3PDvijS/F2lrqej3kN/ZNuVZgGAWQHBUggFT7EUc8HswcakN0XvL9qd5ft+tch4g+Mvg/wtqGoadqetLDe2DLHcQLFJK8ZYEgkKv3cZOaua18VfCfh2w0u+1DXLaGy1WN5LGQK0izqm3dt2jJPzDjGeaXtKa6jdOpvY6UR09Y64zV/jN4N0Oa1W91kRvNCtwVSCR/LjZQVaQqp2ZBHDYrR8S/ETw74Q0+yvNV1aGKC9bbaNCrS/aBjOUVQSwwCcj0p88H1D2c+x0nHpRt+lcbH8ZPBMum3mox+IbdrC0uYbS4uGRgkUsozGGyMjPpjjHNWvDnxN8MeLry+ttJ1WO4ubMNJcJNG8W1By0q7wMx+49aXtKT2YnSq9jpGXjk4qNsqwKtzjj1rlfD/wAYPB/irWU0rS9bhuLyYssEbwyRxzkdfLdlAP4E9Kz7745eBNPmnil8QQxyQzPbSboZGEMisVIchcLyDySPWplOml7zHGnO9rO521rqF1od5HqOmzPYX0B3pNE20kjnDY6g+9fZXhfUG8T6fpU86ZM0CTzttwGJHOPbIr883+L2kXHxJuPBMYka6Sz+0LNtdl3kf6sHbgjbk7s4+X3r7/8AhmPL8G6Tg72+xoPzzXzOaRoySlTR9DlznGTjJlvUGS78R2rMqmW3Vnjdf4eoHH1rg/i1eaDJo01vraR39gyj7VZum5bjJ+ZTng5HY16JZ6fHPrWoSv8ALH5f2fzD29agbQNHuCWurWC4fuJBkfWvA1TUou1j6CyPF/GfxM8GaD4J03wv4Zjk0LTGgWOGzt9NkEcCtzsyq7VHNdp8H/Dem6boemkRuv8AZ8Yjig3ECMDjBUcZ+tS/Hi2srL4W6pEkcVrGqb0KIM5HQA+tec/CLUdU8QeF7bxB4bvTcSj9ze6fccGKVeGT6E9DQr311uTZH1Las00QfG0MdwzUq/KADXL+CfGkev2v2W7gbTtTh4ltpv5qf4q60p68jtXLLRgeX/tKw+b8AfiAAOmj3J/8cr+bZOZEHvX9NXxX8Ly+M/hn4q0O38tbjUNLuLWIzNtQMyEDceeM4r8cYv8Agk58UCyeZ4m8Ix+/9oMf/ZKXMjSOx8Rzf6xq/X//AIJBXJl+CHiWLP3NSB/8dNfNq/8ABJPx843SeOvCCnH/AD+scev8NfbH7DfwCu/2V/Bet6Jr/ifQ9Um1C5W5iexuAFVQCCDn61cZRtuTZs+pLhXWzYOec8VynivQ/EN34qsNVsvEf2Tw9Z6fdR3mhrCrG9kZDsYORldvXrWre+LtGaJkOraco9WuVqpqPjTQ/wCzrwf2vp5PkSnaZwc/u26VcGuaNmc9aP7uV+zPP/2BV2/Bq+H/AFHL3p/vLX0vXzL+wE+/4LXrDp/bl4fzZa+mvWjG/wAeXqcuWf7pD0H0UUVxnqngv7af/Jv/AIiP+zH/AOjFrp7VQ3wEjJGc6Kv/AKAK5f8AbVOP2fPEX0j/APRi11Nmf+Mf4v8AsDf+yCuGg/8AhRt5L8z1cR/yK4v+8/yPhO8+IMfhnxJ4Z0fULT7Pp2tW4jtNW3/J9qUf6hx2LcY9Sat/8LKtpPH2qeHoLZTZ6Na/adX1SSYLFZsSNkXuxGc+mKzPiRo9rr3wp1aG63L5GnG+imU7Xgnij3RyKexBAxj0ryS+0UW/7MXhXUNs12moahZax4gm2mSW5VpB5rvjkqDtJHYZr9XlVlGXKlsfm8aFOqryZ9B6D8RPDHiS3vLjS9fsNQhs1JuWtpg3kjruY9hjv0rTXxNpH2HTL2TVraOx1KWKG1ug4Mdw8mAixn+InIx614X4v1DRfFfxV0yTwTLaXqw+G79L+bSsGNYGC+TGzLxuyHwp5HPFc5deOtE1P4Q/BjSbPU4rjVodV0mGa0jYtJbNGY1YSD+A7hjnGelUsYneDWqJ+qqVmtj2/wAOfF7R9Q0u4vNbntfDZjvrmyiW9uAqy+Tt3Nk9Rhu1aur/ABK8JeH4bC41LxHptlBfoJrV7i4VBNGejKOpB7GuC+M2k2Or/FX4RWV3awzWjardyPAygqzCLI3Dv6/hXFalJPo/x08ejUvFGj+Eo7i3tTYya1p8c0VzbCJQyxO/AUMHyo5JzxQ8TOnpyhTwsJW1PpCGaO8iilt5FmjmUeU6MGV89CpHXNctdfFTwZYzRRT+KdKhkmmaCJJJwp8xcBlIz1B/nVH9n/S7XQvhzoVpp+rS6vp/mPJb3NzbNbsYmcMFCMMhRxj2rxDQtG01v2cvi5dmytpLuXVL9mnZBvyjw7ME9MZPHvWk8TKKUrGFPDxlKzZ9E+JvHfhzwd9m/t3XbDSTcf6pLqdUaQZ6gfTv0rF8cfF7wx4Ci0KXUtStzFq86xWzxzLh4ypJmz02ghR/wKvM/h7rGjeHvihq994zurW3jvPDmlNYXOrlTG9uLeITKhbgtuDkqOTXI6an9i/DX4d398v2HQ4vG89xavdZRbe0aOTZu3cqp7Z4rnljJtK0dzojg4Rauz6iv9a0/StJbU769t7fTI08175m2xBDyGLHjbjHNZ+k/EDwxr2oz6Zpmv6ff6nb5M1rb3Cu6AHBOB6fyrlP2jZkuPgX4zlidJYpbFpEdckOpORj1+XFcJqGpeGdc8RfB218GvZy6hYyNJNFZpiW1tRbPvWbHKZPGGxyRXRWxMqc3BR6LqRSwkXG9+p7Np3j7wzrU00Nh4h0+6eCA3UvlzA+XCCVMjei54+tP8NePPDXjOaeLQ/EGnatPDjzIbOcSNHk8FgOx9a+aY/Dbj9j6a60a2WO5udTee/mjh3yTQC4/eAgcuB8hK+ldRDZW3ibxZpd3o/j7TNb8QWej3f9nW+g6YsAMbRECOWRBhAOysQc1jHGTf2LFvBwabueyL8UPB0l5cW//CT6WLmCQQywLdoWR2YIFx1J3ED6kUurfE3whoUskOo+JdMsZ0m+zPHPcKpSQAEqQehwyn8a+cNW1jwc/wABPhlpds1m/iO11XTQ9vHHi6tphMonMvGY88jLYySMZrvvC2iabfS/Hq6n0+2nmkv5YmklRWJQW0RCZ7YOSfXIqVjJ3ul/VivqULas9a8Q+OPDvhO1t7rW9dsNJtrj5oHuZQvmr6r6j3FF1408PW2mWOpPrtilhfHFrcidTFPwT8rd+AfyPpXzx4Q8TRRt8Obe41DRvCzWnhG2mXxDrFoLiS4BCjyYAwxxnkA5ODxXM+DjYa54P8JaNezR3hi+IkxktJIxDIkbQyMhaI8xhiudpx0pfX3KysP6jHV3Po/Vvi/4Rs/COr+JINestR0zTQVnazmVzvx8qD/bPYVoaD4msfGHhWDWdMuEuLO6tmcNGcgHacg+46V4n8X9PSLxr8Yba1soYzN4MjfyYYxtZlllwQBxkAD8q9e8EapY6r8OtLudOube7tv7OCebasGTcseGXPseK0p4h1KnLYxq0IUYqUXd/wDAPtTwXcr/AMIX4f5GfsUaD0Xk9PSuwNytxYtbqwViNgx6HqfyrzTwJMw0LQATuRbJDtPQ9a7ezmAkVhyynjivjakVzs+spfAjcaCaG3jhhRTCgyM+tJA1xCxab5hjuasW7GZBhyjAc1Dc5jik8z5Ow96w02ZsfI37TuuX/wDwn2jTabMba4tHiaCRAPlbeM5z14z1r3jTNA0jxpZR3RH2LV0C7prc4ffjrx6189/HWaO48awkHz1iKtIseM8MCBXt/gLw8sL2uo2V1JCkqK7h+e3SjqV0PUdB1K/01VtdWPnlflS7XncO273ro9yPgbl5HXPFZZaZlBjiSZCOgPWpbW5jUG3dPIb0YcfnXPKPYk81/aK8PW2s+G9Nnl8HaT4xkhnIW21aISKgYclc9/lFeI2XhmFHHlfBLwbH/v2cf+FfUfjSdf8AhH5VlHyqwZT79sVw9uW3DlgcdzXNJO5tG1jyq30G9XmH4R+CofdbCLI/Sunj8VfEeGOOGDw7o1vEoCom5toAHQANxXcK7kEHn8KXceMcHPUU9e4aHlHiL4pfETw15ct3o+jpFKSm5C2R6fxetcL8LvHmra5+1DDfXUFvHdXtmttNHHnCqCTkc16f8W4y1ja56Bj1rxj4Tgf8NM2CZKhY14XuMGvDzC/PRV/tI+qyRJwxH+Bn6BDrXyz4wx/w3Z4NH/UFuD/47X1KlfKvjJ/+M8vBY/6glx/6DX1eC+Kf+F/kfneZbQ/xI+q1AYAkAn6UyZFdQGTf7dakXoKGXeMZwK83U9iOx4F+0l+z1pPxZ06w1CZZIb3TZRcOsPBu4wP9TKe69/w+tcx4Xtre1ht7eKKO3jUBUiRQoVfTjpjp+FfUE0amNt3zZ6+9fPPjbQm8IeLJDFGRY3jGSI9cf3l9uc15OaOcopp6H0OX4jmXspHV6NbKskakAjK/qRmvl3WLO21NtXs7uKOW1uJZ4JElHyuhJyD7dPyr6V0O/EhgbeB8yA59cg8V8x3U3m32oJgrm6kBx8rH5jX0nCfvKtFdUfN8SScIwl2Z86+A/AUlx+zh8QrPRYprjWb+S+tAzuzTSxQu8UMO4nJXy0QBfTFaWr+KtF+In/CrNE8IEzaxpup21zPDDbGNtLgjjdZBIw4TJYLjjrXvPmBmyBjB4DDjj2p6su4EKobuVAGfrX3rwcrKzR8gsZdu58qX3jbTtH+A/j7wbdNOPFR1O+/4lixFpRG828TH/YwR81esfHSzjvvhb4agkiW6gm1XSUMTfMHTzouG/wBnHXNeriQZzhfTdgZx6Z9KRdnGUTgEdPfP5+9VDCSb99kvFJbHhHxdt28PfHHQdfvPEV54P0H+xHsoNYsLeKaK2nDITGdyMEBAHPBOOtdX8B9O02DSdf1HSdW1LWLfVtRMz3mpW6QLPIEVTJGiKo2Hb1x1ya9Pz8pXPynGRjPShgSNqkjIx1yBz2Haqo4ZwqqfQyqYrmp8vU+f9L8eeGPA3xq+Ldz4jlW3WdLdI7i4i3CVfLbdArH+JjyB3ArB8D+Gp7S6+AMGoafJHGt9ql4lvPET5UbOhjJU9OK978N+C4/DnjDxXrqXUkz69LDK9uygJD5alRtPfr3rpD94E4Y5zlhn8vSuaGFnOK5ujZ0SxSjZLsfLbND4T8ZfE208T+NtS8KSarftcQ2trYwTR6ratGNoTfGzM2Pl2A4yOma6Gyi0j4T+L/hXqeqTX0Hhey0K5soNQ1aD57K4do2USjAEbFVcDgZ6V9CNhsZAJHTI6ewrmfGXhPUfEc+m3ekeI7zw7qNg7MkkUazQSqwwVkiYhX7YJ6VTwsqXvbjhjI1Pd2PmTW5bHxJpPxGnsbEx2N1420p1tzBtLIY1y2zH3WOW9wwr1X4tXF5pPxoiudN09L+5t/BupeTY+TlJiM7YiO6/7PpwK9D8A+AYfA9tqjS6hNrWqatdfbL+/uECmaQKFGFBIUAKAMeldPtGFwANpyDjn3H41NHCzlDmf9bhUxkIy0PkW88TWd1b/C/UV8W3muxWGrwTajDb6dDDp2jllcbAUjDIcnG0n1NdRpFkknwN+NskVvve71HVnJ8r55l+bYQ3VwRjHpX0e33SrBWU87Soxn1xUMgVlZSBtI5GOPrj1o+pyavJhLHJ8vKfP3g3WYdH+L2nJqNybc6t4Ks4LNpM4nkQIzKD6gA1+lvw9uJYfBWiAbdxtVJ/M18lXmTFICQCUO0k5xx2r6t+H6SN4L0Rwmdtqo2j0z1rzcdT5KcfU9HA1Pa1W0d3ZpHJBiToxyRTvs9ud21fmPY1U0x23FOpU81p3O1VZz8jLzn1r53uj27anjP7RszHwZcQHO3cOG6CvMP2fdYuPCegB4baR1mupTLIBlXyxPP4V2H7RHiYy6ebKIj94RvbrxWH8Dri08PWNvb6hqMUMGoSeagY/LH6fn/WqvtYtrQ+i7COx8SWFvfhPLcL8sn3WQ+1b9p56qsUr+aOqyL1rMsbdY7VWjWG6gK/K8LBv/rVf/s9cBrV2hl9znNYTsQXZ4UvYZLaVeJEdSM9iMfyNfMzfA/wxHdzKYLglZHBBnfA+YnHX3r6QiMrNtmBV+iuK8y1e1ls9YuI7gbZWYug7sKwki0cXb/BXwpHhjYSMf8Aamc/1qb/AIUx4R4xpWcdMuxP867ONR3+7jjjmnqoByAMds1hyp7l3PPda+DnhIaZcY0pchCQSTXhN14btIUmRYfuo+OP9k19Wa0B/Zt0cLjY1fNGqTLGJTu6xOeD32mtqMf3sbdzGs/3U/RnsH/BPbH/AAou5/7DN0B/45X0+vSvl3/gnnn/AIUXcjv/AGzd/wDslfUSdK6MZ/Hl6nBln+6U/QdRRRXIeoeA/tskJ+zx4iP+zH/6MWuotG2/s+R/9gUf+ixXK/tu8fs8+Ij0+WLn/totd14P0g678HNJ05nMIutJSHzAMkEqOcV59F2x7b7L8z1q6byuNt+Z/kfEunlG023jkVWHkoCGGVYFQCCD1FXoYIYbdbYQRLbKuwQBBsC/3cdMe1dD4o+Dvir4f74rzTLi8sI/kjvLRTMjqOASq52HA5Jrk1vYg23zFDZxtY8j61+u06tOrFTi7n5PVjUpzcWi3pum2GkqVsbC2sg7b5BawpFvb1OByMY4NMh0XS4ZWaPS7CNmIZ5I7VFLuDncTjrnnNOSRj0yfpUoLehrqUaa15SOepclmgt7iSOWSCN5Ij+6d1BaP1KnGQah1DSdO1dYxqGn22oLGCEFzAj7foWBwPanbioBKkCnZPoavkg1dxFGTi7JlhWWMKqKqgDChVwiemFHSqyaZZJatbrZ26wSEtLD5QKSk9cj3wPypysfSnZNNqMugotxe5BeaNp+oxwxXenWd3DCu2JbiBJPKGeAuRwB6fhUt1p9pfW/2e4tbee14/cTQqyYHsRj9OKfuZjgZNKoZsnB2jqcVPs6X2iuaSd7nPfEfwa3jvwHrHhuGeOza/g8hJymViHGMKCOgFa2m6HY6XteCxs4blogktxDbKjynGDkgZINXY8nI2kEHHSpWBx90/lU+xpSlzWKjVlGPLfQhtbWCztxBb28cMABxCiKE56jbjGP55qKx0bTdJ842Vhaae8335LW3RC3ucCrIyTwDTtjZ6H6YrSVOL2Rn7SV9zyBvgnrmrSWdlrfiTT77RLa/jvnlt9KWDUL0xNvijmmDYIDBSSF5xXrZs7ZWuSltDELli8oWMDzCRg7v7x4Az7CpQpZuFOe3FNw390469Kwp4eNOXMjoqV5VIqNylc6Fpl0kCSabZSJbkeTG9sjLFjsgIO3Ptx7U1tHsWuGuf7PsxOXEjS+Qm9iOhJxyeTz1q+yOuMqR+FMdW25IKj3FbOlDeyMPaT2uUpLO3a6e5a3iM7p5bSNGCWTJO0nuBk8e9UZLO3sdNmgtLeK0txFIFhhQIinac8AAc1eub6C3/1s0ceegZhn8qsWOh3mvMEigkFrMCjzyLtUKeuCeprOShG8+pvSp1aqUaabPo3wNGn/AAjOiMU3n7ChC/nXVfbYo2jSRPLMi/I3bPpXna6/pmm6XYW+mzTobKNYcyAYbHX+ddzZ6ha+INHUq6CdBnbkdfUV8DUvGTbPvI0KlKEVONtDqrW+WK3JlQ7goI2c9a5jxt4uNnYTFEYhVyA3B6Vq6beCFIFnO3fHt+bjkEYrz74s6/p2k6bdF/nlI2gZ71jbS7HofOqay2uePLSVolbfclijDOcZ4PtXufgPxf4m0GS4QW9nqGns24xnhk/2V9a8g+FNpa3Hiye+ugI47eNmBPZmOAT9Aa+gvhrLpK3F3P5I8wgGKFgSznu3sOlY2bKei1PTvDt6mqWUVw1nNp0j/wDLFz+o9q3J4YmX99t6feNYWnXt3dOwVkiGc4K8Y/rW7sMq7d8UgPUEc1lLRmdivd6fDqNjJbyASxOOGPVTjivGwfEmmXF0l1oB8m3cqJo58mRQeGAx3HNeyyWTQSBo5GjH93qK5zxPEytcs2CSnXHHSla+4J2OetIZ5o9xtJITjlX61ZWwmKhvLA57mthH+QY7jsMUKdo6bvxp8iHc858f+B9U8S2cMNoIlkVs5kfA/lXiPw28F6lpf7WYsJ3iM9rZJdSbWyuwkjg45Oe1fWUjDzVPOfrXg/hjH/DbusD/AKgEff8A268fMaaUqL/vI+oyabjTxFv5GfV6jvXyh4zOP29fBY/6gtx/6DX1ev3RXyb40b/jPzwUv/UDuP8A0GvfwfxT9H+R8HmS92H+JfmfWY6UUUq15/U9VbCMpJ9q4/4jeGRr/h65RFxcR/vYWHUMO30NdiTwcdaayblII6jFTOmqkXFm0JuElJHzt4fu32xsR86kDYR909/xFeO+Ovh9q/hm/u7uGCbUNKmkM0dzAu5oiTyGHb9a918daQfCvi3zozts9QyyDsknVh/OrmmXDeWGBwfrjj8K87LMfUyqvJOOj0PVx2CjmlBcu6PlRb6JmO1go7545/Gp/M46jH1r6lvPCWh6+zHUNGsLlj/y0kgXf/30Bn86yn+Dfg2STedFVT0+SZ1H5A199T4mwstZRdz4qpw7iE3Zr7z5yWT1IA9SakVi2TX0QPgv4POSmk/MP+niT/GsXxN8DPDt3psyafBLZXQH7qX7TIeffnpXXHiLBydldGK4dxTelvvPFN+3gnb9ak5GDVCbQ4tBvZrHU47oXaNt8r7RJlz7c1v6Z4b0lk3TJKW7x/aXJX2617EcZRqK8Hodf+q+PaukvvKStu4zk0ceprqLXwfokmC0EuT/ANPEn+NWl8C6Iw5t5Mf9fEn+NavFQ3EuFsclsvvON4agr8ozyOmK7UeB9DXP+iyZ7f6S/wDjVDxHovhzRreO5SzmlMbSGQLcSEKPLZsnngZA/Op+u0+xH+q2PvsvvOa244HB9KY2fTnGa0PD02h61o9mlpp0lxqd3EXKi4kKQgk4LHPHFaWoeDNG0u3ggWKaa6eTBb7RJgc89+lQ8dB6D/1Yx3WK+85lmzVS4uI4fvyKpJx1ru08G6M3SxcgcfNcP+fWtGy8O6JYSJJDptp56HKySRh2U+vPeplj462Ra4XxXXQ4fSvBeveJlP2DTZjAQQbyVSsSr35PfHbFfTPhjToj4ft7K2maQ20Kx+YrYYEDkkfWvOJPF2qboof7Rm8sZHlh2IPHvWv4G1q+F/MYgrKPvD1+tfO47EyqRvLZHs0ckqYOHMekaTcyFHM+4XUZCsy9GHrU3iCO5jhk/esykcc81jLrSLLNI8bWjOvVRkZFYvi7x8INGJj+eVRgc8k15EZwnrFkyhKL1Pn34wTTN4iZC7OAn3c13XhvwU0djpVtd2y3JWKJWbOAuQDjP1wK8z1j7XqXiCO7mjNyxlVmjByduelez6Hq13caxBNPKsKwSKAJRiNT6Edz6VjzJTsU02tEeueDPBq+EX81rx7csn/Hqz7kH4V3VtdxSITG6ydt1cFpusWmratLHHe/bJlw80gGET2rtbN8IqrCuxhkErjNE1oZ8vTqTS3TW53SReZH03JyfrXIeOfB+ieKp7PULmORri2/drJHKyHHXBx9a7ON1ZWUJsfqO4NZ2tKn9n/c2tu7DqayQbHCaT4VtbOSfyprhkWTAjlfcBx9K2V0y23ZKkn60WfyyTHtvz+lWS3zZ6Vryom5Tm0e0mt5I5I/lZSDz61z2o/Dbw0NKum/sm33/Z5W3YPH7tveutkkG16paiw/si7GM/6LL/6LaqhFKSaMaz/dT9GeRf8ABPjC/A+9AAAXXL0AL0xuUCvqFe9fLv8AwT34+B+of9h29/8AQlr6iXvRjf8AeJ+py5Z/ukPQdRRRXEeofPv7cH/JuviT/dj/APRi16j8LDu+HHhnP/QPi/8AQRXlv7cv/Ju3ib6Rf+jFr1H4Uf8AJNPDX/YPi/8AQa8ynpjZ/wCFHs1P+RdD/E/yOn8pWJDdD/D1B/SsLWvAXh/Xift2j2V0cf8ALSIV0aH5c0E/NXpxlOn8MrHhSpxnpJHm11+z34GvWDHQII8doiVFQD9nHwIh3f2Kg288Oa9MmJ4GdvNRSHbkk/LnJOc11LFYi38R/eYPC0Fq0fNOt/Brw14d8TT2UunsLeT97F+9PP8As9Kv2vwf8ISqG/swn288/wCFeo/E/SI9W0J7uMbL6yHmxHPze6++RmuD8O6/DeW8EsTqwYcjOWHrkV4mJzLG0avL7R2Pew+XYOpSu6auRr8GfBzKP+JSQc/89j/hT1+DHg0A50k5z/z2P+FdXFNujHO7vjpj3q0GD4BOT2yP51n/AGxi27e1ZbyvDWuqaON/4Ut4NYcaUVb/AK7H/CsvWvgX4XutPkjtbWSznx8syTEkHselehiRRxkYzwS3FPZiR82GH93tXRDNsZzW9pcX9l4S6Xs0fH1x4Vbw/r8+m6pFceap2qPOxGVPRgcc5/Styy8L6U6jcsp/7bH/AAr274heArfxdp6EApeRbjBOo5HsR6V4TczXvh++ksb6MxSRnoeA/uDX2GBzSWJp6vVHtUMowVSydJG9D4N0RuTBIf8Atsf8KlXwboa5Igm/GY/4Vkw68HwFy+OfMPam3HiuOMffzz19T6AV6ixM+W7Z0f2Dg72VJGr/AMItoKo+6CTGOf3xz7Y49a84121e78daXo/hyG6ndXafUG87MFuuAFUnHXqce9bn2/UvFN4dP0v92zcyXO07IF6Fj6t6D1Nd94a0DT/COmrbWi5d+Zpnyzzv/eY9z7dquVepG99kZ/2LgVr7NfcZem/DvSdN0vdfGW7nU75JGmIx7DiqOk+D9JmU3ElqziQ/cklLYroPE188lxbadCh3OFllfHAHpUttCqRZA47Bf60vbVWrJ6krJ8EtfZIgtdH07TV32+nQQuvBIXn9autcFo8FvkBHAGMUk2Wj5+UZ571TcuYVCjcN2c1jKUvimzrhhcNTdoQSBVZraUg/xn+ler+GdCSXQ7YhNrsmS+cV5PZsPsK7jyWPFe9eHLdV0WyVh92Ifqor5zNbxpxUdLnPi9I6mNf6bewgKkjLt5U9a8W+Jf8AaEeor9uhZ4m+7KOVY19KXCqyY71w3jTw9Fqmm3MMgDoR19BjqPSvEjiZRXvHgyw8Ki0PA/Af9h3Uty4u2TUNxSaPbwEB579a9W0PXbyx02V9CeF45DtMkijgDqw+lfKvhD4MeJPiN8bLnxEL+60PwZpsogZoWIOrSJxlR0Cccnr719f2ugWltZxWduqw7Ewiqe3uKPrMtzqqYWm4RS3Oy8I+LtMkii0+bUEluWALO6FfMb0z2r0VYQIwFGExwAea+Y5y1jeGOSPKhsbgOR7j6V7b8L/EEmraRNbXDl7qzYRiZurIfu1pRxHtXZo8zEYZ0o8yOwjbzRtY8rXL6+4mmuMtlVUj9K6disUzMSdrj+H1FctqOWaZgDlm5O3qK9CJ51hFOR+FOU4WmR/MpAXGOyjkntz2pqMzZxnrtP8AdzVCHTczIa8H8LnP7cGtf9gCP/0Ovc5WIIA42gnp/nmvCfC5x+2/rY6f8SGMgdcfP1/H+leNmOsqP+JH02T6wxH+Bn1oP6V8m+M/+T//AAR/2Bbj/wBANfWK9a+TfGX/ACf/AOCP+wJcf+gGvcwnxT9H+R8RmHw0/wDEvzPrNfuinLSCnDpXBY9VbC0UUUxnF/Ejwz/wk3h2eJAPtKDzIG77l5x+OMfjXlfhzU2uI9rjy5IjsdT2I619ATw+ZHjOK+ePiZpuqeCfGE+qLAr6HfMoMyjiCXvvA6A8c14mNw+vOj2svq3Xs5Ox2VuwznNXFA25965jQ9RjurQMkvmL0z3963oLobFOOK8uG256so6lhT85O3GKWQhlORTUfzMMvQdRTkIZTlc1tG61uZNI81+LHw1j8VWcd9ZqIdWt1PlOOjJ3Q+/vXjemag9qzW1xGYJYztZW6givqtl3Jz9K8z+Jnwrj15TfabiHUUG70WT6+9fUZZmPs/3VZnp4esl7rOCs9YG0MCG7VoDVjjPAArzdry502WS3us2skZ+ZZRjkVWfxY8zFICcdGI719lGUXrc9DljLU9KuvESwhTuwc9a4zXJtU+JklzoGkSPb2BXZfakMYSI9Yk9WP9KzNMsdS8W3b24nEFpHxdXI+7Hn+FT3NelaNJYaFpKQ2UQtrOMEIv8Az0bu7e9U1qU4qxc8J+FNO8F6LBp+nJ5dvDHsLSHLHA6k1QguP7W1Rrtfu7SAO3HGaXWNRkk0lLeNv3963bsg4JqbT7WOzt0VGIRBgcdqzcTO3mXEXao5O7uexqGOXbMc9KVZefvZFRqAzYPGQaZiJBIs96g+v8q7z4WWu+4vnAChcDjnNcBDB5N95nYRn+Yr0/4RQn7HdzY4aTH6V5uYW+ru5zYjSmztpNNhuY8lQpz3rivGvgu21ixkgceWx5SSM8g16AzsFrNvgvlszYBHXPTHfNfGRk6eqPBspaWPib4qeO7r4It/bNyxa1tX8mfaBu2NxkZ//XXq/wAJvFl78TtBstdhspbfRbi38yJbtdjylv4tvUDHQnn2qHxd8I9K+Ovjm1l1aL7R4b0aTzEgJ2x3twDkFv7yLxj15r0pbhNJmjsbG1WbywE/cqFjjX1OPywKt1ZT946lCKp+za1KNtqlx4dby9PMdtuOS0gOT9a9a8B+OR4haSzuo1TUlXcMH5JQO4rznXNJ/tS3WRdu8H5j3b6Cs3wfcz6ZrVlgndFOEZv4SM8gnstKnXn7TlkcVbCwcLx3Poab90ySJnBPQ1n+InL+Qg45zWjcyKkJz90Hdn3rzfxX8WdF0v4leHvBFy9y2ua3bST2ixwExBUIB3P0U817UVc8JqxsW/Bk/wB+pw2G5rB8XeLdO8C+F9b8RaoZk03TYmuJzDHvlCKOy9zU/h/xHaeKdE03WLBmax1CITwySIUJQ9mXsa22INWRgUcVUvm26Vc/9e83/otq5vwx8SNO8WeKPFGg2llf2tx4elSG5mu7cpDKXRWHkv8AxDDDmqvxI8eyeDk0OyTQtT1g65JLZGWwjylp+5c+ZKcHC8dfeqhrNGNV/u5+jOR/4J7HPwP1A/8AUevv/Qlr6hHQV8v/APBPZSvwR1BScka9fDOMfxLX1AOgqMZ/vE/U58s/3WHoPooorjPTPnr9uZj/AMM5+Jz32xf+jFr1P4Tc/DTwzn/oHw/+g15X+3T8v7OPig9flj/9GLXqfwjb/i2vhn/sHQn/AMdrzIf77P8Awo9mp/yLof4n+R1y/dpJDt5xSheOtIVJPPT0r0nZ7nieZ558WvAmseONMtxpXivU/C5ti0pk01sGbp8rc9Bj9TXgP7Onh7xh8RrS81rUfiH4g8vT9UntGtUnLRyhHK8nORwPwr601GCR7SRIztZ1KA+mRXjf7M3w+1/4deFtcsdftoraa61a5vIlhk3K0byMVJOOCQRXk1qPNiKbT92zue3Qrqng6ifLzaWuvvPKrz4zeLPhppnib4d6rJc6z4wkuPL0C7nBc3UMxI8wn/pmAc59a5L4neENd+G114C0ZPFN9YyaiDHqFyk2zEnV33EjAycD6V7v8RfhlrHiT4/eBPEdpaxS6Zpkc63c27aV3Ku3Axz0/Wqvx6+Eeo/E34h+AJBYQX3h+xuJH1BZnIwjADHHXgV5WJw2JqU5xd7xat6H0eBxuDoV6UtFzRcpbPW3Q8S8NeONc8O/EJNDtfFsvinTL3T55Wedw72jKhIJYZwc4rmfBvjUa3oz3WvfFzWNE1ETSK1sjOfLUNgYI65r6Z8Vfs+xeHx53gnT9N06KSCSO7gdSrTZHy7W5xzXgngfRPHPw/0r+wp/AWmahKtxI/nXVwFZgxyACUORxXi1qOJw1Re1ba+Z9HhsTgsdQlOjbm03snbW++h9I+GDND4N042mpSay32TdBf3R5m3DKM3fuK8E8Wal498Ba5oVxd+MW1LxBqeoIh0K3AaA2+fmIXtgd8V7V4f1XV38GpNPpcNhq6wOV0+KXdGrDO1d2B6DtXh3gnQ/iR4f8SXev6j4Ts9b1+9mzJf3N8QYoyeFjXYdoAz35rortyUFSbVzzMFQXNUnLlsr6OybPfviNqk+l+B9Zu7eQw3KWrsrx9VOM18m6PcaN4t8L6ddeI/ibfQ6u0YZ7aVWfynPRM4Oea+rfHFjc654J1Oxt41e9u7NhHHuwC5UZGfrXiPgnTvG3hDwnp+lf8K+0fUHtIvLNzLd4eTHt5Zx+ZrSpVqYbER5W7eVzoy7lWEnLTn5l2217nkHi+G/0HxlNpFzq0tlBHCrpK0oxID0br39Ki0dr+a81OC1uf7QtYbbzReSD/Vnbk4PrXur/CDUfFPxMvdU1/SrePTLvS0iIWTf5cwJO1eB0B615/rnwt8Q+ALjVtOto5Ljw/dbnhuFIJDEfdcenvXdg8Xiqk7XktX1ex9lSxWBqRVN25rL087M5DQtR+zeGBcx+L5tPvmVpms/+mg+6PfNdGvj7XvEkWgaVBcrpuoXEZkmuCMMig4JX0J4rnNY0qy0X4f2lve28KawHBQx/NJuyMD3Fa1v4X1P7Po15biOLXbQGWUXD5SRTjC5xx9K7abzCMbvmWivvr3PRnDBVpLVOzdvu0Ne5uNa8A6npOo3Gqzavp9/OtvMl4oMi5OBj2qlqWrz6j458Q2tz4uutCtYHURqswCnuQOa15dF1/xlqWmHW4bbS9JsJRcLBBIZDMw5AJwKsab4E83xj4ivNVsbefT7nb9neT5mPUE47VvU+tVJqFBycG+ra6Hmx+rQjz1VFTt28x3ws17UtUv9Zs7i+bVtNtWUW2oSKP3meoz3xXeR/NHx1ViOOlcZ8N9E1HwquraZLFG2lxSNNY3Ct82GPKlcc4PHWu0ikWNOmBy2D6mvr8nU3hI+1d2m7+X3nzGa+zjiW4JcrXQbHENsEY4y/wDUV9DabEI7G3UDlUUfkBXz7YH7Rq1nCoGS4xz719FJ8kQHbAH6VyZo/gPkca7RSuRXPAGeteaePdUl1PVB4Ysm2SzxCa5dfvpCSRtXH8RweR2xXpEz8HPSvBP2ibBYZ9B1G3ubrSp5rtbC61K1OGjtzyVPpnPX2r5mW9jkoJSkkzrtBuYDpo0fS7VfLhTYZMfu4vQHsTSwRx6M8kyJLNeTMN4c5ZyO4z0A/rWFpXiq103XJfCuhsk1zbwLNLg/LEh+6/PUnjvVx/EGl2+oHR4ruO51Z1E8qs2ZAD/GR6ewrbl7HROMlKxr6lD/AGnE+YkinC5IU5rU+EOp3EXizW7BrK4EFnbQ7r5h+7lkcghFPfABz6YrGMEkWtabpyM8l7f7pPPeMiPaozkDt9DXf6Dpd54Z02RZCt0iPwyjbuBPOB6/jXThaD5rtHFX1hynValqCrGxjcAlSq47E9/evM/APg7UvBGl6rbap4ovvEz32ozX0Ul8MG3idywgT/ZXO0ewrr0jiuszW7MJm6xyDOPpVm20C5ukbz5UijI/hGWxXs6R3Pn5Qktzi/EHhTVNY8deG9cg8SX+m6dpiSi70WFB5WoM2AC57bf61d8XaFJ4u8K6to8WqXOlTX0DQLfWZIntyeQ6Htiumm0hdjiByzjrn+LFQWeiTzCR5ZfKDHO3HH0+lU0T7OXYyPD2mSeHfD+m6Y99c6m9lbLE13dtmWcquDI57k/1rxH4f6XFpP7bniYRTSzC40oXLGVyxBZlGBnovy8DoOa9+m0q8kk2oybFOd2MV4X4Thl/4be1nzHVnGhR52jHAevDzD4qX+JH0eTpxhiL/wAjPrhegr5M8af8pAPBA/6glx/6BX1kudnTmvkvxocf8FAfBP8A2A7j/wBBr2cH8U15P8j4nMfhh/iX5n1t60+owwJFKXxXEeoth9FM30eZ9KBhwRVHUdNttSgkhuIEmikXZIjLkMvoR3q4SMdaQ4LcmpklJcr2FzONpJ6njHi3wPb+A7O91qyn8nTrdWlmtpchI16kqewHp0qnouv2WrWkU9pKLiCRdySRkMrD1yOPyr2m/wBOt9StpLe6RZ4ZFKPG4yrKeCCO/Fefa/8AB3T9v2nQwulXS/dWLiJvQFe34V5FfBr4oHuYfHL4Zsow3gMeVK4z94dPpU8blxz0+tcqt/daLffYtWg+x3PQf885PcGtW31JJM7Tkfy+teZflfKz1LK10zY8zbz2NIWXG0gEfSqUcu6TBPFSqxZjk4xVX5XcnTozgvid8JrHx9YkMzQXo5jmTufRq+etU8K3vh/Uv7JnhazVeJr5wApUdkPcmvsZsMMNyP1rnvFvg/TvFmnva38AkVhgFRhge2DXv4HM5UnyVXdM7KOI5dJM+dtMukmhhsbJfI0+I454z6s3uajutaOra9DpMTgQQjzLl1PC47fjVj4keG734U6PcXYikubEZCyIuTnsG9PrXKeAbKa30Wa6ujm+1F/NdmGMJ6V9rCtCrFSi7nrRkpK56dYyfbJ3uSm1QNiD+6B0NbCsEgAPQ1zunagqw9dvGCfWtNbkSRqxbd+lbsyle+hbdgJAoO4f3aVkxIq9B39qyjqSSaksa8MpHetCRtshYdWODQk7E2JWGA53fwf1FesfCaJl8OyMB1lJ/QV47cT/ALlz2wF/WvcPh1btbeE7YlcGT5+ffj+lePmb5aVmefjHywsdNIwIbHSuE+LC6k3grUF0mFp7shWaNW2s8YPzKp9cZ/AGu2mfbu9KxNct1v7Oe337VmRkJBwRlSMj6Zr42rokePTaUk2eP+DfE1p42hhOi/abHR4sQPOybZWdRh0jB6AHKkj0rt7iSH7atpp4aUx8Oqt8kZx94nucV5rdeCvGfhf4f/2Jpc1pcT213lHjXEk1sWJZBzwxyefWt3Wh4pg8LyDwhpGbsBClvct+8ZNwEi5/vbc8nv2q6dpRstz0aijfmudDABasI4zJPcn5pCxPyDP3j/dH0pj6Fa+LNX060N69lFFdpdyi3JH2hY23eWx7K2PxzXRW/gPUF8N/Z5JWs9Tu4tqeSN5hJAJ3txuP5V2uheDotH02zt5PLnkt41DzlMM7Ack89CecV30sPeSlI4Z1YWauXL7UHt1AEbSo3Of4R9ay2uIzJ5j7ATkdecHqBVC51j+w9Qa2XzG8xuIMblx9a6Gwgs5ZBIYQZOvzcY9sV61kjxqtHW6MlMOjgxNImcHcuQVxjH0qFrlY5Ilztx8oX0HpXUzyie5WOJQEH3sDFM/siAXnmsis3bI6UtzF0jn3uRGpLEKDznGOnSqWo38f9k3S+YpU2s3B6f6tq6u60+K6bc6KFHbGKy9V0+CTSr3ZAqhbaYZx/wBM2pxtGSbOWtSapyt2Z4x/wTybPwPvsHI/t69/9CWvqJB8tfL3/BPMAfA+/HTGv3o4/wB5a+o1GMCoxjTxE15nFlq/2WHoOooorjPTPnf9uwf8Y3eKP9yPj/totepfCYbfhv4ZBJB/s6Dj/gFeb/tr6Ve63+z54ltbC1lvJ3WLEUMZkY/vFzhQMnivNvBf7aVn4d8K6RpU3w78YSyWVrFA8i6fhGZVwSozmvGlUhSxknOVvdR9FDD1cRl0FSV7Sf5H1+HZsNt47CnHOeRXy8P269P3cfDbxn/4Aj/4qnj9urT8f8k38Z/+AH/166fr1D+c4VleM6Qf4H06Qew+uaYVAXAAwOOvb0r5l/4bo09v+aceMx/24f8A16Uftxadwf8AhXPjL/wA/wDsqpY3DdZoHleL6wf4H0wkeW3nuMYz0oMYYAYx/Wvmf/huPT1GP+Fd+Mv/AAA/+yoT9uSw7/Dnxj/4Aj/4ql9cw8tebcf9lYxvmUNvTY+mWTPUBvbisfxD4XsfEVr5F9AswHKyEkOrdiCK8E/4bj08gf8AFu/GP/gCP8aav7b9h1/4V34xP/bkP8ah4rDTVrplRwGNi7xps6zXfCeueGTK6f8AEz0/k+Yq/vIx7461Hp+rR3K5U43YznIZf8K5U/tt6dICP+FdeMD7fYhz/wCPVxXiD9orw9rUzXdr8PfGGm3pP+sissZP+0Aa8fEfVvihJWPZo0cXUahVja3XQ9yWeM7QW+U4G7HbvVk7Q/zENggg56+tfOun/tJTwsfM8D+JvQ7bJskVpr+1BGvXwH4q/wDAH/69cft6PR3R6E8DXl05vSx70smflPIJyMdveq1/ZRXcLxuiyROMFSOorxdf2prfr/wgnivP/XmR/Wpf+GpoG6+AvFR+tof8a0jiYRkmmZvBYqMdLr7jC+KPwIM2uJ4i0+WWa3txuOmgZ59V/wAK5ey1BbndKow0bYZZB936+9egv+01ayIR/wAIF4pH0tT/AI1xHif4kaXrsxubPwP4ks7s/e22RCN9fevq8DnlHSFd+SZ6VOFfbXfyL1tq6NIiqxKK2fXj2q/dakq2UkoY5VCOfSvLJvEeoNI23wtre09N1k/9BU914p1OSwMUPhnXUkKYXdZPivdlmmCileotP67HZ9Vrt3X5nonhXUvttnLLkkcLxzWxJJ8u1Rh3PG6vJ/C3i688P6Z5EvhXXpZGbLMtk9aqfE66Xr4R8QEc9LJq0eaYFpxc0v69DOWErc15K7+R694DsxqfjC2BGUhHmHA9P/117srlAc892r5P8A/HaHwlfXV3deBvE1xLMoVfLsicDv1rsZP2tLdgQPh94s6/8+X/ANevl8xzChVmlCaseJisHiZzty/ke6T3B2kZ4rH1SyttUt2t7mCO5gJ+aOVdysf7xFeLTftYwSDaPh94r/8AAH/69VI/2oLaSf8A0vwF4uNvHyI47Hk/jmvDeJpKVnNfiYvLsQnflf4Ho1z4F0i+8RW9xbWjDVGQRD7KdjOuf4iOij39K7nTfg94e0zXoPEU9lbya5bwNAlyMjYrEHGM4PTqfw714zpP7W2jaRNJPD8NPGDTvwZPsIBUdlGW7jrVq8/bOsru4h3/AA68YLBGdzL9iySfTrXsUMRh6a9+aOWphsbN25Xb5H0TZ6esUkl1ICXcYGcHaPYn+VVtevUh0p22lmPKjvnsR6V8/wA/7aVjMY1Hw68YrGG3MFsevp3qGb9snTJZmdvhv4yYdh9hH/xVdyx2G6TRzrL8Te7i/wAD2Pwfby3NzNPJczCXrgniukudbg08CCSTdK391c186Wf7YenWN5JKnw48YhWHT7CP8aml/bK0mSQSH4ZeMGb1NgP8aqWYYe/xocsBiG/gf4H0bp2o2RUqkuXbru4q35gPy8BfWvmZP2x9LVty/DTxgD7WA/xp5/bN03ofhz4yAPX/AEIf/FU/r2F6zRm8txN/g/E+krhC6bRhVI4xXzn4Y/0f9uPXFGMf8I5Gc/8AbSoG/bMstuF+HvjMAdP9C/8Asqx/gV4hu/id+1Pq3i1NC1bR9Ml0YWgOp2pjyyuDjJ7815mMxVCtKnGm7vmR6OFwtahSryqK0eVn2SSNhIODXyX4yGf2/vBZ6gaHcD/xyvrLnGAMCvnv40/sty/Ff4h6d4u0/wAXan4W1W0tmtVm01dr7SR/HkEcV9DhJRjJqo7XTPzXMVOVOMqcXKzR9DA7cDHal3V8mN+xn4x6j43eMSD3Mxz/AOhU5f2MfGJGf+F3+MR9Jv8A7KmsPSS1qL7ivr1a9lQZ9YZpefb86+Tv+GMfGPb44eM/+/xH/s1J/wAMZeM/+i4eM/8AwIP/AMVT+rUf+fi+4Pr1b/nwz6yyfSj8vzr5M/4Yw8Zf9Fv8Y/8Af0//ABVKv7GPjP8A6Lj4y/7+/wD2VH1el/z8X3B9erf8+GfWW4H0NIxI5GD7Gvk7/hjLxj/0XHxkf+25H/s1IP2MfGP/AEXDxkfrOT/7NS+r0v8An4vuH9cqf8+WfTmu+H7DxBamC/tY7iPtuH3foeoNeX658PtT8NbptJ8zUbEHLQOcyqPY9xXmn/DGXjHn/i9vjA/9tT/8VSt+xr4x3bh8bvGCnGPlmP8A8VXPVwFCpG3tFf0Omjm2Iov+C7HcWWvfOYZYpIZ16xyoVcfga24ZHYEqjMPXFeQz/sPeIbyYyT/GDxRJIf8AloT8357qeP2H/EK9PjB4oA/3v/sq8z+yYL/l6j1XnfNr7BnsqJJIAfKYfhTxC8mRsbPsOa8cj/Yr8SR8D4w+Kcf9dMf+zUo/Yt8Scg/F/wAUY/66E/8As1Wsrh1qIz/tx/8APhnrGo6OmoQyQTWvnxSDBSaPch+o9a8S8a/CC80a8fUNGV5bDBL2DD5kPqp7j2rZH7F3ib/osHin/vof/FU1/wBi7xCcFvi34oz0zu/+yr0MHRlhZ3VVNGtPiCdN3dCVjyu7kuLFtsitGPR1xV+z1WaSNQw+QfxCu1uf2Cru8YtP8R9cmbOdzICf/QqiX9gG4XOPiNrY+iD/AOKr6f2+FerqHb/rKv8AoHkec2GrG68Z+QpJCjJxXdG4fBUIx5JyRVuP/gn9LHMZk+IWspL08xUGf/Qqmb9gq/ZCv/Czdez67R/8VS9thf8An4L/AFlX/QPL+vmZ8VrPd3FtbRIWaZ1Ax7mvpKy099PsLeBUYqkYUcew/wDr18+xfsGalFIkkXxP1+J4+jKoz/6FV9/2MvFbZz8ZPFmP+up/+Kry8bChiUlGocWJz11krUJHttx5gyNrY7cVnXMxUk8jaMYxnOfavIT+xV4ncc/GPxWw95T/APFVGf2JfETYJ+L/AIpJHIzKeP8Ax6vEll9OX/LxHL/a7Vv3DPWTo+qXsEEdnZ+W8hwrT8BfViOtdxpPh+Hw/YyMN0kxGZ7h/vuQOTnt7Yr52H7Gni3zFf8A4XT4tBUYyJT/APFUSfsZ+LpVKt8a/F7K3VTMf/iq7KOCoU96i+456ma1Z7UWfSlmskqfaZIlQtllAB4X39TUU08ohaVI3w3CDHX3PpXzef2NfF7qVPxr8XbCNpUSn/4qkP7GXi3YAPjV4vAHT98f/iq7Y0qK/wCXi+4yWYz60WezXOg3kWrpessjGQ45GcV0t/ZXrW5FovlysuN7LyPevnJ/2LfFsmN3xq8XnByP3x/+Ko/4Yy8XnP8Axezxf/3+P/xVU6dLpUX3M0lmk9P3DPoK1g1m1VQ0gYjq/l4zWnG1xJjzUYv/AHgK+az+xh4wP/NbPF/4TH/4qgfsX+MB/wA1t8YfjMf/AIqs/ZUv+fi+4h5jUb/gM+lB5jKVeCTb6gVV1ebbouogxOD9mmP3f9hq+df+GL/GB/5rZ4v/AO/x/wDiqib9irxZIrxyfGjxY0TZyhlJGD1GN2CK1VOje7rJfJmdXMasqbiqD1NX/gnm4/4UdqPPP/CQ3w/8eWvqYc15T+z58F4PgT4DHhq21C41VGupLt7mdAp3PjPAJ9K9ThBCkkYOelediZKpWlOLumVgounRjGStoTUUUVznoEEkIlRldQyH+E1TbSLPI/0eP8h/hWiAPrTDkVlKCe6XzKUpL4XYojR7Qf8ALvH+n+FL/Y9r/wA+6fp/hV+ip9nHsh+0n/Myh/Y1r/zwT8h/hR/Y9r/zwT8h/hV+in7KPZBzz/mZQ/se1/54J+Q/wo/se0/54J+Q/wAKv0UvZR7IOef8zM/+xrT/AJ4J+n+FH9jWna3Q/l/hWhRR7NfyoPaT/mZn/wBkWw/5YJ+n+FL/AGRaf88E/T/Cr9FHsodYoPaT/mZQ/se0/wCeK/kP8KT+xbT/AJ9k/If4VoUUeyp/yoPaT/mZQ/si0H/LvH+Q/wAKBpFr2hX8h/hV7Aoaq9nDsg55/wAzKH9kWn/PFfyH+FH9kWn/ADxX8h/hV/J9KOc9Kn2cOyF7Sf8AMzP/ALGtP+eCfn/9al/se1/594/8/hWjkelJx6UckOyK9pU/mZn/ANkWv/PBPyH+FL/ZFr/zwT9P8Kv0U+SPZC9pP+ZlD+yLT/nhH+Q/wo/sqz/54R/kKvYFGBR7OHZB7Sf8zKH9kWn/AD7x/wDfNH9kWn/PBP0/wrQ49KTFHs4dkHtJ/wAzKH9kWX/PFPyH+FH9kWX/ADxT8h/hV/H0pOKPZQ7IftJ92Uv7Is/+eKfkKP7Isv8AnjH+Qq7getGB60eyh2Qe0n3ZS/sm2/54J+n+FH9kWv8AzwT8h/hV+ilyR7IXtJ/zMo/2TadoE/T/AApDpNoetuh/z9Kv0U/Zx/kQe0n/ADMzm0m2A4hRfcKD/SpYLSG3+6iL7hcVbOMUinPalyU09Yic6kl8WguKVVpWpR0rdK2xN+gbaNtLRQAm2jbS0UAJto20tFACbaNtLRQAm2jbS0UAN20lPooAZRT6KAGUU+igBu2jbTqKVgG7aNtOoosA3bSU+imA3ijb6U6igBAMUm2nUUgG7aNtOopgJz7UbaWigBNtG2looATbQwyppaKAI9pVRinjpS0UAFFFFAH/2Q==)"
      ]
    },
    {
      "cell_type": "markdown",
      "metadata": {
        "id": "nN2dfyJaV3TL"
      },
      "source": [
        "Besides the classification matrix you also need to see other important evaluation metrics."
      ]
    },
    {
      "cell_type": "code",
      "execution_count": 61,
      "metadata": {
        "colab": {
          "base_uri": "https://localhost:8080/"
        },
        "id": "3orYt7TvdMez",
        "outputId": "a97745b6-1859-4b3b-bf11-a94216f09dd5"
      },
      "outputs": [
        {
          "data": {
            "text/plain": [
              "{'False': {'f1-score': 0.9467455621301776,\n",
              "  'precision': 0.9302325581395349,\n",
              "  'recall': 0.963855421686747,\n",
              "  'support': 83},\n",
              " 'True': {'f1-score': 0.9855537720706261,\n",
              "  'precision': 0.9903225806451613,\n",
              "  'recall': 0.9808306709265175,\n",
              "  'support': 313},\n",
              " 'accuracy': 0.9772727272727273,\n",
              " 'macro avg': {'f1-score': 0.9661496671004018,\n",
              "  'precision': 0.9602775693923481,\n",
              "  'recall': 0.9723430463066323,\n",
              "  'support': 396},\n",
              " 'weighted avg': {'f1-score': 0.9774197280679563,\n",
              "  'precision': 0.9777279547159518,\n",
              "  'recall': 0.9772727272727273,\n",
              "  'support': 396}}"
            ]
          },
          "execution_count": 61,
          "metadata": {},
          "output_type": "execute_result"
        }
      ],
      "source": [
        "# generate classification report and show it as a dictionary\n",
        "classification_report(y_test,y_pred, output_dict=True)"
      ]
    },
    {
      "cell_type": "markdown",
      "metadata": {
        "id": "M-65Aczexuec"
      },
      "source": [
        "**Accuracy** answers the following question: How many credit card approvals did we correctly predict out of all the credit card applications?\n",
        "\n",
        "**Precision** answers the following: How many of those applications we predicted as approved are actually approved?\n",
        "\n",
        "**Recall (Sensitivity)** answers the following question: Of all the applications that are approved, how many of those we correctly predict?\n",
        "\n",
        "**Recall (Specificity)** answers the following question: Of all the applications that are rejected, how many of those did we correctly predict?\n",
        "\n",
        "**F1-score** considers both precision and recall. It is the harmonic mean(average) of the precision and recall. F1 Score is best if there is some sort of balance between precision and recall. Oppositely F1 Score isn’t so high if one measure is improved at the expense of the other.\n",
        "\n",
        "\n"
      ]
    },
    {
      "cell_type": "markdown",
      "metadata": {
        "id": "jWu7VYMaAF14"
      },
      "source": [
        "### Model export\n"
      ]
    },
    {
      "cell_type": "markdown",
      "metadata": {
        "id": "4TcFB82-_3YL"
      },
      "source": [
        "Export your model to a file"
      ]
    },
    {
      "cell_type": "code",
      "execution_count": 62,
      "metadata": {
        "colab": {
          "base_uri": "https://localhost:8080/"
        },
        "id": "QRHkDwYadPge",
        "outputId": "bb1676ee-1f42-40ab-f351-80c162db3d37"
      },
      "outputs": [
        {
          "data": {
            "text/plain": [
              "['model_rf.joblib']"
            ]
          },
          "execution_count": 62,
          "metadata": {},
          "output_type": "execute_result"
        }
      ],
      "source": [
        "# export model to the file \n",
        "joblib.dump(model, \"model_rf.joblib\")"
      ]
    },
    {
      "cell_type": "markdown",
      "metadata": {
        "id": "oS40Htap_-EI"
      },
      "source": [
        "Load your model from the file"
      ]
    },
    {
      "cell_type": "code",
      "execution_count": 64,
      "metadata": {
        "colab": {
          "base_uri": "https://localhost:8080/"
        },
        "id": "LDjPUjpldQwr",
        "outputId": "5f3094e7-02e6-4467-b3b5-6f0958c9086b"
      },
      "outputs": [
        {
          "data": {
            "text/plain": [
              "array([ True,  True, False,  True,  True,  True, False,  True,  True,\n",
              "       False,  True,  True,  True, False,  True,  True, False,  True,\n",
              "       False, False, False,  True,  True,  True,  True,  True,  True,\n",
              "       False,  True,  True,  True, False,  True,  True,  True,  True,\n",
              "        True,  True,  True,  True,  True, False,  True,  True,  True,\n",
              "        True, False,  True, False,  True, False,  True,  True, False,\n",
              "        True,  True, False, False,  True,  True,  True,  True, False,\n",
              "        True,  True,  True,  True,  True, False,  True,  True,  True,\n",
              "        True,  True,  True,  True,  True,  True,  True,  True,  True,\n",
              "        True, False,  True,  True,  True, False,  True,  True,  True,\n",
              "        True,  True,  True,  True,  True, False, False,  True,  True,\n",
              "       False, False,  True,  True,  True,  True, False,  True,  True,\n",
              "        True,  True,  True,  True,  True,  True,  True,  True,  True,\n",
              "        True,  True,  True,  True,  True,  True,  True,  True,  True,\n",
              "        True,  True,  True,  True, False,  True, False,  True,  True,\n",
              "        True,  True, False,  True,  True, False,  True,  True,  True,\n",
              "        True,  True, False,  True, False,  True,  True,  True,  True,\n",
              "        True,  True,  True,  True,  True, False,  True,  True,  True,\n",
              "        True, False,  True,  True,  True,  True, False,  True,  True,\n",
              "       False,  True,  True,  True,  True, False,  True, False,  True,\n",
              "        True,  True,  True,  True,  True,  True,  True, False,  True,\n",
              "       False,  True,  True,  True,  True,  True,  True,  True,  True,\n",
              "        True,  True, False,  True,  True,  True,  True,  True,  True,\n",
              "        True,  True,  True,  True,  True,  True,  True,  True,  True,\n",
              "        True, False, False,  True,  True,  True,  True,  True,  True,\n",
              "        True,  True,  True, False,  True, False,  True,  True,  True,\n",
              "       False,  True,  True,  True,  True, False,  True,  True, False,\n",
              "        True,  True,  True,  True,  True,  True,  True,  True,  True,\n",
              "       False,  True,  True,  True,  True,  True,  True, False, False,\n",
              "        True,  True,  True,  True,  True,  True, False,  True,  True,\n",
              "        True,  True,  True, False, False,  True,  True, False, False,\n",
              "        True,  True,  True, False,  True,  True,  True, False,  True,\n",
              "        True,  True,  True, False,  True, False,  True,  True,  True,\n",
              "       False,  True, False,  True, False,  True, False,  True,  True,\n",
              "       False,  True,  True,  True,  True,  True,  True,  True,  True,\n",
              "        True,  True, False,  True,  True, False,  True,  True,  True,\n",
              "        True, False, False,  True,  True,  True,  True, False,  True,\n",
              "        True,  True,  True,  True,  True,  True, False,  True, False,\n",
              "        True,  True,  True, False,  True,  True, False,  True,  True,\n",
              "        True,  True, False,  True,  True,  True,  True,  True,  True,\n",
              "        True,  True,  True, False, False,  True,  True,  True,  True,\n",
              "       False,  True,  True,  True, False, False,  True, False,  True,\n",
              "       False,  True,  True,  True,  True,  True, False,  True,  True,\n",
              "       False,  True,  True, False,  True,  True, False,  True,  True])"
            ]
          },
          "execution_count": 64,
          "metadata": {},
          "output_type": "execute_result"
        }
      ],
      "source": [
        "# load model from the file and store it to loaded_model variable\n",
        "loaded_model = joblib.load(\"model_rf.joblib\")\n",
        "\n",
        "# generate predictions for test set and store them in loaded_y_pred variable\n",
        "loaded_y_pred = loaded_model.predict(X_test)\n",
        "\n",
        "# show loaded_y_pred\n",
        "loaded_y_pred"
      ]
    },
    {
      "cell_type": "markdown",
      "metadata": {
        "id": "OPQ_9aI6bUP4"
      },
      "source": [
        "# AI in Finance: Real-Life Consequences (25 min)"
      ]
    },
    {
      "cell_type": "markdown",
      "metadata": {
        "id": "ZyXPy5mNCQAe"
      },
      "source": [
        "## SAFEST \n",
        "\n",
        "General principles for the use of AI by financial institutions (‘SAFEST’)"
      ]
    },
    {
      "cell_type": "markdown",
      "metadata": {
        "id": "vkQbtQ_TCioN"
      },
      "source": [
        "### Soundness\n",
        "\n",
        "AI applications in the financial sector should first and foremost be reliable and accurate, behave predictably, and operate within in the boundaries of applicable rules and regulations, including nonfinancial regulations, such as the GDPR. This aspect becomes particularly important when financial firms start to apply identical (or relatively similar) AI driven solutions and systemic risks might arise. Financial\n",
        "firms applying AI in their business processes should demonstrate that they have taken all necessary measures to ensure their business continuity.\n",
        "\n",
        "1. Ensure general compliance with regulatory\n",
        "obligations regarding AI applications.\n",
        "2. Mitigate financial (and other relevant\n",
        "prudential) risks in the development and use\n",
        "of AI applications.\n",
        "3. Pay special attention to the mitigation of\n",
        "model risk for material AI applications.\n",
        "4. Safeguard and improve the quality of data\n",
        "used by AI applications.\n",
        "5. Be in control of (the correct functioning of)\n",
        "procured and/or outsourced AI applications."
      ]
    },
    {
      "cell_type": "markdown",
      "metadata": {
        "id": "JvwXCI3YCplu"
      },
      "source": [
        "### Accountability\n",
        "\n",
        "The workings of AI applications can be complex and\n",
        "difficult to understand. Furthermore, AI applications\n",
        "may not always function as intended and can result\n",
        "in damages for the firm itself, its customers and/\n",
        "or other relevant stakeholders. Especially when\n",
        "AI applications become more material, financial\n",
        "firms should demonstrate unequivocally that they\n",
        "understand their responsibility for AI applications\n",
        "and that they have operationalised accountability\n",
        "for these applications throughout their organisation.\n",
        "Model complexity or third party reliance should\n",
        "never be used as arguments for limiting the\n",
        "organisation’s accountability.\n",
        "\n",
        "6. Assign final accountability for AI applications\n",
        "and the management of associated risks\n",
        "clearly at the board of directors level.\n",
        "7. Integrate accountability in the organisation’s\n",
        "risk management framework.\n",
        "8. Operationalise accountability with regard to\n",
        "external stakeholders."
      ]
    },
    {
      "cell_type": "markdown",
      "metadata": {
        "id": "w4XlErKIFv9j"
      },
      "source": [
        "### Fairness\n",
        "\n",
        "Although fairness is primarily a conduct risk issue,\n",
        "it is vital for society’s trust in the financial sector\n",
        "that financial firms’ AI applications – individually\n",
        "or collectively – do not inadvertently disadvantage\n",
        "certain groups of customers. Whether we are\n",
        "talking about an AI that monitors transactions to\n",
        "detect money laundering, or one that facilitates loan\n",
        "decisions, financial firms should be able to define\n",
        "their concept of fairness and demonstrate how they\n",
        "ensure that their AI applications behave accordingly.\n",
        "\n",
        "9. Define and operationalise the concept of\n",
        "fairness in relation to your AI applications.\n",
        "10. Review (the outcomes of) AI applications for\n",
        "unintentional bias."
      ]
    },
    {
      "cell_type": "markdown",
      "metadata": {
        "id": "cxEUpc6ZC4ZD"
      },
      "source": [
        "### Ethics\n",
        "\n",
        "As AI applications take on tasks that previously\n",
        "required human intelligence, financial firms should\n",
        "ensure that the outcomes of these systems do\n",
        "not violate the firm’s ethical standards. This moral\n",
        "obligation goes above and beyond compliance\n",
        "with applicable legal requirements. Financial firms\n",
        "should ensure that their customers, as well as other\n",
        "stakeholders, can trust that they are not mistreated\n",
        "or harmed – directly or indirectly – because of the\n",
        "firm’s deployment of AI, even if such applications\n",
        "operate within the boundaries of applicable laws\n",
        "and regulations.\n",
        "\n",
        "11. Specify objectives, standards, and\n",
        "requirements in an ethical code, to guide the\n",
        "adoption and application of AI.\n",
        "12. Align the (outcome of) AI applications with\n",
        "your organisation’s legal obligations, values\n",
        "and principles."
      ]
    },
    {
      "cell_type": "markdown",
      "metadata": {
        "id": "wOQQOgh_C9sx"
      },
      "source": [
        "### Skills\n",
        "\n",
        "As most AI applications augment human tasks,\n",
        "financial firms’ employees and management will\n",
        "increasingly come to rely on AI applications to\n",
        "support them in their work. Like with many other\n",
        "tools, wrong use can result in accidents and it is\n",
        "the organisation’s responsibility to ensure that\n",
        "their (senior) management, risk management and\n",
        "compliance functions have an adequate level of\n",
        "expertise. From the work floor to the board room,\n",
        "a sufficient understanding of the strengths and\n",
        "limitations of the organisation’s AI-enabled systems\n",
        "is vital.\n",
        "\n",
        "13. Ensure that senior management has a\n",
        "suitable understanding of AI (in relation to\n",
        "their roles and responsibilities).\n",
        "14. Train risk management and compliance\n",
        "personnel in AI.\n",
        "15. Develop awareness and understanding of\n",
        "AI within your organisation."
      ]
    },
    {
      "cell_type": "markdown",
      "metadata": {
        "id": "fTdfMeXmDD1b"
      },
      "source": [
        "### Transparency\n",
        "\n",
        "Transparency means that financial firms should be\n",
        "able to explain how they use AI in their business\n",
        "processes, and (where reasonably appropriate)\n",
        "how these applications function. Adherence to\n",
        "this principle enables adequate risk management\n",
        "and internal audits. This also means effective\n",
        "supervision of the correct workings of the firm’s AI\n",
        "applications to ensure stable operations. When the\n",
        "materiality of AI applications increases, so should\n",
        "the organisation’s efforts in understanding and\n",
        "controlling the applications' functioning. \n",
        "\n",
        "16. Be transparent about your policy and\n",
        "decisions regarding the adoption and use of\n",
        "AI internally.\n",
        "17. Advance traceability and explainability of\n",
        "AI driven decisions and model outcomes."
      ]
    },
    {
      "cell_type": "markdown",
      "metadata": {
        "id": "BiTB5T-kHUyV"
      },
      "source": [
        "## Interpretability\n",
        "\n",
        "You need to understand why your model makes a certain prediction. For this you need a tool to **explain a model** (have a qualitative understanding of the relationship between the prediction of the model and the components of the data that the model used to generate that prediction). \n",
        "\n",
        "Your Random Forest Classifier is interpretable. **Interpretability** refers to how easy it is for humans to understand the processes the model uses to make a prediction. \n",
        "\n",
        "[SHAP (SHapley Additive exPlanations)](https://shap-lrjball.readthedocs.io/en/docs_update/index.html) is a game theoretic approach to explain the output of any machine learning model. "
      ]
    },
    {
      "cell_type": "code",
      "execution_count": 65,
      "metadata": {
        "colab": {
          "base_uri": "https://localhost:8080/",
          "height": 386
        },
        "id": "aP6QUwT6dT6U",
        "outputId": "aab1e1e7-2fac-49fd-cfd4-a39c6f880085"
      },
      "outputs": [
        {
          "data": {
            "image/png": "[encoded data removed]",
            "text/plain": [
              "<Figure size 576x424.8 with 1 Axes>"
            ]
          },
          "metadata": {
            "needs_background": "light"
          },
          "output_type": "display_data"
        }
      ],
      "source": [
        "# create model explainer with shap\n",
        "explainer = shap.TreeExplainer(model)\n",
        "\n",
        "# estimate SHAP values for train set\n",
        "shap_values = explainer.shap_values(X_train)\n",
        "\n",
        "# plot SHAP values colored by feature values for train set\n",
        "shap.summary_plot(shap_values,X_train)"
      ]
    },
    {
      "cell_type": "markdown",
      "metadata": {
        "id": "XfX5sYY8Cl6R"
      },
      "source": [
        "## Data Leakage\n",
        "\n",
        "A few variables look suspicious. For example, does expenditure mean expenditure on this card or on cards used before appying?\n",
        "\n"
      ]
    },
    {
      "cell_type": "code",
      "execution_count": 68,
      "metadata": {
        "colab": {
          "base_uri": "https://localhost:8080/"
        },
        "id": "MKok_E7bC9ep",
        "outputId": "c8604ded-12c9-4544-ad7a-201601c818e5"
      },
      "outputs": [
        {
          "name": "stdout",
          "output_type": "stream",
          "text": [
            "Fraction of those who did not receive a card and had no expenditures: 1.00\n",
            "Fraction of those who received a card and had no expenditures: 0.02\n"
          ]
        }
      ],
      "source": [
        "# store expenditures of all credit card holders in expenditures_cardholders variable\n",
        "expenditures_cardholders = credit_card.expenditure[y]\n",
        "\n",
        "# store expenditures of non credit card holders in expenditures_noncardholders variable\n",
        "expenditures_noncardholders = credit_card.expenditure[~y]\n",
        "\n",
        "print('Fraction of those who did not receive a card and had no expenditures: %.2f' \\\n",
        "      %((expenditures_noncardholders == 0).mean()))\n",
        "print('Fraction of those who received a card and had no expenditures: %.2f' \\\n",
        "      %(( expenditures_cardholders == 0).mean()))"
      ]
    },
    {
      "cell_type": "markdown",
      "metadata": {
        "id": "mcIrqdfcDMeB"
      },
      "source": [
        "As shown above, everyone who did not receive a card had no expenditures, while only 2% of those who received a card had no expenditures. It's not surprising that our model appeared to have a high accuracy. But this also seems to be a case of target leakage, where expenditures probably means expenditures on the card they applied for.\n",
        "\n",
        "Since share is partially determined by expenditure, it should be excluded too. The variables active and majorcards are a little less clear, but from the description, they sound concerning. In most situations, it's better to be safe than sorry if you can't track down the people who created the data to find out more.\n",
        "\n",
        "We would run a model without target leakage as follows:"
      ]
    },
    {
      "cell_type": "code",
      "execution_count": 70,
      "metadata": {
        "id": "Lm6_aYXPddyb"
      },
      "outputs": [],
      "source": [
        "# store all \"leaking\" column names as a list in potential_leaks variable\n",
        "potential_leaks = [\"expenditure\", \"share\", \"active\", \"majorcards\"]\n",
        "\n",
        "# create clean set by droping \"leaking\" columns, store in clean_X variable\n",
        "clean_X = X.drop(potential_leaks, axis=1)\n",
        "\n",
        "# split clean_X and y into train test set, keep 30% of the data for testing, with random state equal to zero\n",
        "clean_X_train, clean_X_test, y_train, y_test = train_test_split(clean_X, y, test_size=0.3, random_state=0)\n",
        "\n",
        "# create your clean model with RandomForestClassifier with 11 trees and entropy for the quality of split\n",
        "clean_model = RandomForestClassifier(n_estimators=11, criterion=\"entropy\")\n",
        "# train your clean model using clean train set\n",
        "clean_model.fit(clean_X_train, y_train)\n",
        "# generate predictions for clean test set and store them in clean_y_pred variable\n",
        "clean_y_pred = clean_model.predict(clean_X_test)"
      ]
    },
    {
      "cell_type": "code",
      "execution_count": 71,
      "metadata": {
        "colab": {
          "base_uri": "https://localhost:8080/",
          "height": 297
        },
        "id": "suFtyVJjdf7u",
        "outputId": "5d0d514e-46cf-4a9a-b7b6-1cd4bc0c0e3e"
      },
      "outputs": [
        {
          "data": {
            "text/plain": [
              "<sklearn.metrics._plot.confusion_matrix.ConfusionMatrixDisplay at 0x7fd006a98e50>"
            ]
          },
          "execution_count": 71,
          "metadata": {},
          "output_type": "execute_result"
        },
        {
          "data": {
            "image/png": "[encoded data removed]",
            "text/plain": [
              "<Figure size 432x288 with 2 Axes>"
            ]
          },
          "metadata": {
            "needs_background": "light"
          },
          "output_type": "display_data"
        }
      ],
      "source": [
        "# create clean confusion matrix with model classes as labels\n",
        "clean_confusion_matrix_model = confusion_matrix(y_test, clean_y_pred, labels=clean_model.classes_)\n",
        "\n",
        "# prepate confusion matrix to be plotted, with model classes as display_labels\n",
        "disp = ConfusionMatrixDisplay(clean_confusion_matrix_model,display_labels=clean_model.classes_)\n",
        "# plot your confusion matrix\n",
        "disp.plot()"
      ]
    },
    {
      "cell_type": "code",
      "execution_count": 72,
      "metadata": {
        "colab": {
          "base_uri": "https://localhost:8080/"
        },
        "id": "LdVZoZCNdfxP",
        "outputId": "c2d6db97-3db5-47a6-f767-e6998fc685df"
      },
      "outputs": [
        {
          "data": {
            "text/plain": [
              "{'False': {'f1-score': 0.5135135135135134,\n",
              "  'precision': 0.5846153846153846,\n",
              "  'recall': 0.4578313253012048,\n",
              "  'support': 83},\n",
              " 'True': {'f1-score': 0.888198757763975,\n",
              "  'precision': 0.8640483383685801,\n",
              "  'recall': 0.9137380191693291,\n",
              "  'support': 313},\n",
              " 'accuracy': 0.8181818181818182,\n",
              " 'macro avg': {'f1-score': 0.7008561356387442,\n",
              "  'precision': 0.7243318614919824,\n",
              "  'recall': 0.685784672235267,\n",
              "  'support': 396},\n",
              " 'weighted avg': {'f1-score': 0.809666244448853,\n",
              "  'precision': 0.8054803202839457,\n",
              "  'recall': 0.8181818181818182,\n",
              "  'support': 396}}"
            ]
          },
          "execution_count": 72,
          "metadata": {},
          "output_type": "execute_result"
        }
      ],
      "source": [
        "# generate classification report and show it as a dictionary\n",
        "classification_report(y_test,clean_y_pred, output_dict=True)"
      ]
    },
    {
      "cell_type": "code",
      "execution_count": 74,
      "metadata": {
        "colab": {
          "base_uri": "https://localhost:8080/",
          "height": 299
        },
        "id": "tnuMiZMtdfcC",
        "outputId": "05ffa039-a6e9-4dbe-8a61-877049855e94"
      },
      "outputs": [
        {
          "data": {
            "image/png": "[encoded data removed]",
            "text/plain": [
              "<Figure size 576x309.6 with 1 Axes>"
            ]
          },
          "metadata": {
            "needs_background": "light"
          },
          "output_type": "display_data"
        }
      ],
      "source": [
        "# create clean model explainer with shap\n",
        "explainer = shap.TreeExplainer(clean_model)\n",
        "\n",
        "# estimate SHAP values for clean train set\n",
        "shap_values = explainer.shap_values(clean_X_train)\n",
        "\n",
        "# plot SHAP values colored by feature values for train set\n",
        "shap.summary_plot(shap_values,clean_X_train)"
      ]
    },
    {
      "cell_type": "markdown",
      "metadata": {
        "id": "uJqN8-5sd5K9"
      },
      "source": [
        "# Concluding Remarks (5 min)"
      ]
    },
    {
      "cell_type": "markdown",
      "metadata": {
        "id": "kqU72auDeKBq"
      },
      "source": [
        "**The main take aways** of this lecture are:\n",
        "\n",
        "* A lot of AI models is already used in Finance and even more to come\n",
        "* Python is a great tool to build AI models\n",
        "* Each and every AI model comes with consequences of using it in real life"
      ]
    },
    {
      "cell_type": "markdown",
      "metadata": {
        "id": "v9NCsatYozQ1"
      },
      "source": [
        "\n",
        "## Further Resources on AI in Finance\n",
        "\n",
        "* Artificial Intelligence in Finance, ISBN 978-1-492-05543-3\n",
        "* Machine Learning and Data Science Blueprints for Finance, ISBN 978-1-492-07305-5\n",
        "* Machine Learning for Finance, ISBN 978-1-78913-636-4 \n",
        "* Hands-On Artificial Intelligence for Banking, ISBN 978-1-78883-078-2\n",
        "* Python for Algorithmic Trading, ISBN 978-1-492-05335-4\n"
      ]
    },
    {
      "cell_type": "markdown",
      "metadata": {
        "id": "AUqYArNMdRRZ"
      },
      "source": [
        "## Used Materials\n",
        "\n",
        "* [General principles for the\n",
        "use of Artificial Intelligence\n",
        "in the financial sector](https://www.dnb.nl/media/voffsric/general-principles-for-the-use-of-artificial-intelligence-in-the-financial-sector.pdf)\n",
        "* [The Future of AI and Automation in Financial Services](https://www3.weforum.org/docs/WEF_Forging_New_Pathways_2020.pdf)\n",
        "* [Credit Card Dataset](https://www.kaggle.com/datasets/dansbecker/aer-credit-card-data)\n",
        "* [Data Leakage](https://www.kaggle.com/code/alexisbcook/data-leakage) "
      ]
    }
  ],
  "metadata": {
    "colab": {
      "name": "Python Lecture - AI in Finance.ipynb",
      "provenance": [],
      "toc_visible": true
    },
    "kernelspec": {
      "display_name": "Python 3",
      "name": "python3"
    },
    "language_info": {
      "name": "python"
    }
  },
  "nbformat": 4,
  "nbformat_minor": 0
}
